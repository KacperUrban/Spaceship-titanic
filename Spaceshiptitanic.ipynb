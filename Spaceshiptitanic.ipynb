{
 "cells": [
  {
   "cell_type": "code",
   "execution_count": 1,
   "id": "12313c78",
   "metadata": {
    "_cell_guid": "b1076dfc-b9ad-4769-8c92-a6c4dae69d19",
    "_uuid": "8f2839f25d086af736a60e9eeb907d3b93b6e0e5",
    "execution": {
     "iopub.execute_input": "2023-10-24T16:11:50.240225Z",
     "iopub.status.busy": "2023-10-24T16:11:50.239398Z",
     "iopub.status.idle": "2023-10-24T16:11:50.251606Z",
     "shell.execute_reply": "2023-10-24T16:11:50.250586Z"
    },
    "papermill": {
     "duration": 0.033209,
     "end_time": "2023-10-24T16:11:50.253876",
     "exception": false,
     "start_time": "2023-10-24T16:11:50.220667",
     "status": "completed"
    },
    "tags": []
   },
   "outputs": [
    {
     "name": "stdout",
     "output_type": "stream",
     "text": [
      "/kaggle/input/spaceship-titanic/sample_submission.csv\n",
      "/kaggle/input/spaceship-titanic/train.csv\n",
      "/kaggle/input/spaceship-titanic/test.csv\n"
     ]
    }
   ],
   "source": [
    "# Input data files are available in the read-only \"../input/\" directory\n",
    "# For example, running this (by clicking run or pressing Shift+Enter) will list all files under the input directory\n",
    "\n",
    "import os\n",
    "for dirname, _, filenames in os.walk('/kaggle/input'):\n",
    "    for filename in filenames:\n",
    "        print(os.path.join(dirname, filename))\n",
    "\n",
    "# You can write up to 20GB to the current directory (/kaggle/working/) that gets preserved as output when you create a version using \"Save & Run All\" \n",
    "# You can also write temporary files to /kaggle/temp/, but they won't be saved outside of the current session"
   ]
  },
  {
   "cell_type": "markdown",
   "id": "fec51fa8",
   "metadata": {
    "papermill": {
     "duration": 0.015882,
     "end_time": "2023-10-24T16:11:50.286667",
     "exception": false,
     "start_time": "2023-10-24T16:11:50.270785",
     "status": "completed"
    },
    "tags": []
   },
   "source": [
    "## Import the libraries"
   ]
  },
  {
   "cell_type": "code",
   "execution_count": 2,
   "id": "95c0ca56",
   "metadata": {
    "execution": {
     "iopub.execute_input": "2023-10-24T16:11:50.321492Z",
     "iopub.status.busy": "2023-10-24T16:11:50.320546Z",
     "iopub.status.idle": "2023-10-24T16:11:53.188953Z",
     "shell.execute_reply": "2023-10-24T16:11:53.187871Z"
    },
    "papermill": {
     "duration": 2.888828,
     "end_time": "2023-10-24T16:11:53.191654",
     "exception": false,
     "start_time": "2023-10-24T16:11:50.302826",
     "status": "completed"
    },
    "tags": []
   },
   "outputs": [],
   "source": [
    "import numpy as np\n",
    "import pandas as pd\n",
    "from sklearn.preprocessing import OneHotEncoder, StandardScaler, FunctionTransformer\n",
    "from sklearn.impute import SimpleImputer\n",
    "from sklearn.linear_model import LogisticRegression\n",
    "from sklearn.ensemble import VotingClassifier\n",
    "from sklearn.tree import DecisionTreeClassifier\n",
    "from sklearn.svm import SVC\n",
    "from sklearn.model_selection import cross_val_score, train_test_split, GridSearchCV\n",
    "from sklearn.metrics import f1_score, confusion_matrix, accuracy_score\n",
    "from sklearn.compose import make_column_selector, make_column_transformer\n",
    "from sklearn.pipeline import make_pipeline\n",
    "from xgboost import XGBClassifier\n",
    "import seaborn as sns\n",
    "import matplotlib.pyplot as plt\n",
    "import sys\n",
    "import warnings\n",
    "from catboost import CatBoostClassifier\n",
    "\n",
    "if not sys.warnoptions:\n",
    "    warnings.simplefilter(\"ignore\")\n",
    "    os.environ[\"PYTHONWARNINGS\"] = \"ignore\""
   ]
  },
  {
   "cell_type": "markdown",
   "id": "066b59fc",
   "metadata": {
    "papermill": {
     "duration": 0.015926,
     "end_time": "2023-10-24T16:11:53.223829",
     "exception": false,
     "start_time": "2023-10-24T16:11:53.207903",
     "status": "completed"
    },
    "tags": []
   },
   "source": [
    "## Load a datasets from files"
   ]
  },
  {
   "cell_type": "code",
   "execution_count": 3,
   "id": "71db8548",
   "metadata": {
    "execution": {
     "iopub.execute_input": "2023-10-24T16:11:53.258464Z",
     "iopub.status.busy": "2023-10-24T16:11:53.257533Z",
     "iopub.status.idle": "2023-10-24T16:11:53.341895Z",
     "shell.execute_reply": "2023-10-24T16:11:53.340695Z"
    },
    "papermill": {
     "duration": 0.104558,
     "end_time": "2023-10-24T16:11:53.344534",
     "exception": false,
     "start_time": "2023-10-24T16:11:53.239976",
     "status": "completed"
    },
    "tags": []
   },
   "outputs": [],
   "source": [
    "space = pd.read_csv(\"/kaggle/input/spaceship-titanic/train.csv\")\n",
    "submission_set = pd.read_csv(\"/kaggle/input/spaceship-titanic/test.csv\")"
   ]
  },
  {
   "cell_type": "markdown",
   "id": "3352bb7d",
   "metadata": {
    "papermill": {
     "duration": 0.016277,
     "end_time": "2023-10-24T16:11:53.376994",
     "exception": false,
     "start_time": "2023-10-24T16:11:53.360717",
     "status": "completed"
    },
    "tags": []
   },
   "source": [
    "## Divide data into X and y"
   ]
  },
  {
   "cell_type": "code",
   "execution_count": 4,
   "id": "7d62f62a",
   "metadata": {
    "execution": {
     "iopub.execute_input": "2023-10-24T16:11:53.410566Z",
     "iopub.status.busy": "2023-10-24T16:11:53.410181Z",
     "iopub.status.idle": "2023-10-24T16:11:53.431028Z",
     "shell.execute_reply": "2023-10-24T16:11:53.430238Z"
    },
    "papermill": {
     "duration": 0.040238,
     "end_time": "2023-10-24T16:11:53.433226",
     "exception": false,
     "start_time": "2023-10-24T16:11:53.392988",
     "status": "completed"
    },
    "tags": []
   },
   "outputs": [],
   "source": [
    "X_space = space.drop([\"Transported\"], axis=1)\n",
    "y_space = space[\"Transported\"]"
   ]
  },
  {
   "cell_type": "markdown",
   "id": "92b52a31",
   "metadata": {
    "papermill": {
     "duration": 0.015752,
     "end_time": "2023-10-24T16:11:53.465319",
     "exception": false,
     "start_time": "2023-10-24T16:11:53.449567",
     "status": "completed"
    },
    "tags": []
   },
   "source": [
    "## EDA"
   ]
  },
  {
   "cell_type": "code",
   "execution_count": 5,
   "id": "4a9a35f5",
   "metadata": {
    "execution": {
     "iopub.execute_input": "2023-10-24T16:11:53.558752Z",
     "iopub.status.busy": "2023-10-24T16:11:53.557459Z",
     "iopub.status.idle": "2023-10-24T16:11:53.581469Z",
     "shell.execute_reply": "2023-10-24T16:11:53.580408Z"
    },
    "papermill": {
     "duration": 0.101999,
     "end_time": "2023-10-24T16:11:53.583633",
     "exception": false,
     "start_time": "2023-10-24T16:11:53.481634",
     "status": "completed"
    },
    "tags": []
   },
   "outputs": [
    {
     "data": {
      "text/html": [
       "<div>\n",
       "<style scoped>\n",
       "    .dataframe tbody tr th:only-of-type {\n",
       "        vertical-align: middle;\n",
       "    }\n",
       "\n",
       "    .dataframe tbody tr th {\n",
       "        vertical-align: top;\n",
       "    }\n",
       "\n",
       "    .dataframe thead th {\n",
       "        text-align: right;\n",
       "    }\n",
       "</style>\n",
       "<table border=\"1\" class=\"dataframe\">\n",
       "  <thead>\n",
       "    <tr style=\"text-align: right;\">\n",
       "      <th></th>\n",
       "      <th>PassengerId</th>\n",
       "      <th>HomePlanet</th>\n",
       "      <th>CryoSleep</th>\n",
       "      <th>Cabin</th>\n",
       "      <th>Destination</th>\n",
       "      <th>Age</th>\n",
       "      <th>VIP</th>\n",
       "      <th>RoomService</th>\n",
       "      <th>FoodCourt</th>\n",
       "      <th>ShoppingMall</th>\n",
       "      <th>Spa</th>\n",
       "      <th>VRDeck</th>\n",
       "      <th>Name</th>\n",
       "    </tr>\n",
       "  </thead>\n",
       "  <tbody>\n",
       "    <tr>\n",
       "      <th>0</th>\n",
       "      <td>0001_01</td>\n",
       "      <td>Europa</td>\n",
       "      <td>False</td>\n",
       "      <td>B/0/P</td>\n",
       "      <td>TRAPPIST-1e</td>\n",
       "      <td>39.0</td>\n",
       "      <td>False</td>\n",
       "      <td>0.0</td>\n",
       "      <td>0.0</td>\n",
       "      <td>0.0</td>\n",
       "      <td>0.0</td>\n",
       "      <td>0.0</td>\n",
       "      <td>Maham Ofracculy</td>\n",
       "    </tr>\n",
       "    <tr>\n",
       "      <th>1</th>\n",
       "      <td>0002_01</td>\n",
       "      <td>Earth</td>\n",
       "      <td>False</td>\n",
       "      <td>F/0/S</td>\n",
       "      <td>TRAPPIST-1e</td>\n",
       "      <td>24.0</td>\n",
       "      <td>False</td>\n",
       "      <td>109.0</td>\n",
       "      <td>9.0</td>\n",
       "      <td>25.0</td>\n",
       "      <td>549.0</td>\n",
       "      <td>44.0</td>\n",
       "      <td>Juanna Vines</td>\n",
       "    </tr>\n",
       "    <tr>\n",
       "      <th>2</th>\n",
       "      <td>0003_01</td>\n",
       "      <td>Europa</td>\n",
       "      <td>False</td>\n",
       "      <td>A/0/S</td>\n",
       "      <td>TRAPPIST-1e</td>\n",
       "      <td>58.0</td>\n",
       "      <td>True</td>\n",
       "      <td>43.0</td>\n",
       "      <td>3576.0</td>\n",
       "      <td>0.0</td>\n",
       "      <td>6715.0</td>\n",
       "      <td>49.0</td>\n",
       "      <td>Altark Susent</td>\n",
       "    </tr>\n",
       "    <tr>\n",
       "      <th>3</th>\n",
       "      <td>0003_02</td>\n",
       "      <td>Europa</td>\n",
       "      <td>False</td>\n",
       "      <td>A/0/S</td>\n",
       "      <td>TRAPPIST-1e</td>\n",
       "      <td>33.0</td>\n",
       "      <td>False</td>\n",
       "      <td>0.0</td>\n",
       "      <td>1283.0</td>\n",
       "      <td>371.0</td>\n",
       "      <td>3329.0</td>\n",
       "      <td>193.0</td>\n",
       "      <td>Solam Susent</td>\n",
       "    </tr>\n",
       "    <tr>\n",
       "      <th>4</th>\n",
       "      <td>0004_01</td>\n",
       "      <td>Earth</td>\n",
       "      <td>False</td>\n",
       "      <td>F/1/S</td>\n",
       "      <td>TRAPPIST-1e</td>\n",
       "      <td>16.0</td>\n",
       "      <td>False</td>\n",
       "      <td>303.0</td>\n",
       "      <td>70.0</td>\n",
       "      <td>151.0</td>\n",
       "      <td>565.0</td>\n",
       "      <td>2.0</td>\n",
       "      <td>Willy Santantines</td>\n",
       "    </tr>\n",
       "  </tbody>\n",
       "</table>\n",
       "</div>"
      ],
      "text/plain": [
       "  PassengerId HomePlanet CryoSleep  Cabin  Destination   Age    VIP  \\\n",
       "0     0001_01     Europa     False  B/0/P  TRAPPIST-1e  39.0  False   \n",
       "1     0002_01      Earth     False  F/0/S  TRAPPIST-1e  24.0  False   \n",
       "2     0003_01     Europa     False  A/0/S  TRAPPIST-1e  58.0   True   \n",
       "3     0003_02     Europa     False  A/0/S  TRAPPIST-1e  33.0  False   \n",
       "4     0004_01      Earth     False  F/1/S  TRAPPIST-1e  16.0  False   \n",
       "\n",
       "   RoomService  FoodCourt  ShoppingMall     Spa  VRDeck               Name  \n",
       "0          0.0        0.0           0.0     0.0     0.0    Maham Ofracculy  \n",
       "1        109.0        9.0          25.0   549.0    44.0       Juanna Vines  \n",
       "2         43.0     3576.0           0.0  6715.0    49.0      Altark Susent  \n",
       "3          0.0     1283.0         371.0  3329.0   193.0       Solam Susent  \n",
       "4        303.0       70.0         151.0   565.0     2.0  Willy Santantines  "
      ]
     },
     "execution_count": 5,
     "metadata": {},
     "output_type": "execute_result"
    }
   ],
   "source": [
    "X_space.head()"
   ]
  },
  {
   "cell_type": "code",
   "execution_count": 6,
   "id": "7bdf23c9",
   "metadata": {
    "execution": {
     "iopub.execute_input": "2023-10-24T16:11:53.619719Z",
     "iopub.status.busy": "2023-10-24T16:11:53.618857Z",
     "iopub.status.idle": "2023-10-24T16:11:53.643569Z",
     "shell.execute_reply": "2023-10-24T16:11:53.642170Z"
    },
    "papermill": {
     "duration": 0.045226,
     "end_time": "2023-10-24T16:11:53.645892",
     "exception": false,
     "start_time": "2023-10-24T16:11:53.600666",
     "status": "completed"
    },
    "tags": []
   },
   "outputs": [
    {
     "name": "stdout",
     "output_type": "stream",
     "text": [
      "<class 'pandas.core.frame.DataFrame'>\n",
      "RangeIndex: 8693 entries, 0 to 8692\n",
      "Data columns (total 13 columns):\n",
      " #   Column        Non-Null Count  Dtype  \n",
      "---  ------        --------------  -----  \n",
      " 0   PassengerId   8693 non-null   object \n",
      " 1   HomePlanet    8492 non-null   object \n",
      " 2   CryoSleep     8476 non-null   object \n",
      " 3   Cabin         8494 non-null   object \n",
      " 4   Destination   8511 non-null   object \n",
      " 5   Age           8514 non-null   float64\n",
      " 6   VIP           8490 non-null   object \n",
      " 7   RoomService   8512 non-null   float64\n",
      " 8   FoodCourt     8510 non-null   float64\n",
      " 9   ShoppingMall  8485 non-null   float64\n",
      " 10  Spa           8510 non-null   float64\n",
      " 11  VRDeck        8505 non-null   float64\n",
      " 12  Name          8493 non-null   object \n",
      "dtypes: float64(6), object(7)\n",
      "memory usage: 883.0+ KB\n"
     ]
    }
   ],
   "source": [
    "X_space.info()"
   ]
  },
  {
   "cell_type": "code",
   "execution_count": 7,
   "id": "e95ccb26",
   "metadata": {
    "execution": {
     "iopub.execute_input": "2023-10-24T16:11:53.681291Z",
     "iopub.status.busy": "2023-10-24T16:11:53.680886Z",
     "iopub.status.idle": "2023-10-24T16:11:53.710161Z",
     "shell.execute_reply": "2023-10-24T16:11:53.709351Z"
    },
    "papermill": {
     "duration": 0.049751,
     "end_time": "2023-10-24T16:11:53.712396",
     "exception": false,
     "start_time": "2023-10-24T16:11:53.662645",
     "status": "completed"
    },
    "tags": []
   },
   "outputs": [
    {
     "data": {
      "text/html": [
       "<div>\n",
       "<style scoped>\n",
       "    .dataframe tbody tr th:only-of-type {\n",
       "        vertical-align: middle;\n",
       "    }\n",
       "\n",
       "    .dataframe tbody tr th {\n",
       "        vertical-align: top;\n",
       "    }\n",
       "\n",
       "    .dataframe thead th {\n",
       "        text-align: right;\n",
       "    }\n",
       "</style>\n",
       "<table border=\"1\" class=\"dataframe\">\n",
       "  <thead>\n",
       "    <tr style=\"text-align: right;\">\n",
       "      <th></th>\n",
       "      <th>Age</th>\n",
       "      <th>RoomService</th>\n",
       "      <th>FoodCourt</th>\n",
       "      <th>ShoppingMall</th>\n",
       "      <th>Spa</th>\n",
       "      <th>VRDeck</th>\n",
       "    </tr>\n",
       "  </thead>\n",
       "  <tbody>\n",
       "    <tr>\n",
       "      <th>count</th>\n",
       "      <td>8514.000000</td>\n",
       "      <td>8512.000000</td>\n",
       "      <td>8510.000000</td>\n",
       "      <td>8485.000000</td>\n",
       "      <td>8510.000000</td>\n",
       "      <td>8505.000000</td>\n",
       "    </tr>\n",
       "    <tr>\n",
       "      <th>mean</th>\n",
       "      <td>28.827930</td>\n",
       "      <td>224.687617</td>\n",
       "      <td>458.077203</td>\n",
       "      <td>173.729169</td>\n",
       "      <td>311.138778</td>\n",
       "      <td>304.854791</td>\n",
       "    </tr>\n",
       "    <tr>\n",
       "      <th>std</th>\n",
       "      <td>14.489021</td>\n",
       "      <td>666.717663</td>\n",
       "      <td>1611.489240</td>\n",
       "      <td>604.696458</td>\n",
       "      <td>1136.705535</td>\n",
       "      <td>1145.717189</td>\n",
       "    </tr>\n",
       "    <tr>\n",
       "      <th>min</th>\n",
       "      <td>0.000000</td>\n",
       "      <td>0.000000</td>\n",
       "      <td>0.000000</td>\n",
       "      <td>0.000000</td>\n",
       "      <td>0.000000</td>\n",
       "      <td>0.000000</td>\n",
       "    </tr>\n",
       "    <tr>\n",
       "      <th>25%</th>\n",
       "      <td>19.000000</td>\n",
       "      <td>0.000000</td>\n",
       "      <td>0.000000</td>\n",
       "      <td>0.000000</td>\n",
       "      <td>0.000000</td>\n",
       "      <td>0.000000</td>\n",
       "    </tr>\n",
       "    <tr>\n",
       "      <th>50%</th>\n",
       "      <td>27.000000</td>\n",
       "      <td>0.000000</td>\n",
       "      <td>0.000000</td>\n",
       "      <td>0.000000</td>\n",
       "      <td>0.000000</td>\n",
       "      <td>0.000000</td>\n",
       "    </tr>\n",
       "    <tr>\n",
       "      <th>75%</th>\n",
       "      <td>38.000000</td>\n",
       "      <td>47.000000</td>\n",
       "      <td>76.000000</td>\n",
       "      <td>27.000000</td>\n",
       "      <td>59.000000</td>\n",
       "      <td>46.000000</td>\n",
       "    </tr>\n",
       "    <tr>\n",
       "      <th>max</th>\n",
       "      <td>79.000000</td>\n",
       "      <td>14327.000000</td>\n",
       "      <td>29813.000000</td>\n",
       "      <td>23492.000000</td>\n",
       "      <td>22408.000000</td>\n",
       "      <td>24133.000000</td>\n",
       "    </tr>\n",
       "  </tbody>\n",
       "</table>\n",
       "</div>"
      ],
      "text/plain": [
       "               Age   RoomService     FoodCourt  ShoppingMall           Spa  \\\n",
       "count  8514.000000   8512.000000   8510.000000   8485.000000   8510.000000   \n",
       "mean     28.827930    224.687617    458.077203    173.729169    311.138778   \n",
       "std      14.489021    666.717663   1611.489240    604.696458   1136.705535   \n",
       "min       0.000000      0.000000      0.000000      0.000000      0.000000   \n",
       "25%      19.000000      0.000000      0.000000      0.000000      0.000000   \n",
       "50%      27.000000      0.000000      0.000000      0.000000      0.000000   \n",
       "75%      38.000000     47.000000     76.000000     27.000000     59.000000   \n",
       "max      79.000000  14327.000000  29813.000000  23492.000000  22408.000000   \n",
       "\n",
       "             VRDeck  \n",
       "count   8505.000000  \n",
       "mean     304.854791  \n",
       "std     1145.717189  \n",
       "min        0.000000  \n",
       "25%        0.000000  \n",
       "50%        0.000000  \n",
       "75%       46.000000  \n",
       "max    24133.000000  "
      ]
     },
     "execution_count": 7,
     "metadata": {},
     "output_type": "execute_result"
    }
   ],
   "source": [
    "X_space.describe()"
   ]
  },
  {
   "cell_type": "code",
   "execution_count": 8,
   "id": "f4da697c",
   "metadata": {
    "execution": {
     "iopub.execute_input": "2023-10-24T16:11:53.749040Z",
     "iopub.status.busy": "2023-10-24T16:11:53.748415Z",
     "iopub.status.idle": "2023-10-24T16:11:53.757485Z",
     "shell.execute_reply": "2023-10-24T16:11:53.756583Z"
    },
    "papermill": {
     "duration": 0.029999,
     "end_time": "2023-10-24T16:11:53.759696",
     "exception": false,
     "start_time": "2023-10-24T16:11:53.729697",
     "status": "completed"
    },
    "tags": []
   },
   "outputs": [
    {
     "name": "stdout",
     "output_type": "stream",
     "text": [
      "Missing values sum by the particular columns:\n",
      "PassengerId       0\n",
      "HomePlanet      201\n",
      "CryoSleep       217\n",
      "Cabin           199\n",
      "Destination     182\n",
      "Age             179\n",
      "VIP             203\n",
      "RoomService     181\n",
      "FoodCourt       183\n",
      "ShoppingMall    208\n",
      "Spa             183\n",
      "VRDeck          188\n",
      "Name            200\n",
      "dtype: int64\n"
     ]
    }
   ],
   "source": [
    "nl = '\\n'\n",
    "print(f\"Missing values sum by the particular columns:{nl}{X_space.isna().sum()}\")"
   ]
  },
  {
   "cell_type": "code",
   "execution_count": 9,
   "id": "cfd0d612",
   "metadata": {
    "execution": {
     "iopub.execute_input": "2023-10-24T16:11:53.796769Z",
     "iopub.status.busy": "2023-10-24T16:11:53.795845Z",
     "iopub.status.idle": "2023-10-24T16:11:53.807271Z",
     "shell.execute_reply": "2023-10-24T16:11:53.806043Z"
    },
    "papermill": {
     "duration": 0.032751,
     "end_time": "2023-10-24T16:11:53.809460",
     "exception": false,
     "start_time": "2023-10-24T16:11:53.776709",
     "status": "completed"
    },
    "tags": []
   },
   "outputs": [
    {
     "name": "stdout",
     "output_type": "stream",
     "text": [
      "Percent of missing values by particular columns:\n",
      "PassengerId     0.00\n",
      "HomePlanet      2.31\n",
      "CryoSleep       2.50\n",
      "Cabin           2.29\n",
      "Destination     2.09\n",
      "Age             2.06\n",
      "VIP             2.34\n",
      "RoomService     2.08\n",
      "FoodCourt       2.11\n",
      "ShoppingMall    2.39\n",
      "Spa             2.11\n",
      "VRDeck          2.16\n",
      "Name            2.30\n",
      "dtype: float64\n"
     ]
    }
   ],
   "source": [
    "print(f\"Percent of missing values by particular columns:{nl}\\\n",
    "{np.around(X_space.isna().sum()/X_space.shape[0] * 100,2)}\")"
   ]
  },
  {
   "cell_type": "code",
   "execution_count": 10,
   "id": "3789b1fb",
   "metadata": {
    "execution": {
     "iopub.execute_input": "2023-10-24T16:11:53.846060Z",
     "iopub.status.busy": "2023-10-24T16:11:53.844976Z",
     "iopub.status.idle": "2023-10-24T16:11:53.859940Z",
     "shell.execute_reply": "2023-10-24T16:11:53.858760Z"
    },
    "papermill": {
     "duration": 0.035601,
     "end_time": "2023-10-24T16:11:53.862248",
     "exception": false,
     "start_time": "2023-10-24T16:11:53.826647",
     "status": "completed"
    },
    "tags": []
   },
   "outputs": [
    {
     "name": "stdout",
     "output_type": "stream",
     "text": [
      "Number of unique values: \n",
      "PassengerId     8693\n",
      "HomePlanet         3\n",
      "CryoSleep          2\n",
      "Cabin           6560\n",
      "Destination        3\n",
      "Age               80\n",
      "VIP                2\n",
      "RoomService     1273\n",
      "FoodCourt       1507\n",
      "ShoppingMall    1115\n",
      "Spa             1327\n",
      "VRDeck          1306\n",
      "Name            8473\n",
      "dtype: int64\n"
     ]
    }
   ],
   "source": [
    "print(f\"Number of unique values: {nl}{X_space.nunique()}\")"
   ]
  },
  {
   "cell_type": "markdown",
   "id": "090993ea",
   "metadata": {
    "papermill": {
     "duration": 0.017049,
     "end_time": "2023-10-24T16:11:53.896826",
     "exception": false,
     "start_time": "2023-10-24T16:11:53.879777",
     "status": "completed"
    },
    "tags": []
   },
   "source": [
    "### Check a correlation between variables"
   ]
  },
  {
   "cell_type": "code",
   "execution_count": 11,
   "id": "9e97bf08",
   "metadata": {
    "execution": {
     "iopub.execute_input": "2023-10-24T16:11:53.933805Z",
     "iopub.status.busy": "2023-10-24T16:11:53.933434Z",
     "iopub.status.idle": "2023-10-24T16:11:54.321802Z",
     "shell.execute_reply": "2023-10-24T16:11:54.320605Z"
    },
    "papermill": {
     "duration": 0.410264,
     "end_time": "2023-10-24T16:11:54.324279",
     "exception": false,
     "start_time": "2023-10-24T16:11:53.914015",
     "status": "completed"
    },
    "tags": []
   },
   "outputs": [
    {
     "data": {
      "image/png": "[encoded data removed]",
      "text/plain": [
       "<Figure size 640x480 with 2 Axes>"
      ]
     },
     "metadata": {},
     "output_type": "display_data"
    }
   ],
   "source": [
    "num_vars = X_space.select_dtypes(include=\"float64\")\n",
    "correlation = num_vars.corr()\n",
    "plt.title(\"Correlation\")\n",
    "sns.heatmap(correlation, annot=True)\n",
    "plt.show()"
   ]
  },
  {
   "cell_type": "markdown",
   "id": "2b9ca1dc",
   "metadata": {
    "papermill": {
     "duration": 0.018525,
     "end_time": "2023-10-24T16:11:54.361300",
     "exception": false,
     "start_time": "2023-10-24T16:11:54.342775",
     "status": "completed"
    },
    "tags": []
   },
   "source": [
    "### Distribution of target variable"
   ]
  },
  {
   "cell_type": "code",
   "execution_count": 12,
   "id": "9fd8477f",
   "metadata": {
    "execution": {
     "iopub.execute_input": "2023-10-24T16:11:54.399663Z",
     "iopub.status.busy": "2023-10-24T16:11:54.399274Z",
     "iopub.status.idle": "2023-10-24T16:11:54.605668Z",
     "shell.execute_reply": "2023-10-24T16:11:54.604649Z"
    },
    "papermill": {
     "duration": 0.228157,
     "end_time": "2023-10-24T16:11:54.607922",
     "exception": false,
     "start_time": "2023-10-24T16:11:54.379765",
     "status": "completed"
    },
    "tags": []
   },
   "outputs": [
    {
     "data": {
      "image/png": "[encoded data removed]",
      "text/plain": [
       "<Figure size 640x480 with 1 Axes>"
      ]
     },
     "metadata": {},
     "output_type": "display_data"
    }
   ],
   "source": [
    "sns.countplot(space, x=\"Transported\")\n",
    "plt.title(\"Distribution of target variable\")\n",
    "plt.show()"
   ]
  },
  {
   "cell_type": "markdown",
   "id": "95d4a2dc",
   "metadata": {
    "execution": {
     "iopub.execute_input": "2023-10-23T20:04:26.770522Z",
     "iopub.status.busy": "2023-10-23T20:04:26.770097Z",
     "iopub.status.idle": "2023-10-23T20:04:26.775432Z",
     "shell.execute_reply": "2023-10-23T20:04:26.774254Z",
     "shell.execute_reply.started": "2023-10-23T20:04:26.770488Z"
    },
    "papermill": {
     "duration": 0.018004,
     "end_time": "2023-10-24T16:11:54.644313",
     "exception": false,
     "start_time": "2023-10-24T16:11:54.626309",
     "status": "completed"
    },
    "tags": []
   },
   "source": [
    "### Distribution of Homeplanet"
   ]
  },
  {
   "cell_type": "code",
   "execution_count": 13,
   "id": "733b71e6",
   "metadata": {
    "execution": {
     "iopub.execute_input": "2023-10-24T16:11:54.683591Z",
     "iopub.status.busy": "2023-10-24T16:11:54.682590Z",
     "iopub.status.idle": "2023-10-24T16:11:55.075153Z",
     "shell.execute_reply": "2023-10-24T16:11:55.074062Z"
    },
    "papermill": {
     "duration": 0.414659,
     "end_time": "2023-10-24T16:11:55.077586",
     "exception": false,
     "start_time": "2023-10-24T16:11:54.662927",
     "status": "completed"
    },
    "tags": []
   },
   "outputs": [
    {
     "data": {
      "image/png": "[encoded data removed]",
      "text/plain": [
       "<Figure size 640x480 with 2 Axes>"
      ]
     },
     "metadata": {},
     "output_type": "display_data"
    }
   ],
   "source": [
    "fig, ax =plt.subplots(1,2)\n",
    "sns.countplot(X_space, x=\"HomePlanet\", ax=ax[0], order = X_space['HomePlanet'].value_counts().index)\n",
    "ax[0].set(title='HomePlanet distribution (train)')\n",
    "sns.countplot(submission_set, x=\"HomePlanet\", ax=ax[1])\n",
    "ax[1].set(title='HomePlanet distribution (test)')\n",
    "fig.show()"
   ]
  },
  {
   "cell_type": "markdown",
   "id": "1decd8cf",
   "metadata": {
    "execution": {
     "iopub.execute_input": "2023-10-23T20:07:24.430430Z",
     "iopub.status.busy": "2023-10-23T20:07:24.429996Z",
     "iopub.status.idle": "2023-10-23T20:07:24.435416Z",
     "shell.execute_reply": "2023-10-23T20:07:24.434257Z",
     "shell.execute_reply.started": "2023-10-23T20:07:24.430397Z"
    },
    "papermill": {
     "duration": 0.018154,
     "end_time": "2023-10-24T16:11:55.114494",
     "exception": false,
     "start_time": "2023-10-24T16:11:55.096340",
     "status": "completed"
    },
    "tags": []
   },
   "source": [
    "### Distribution of deck and side"
   ]
  },
  {
   "cell_type": "code",
   "execution_count": 14,
   "id": "a1ae8b4a",
   "metadata": {
    "execution": {
     "iopub.execute_input": "2023-10-24T16:11:55.153944Z",
     "iopub.status.busy": "2023-10-24T16:11:55.152775Z",
     "iopub.status.idle": "2023-10-24T16:11:56.050875Z",
     "shell.execute_reply": "2023-10-24T16:11:56.049795Z"
    },
    "papermill": {
     "duration": 0.922388,
     "end_time": "2023-10-24T16:11:56.055329",
     "exception": false,
     "start_time": "2023-10-24T16:11:55.132941",
     "status": "completed"
    },
    "tags": []
   },
   "outputs": [
    {
     "data": {
      "image/png": "[encoded data removed]",
      "text/plain": [
       "<Figure size 1200x900 with 4 Axes>"
      ]
     },
     "metadata": {},
     "output_type": "display_data"
    }
   ],
   "source": [
    "def deck_side(df):\n",
    "    df[[\"Deck\", \"Side\"]] = df.Cabin.str.split(\"/\", expand=True).loc[:, [0, 2]]\n",
    "    df = df.drop([\"Cabin\"], axis=1)\n",
    "    return df\n",
    "df_train = deck_side(X_space)\n",
    "df_test = deck_side(submission_set)\n",
    "fig, ax =plt.subplots(2,2, figsize=(12,9))\n",
    "sns.countplot(df_train, x=\"Deck\", ax=ax[0,0], order = df_train['Deck'].value_counts().index)\n",
    "ax[0,0].set(title=\"Deck and side distribution (train)\")\n",
    "sns.countplot(df_test, x=\"Deck\", ax=ax[0,1], order = df_test['Deck'].value_counts().index)\n",
    "ax[0,1].set(title=\"Deck and side distribution (test)\")\n",
    "sns.countplot(df_train, x=\"Side\", ax=ax[1,0], order = df_train['Side'].value_counts().index)\n",
    "sns.countplot(df_test, x=\"Side\", ax=ax[1,1], order = df_test['Side'].value_counts().index)\n",
    "fig.show()"
   ]
  },
  {
   "cell_type": "markdown",
   "id": "175c2b57",
   "metadata": {
    "papermill": {
     "duration": 0.030058,
     "end_time": "2023-10-24T16:11:56.113239",
     "exception": false,
     "start_time": "2023-10-24T16:11:56.083181",
     "status": "completed"
    },
    "tags": []
   },
   "source": [
    "## Feature engineering"
   ]
  },
  {
   "cell_type": "markdown",
   "id": "e46879d8",
   "metadata": {
    "execution": {
     "iopub.execute_input": "2023-10-18T16:18:28.138713Z",
     "iopub.status.busy": "2023-10-18T16:18:28.137697Z",
     "iopub.status.idle": "2023-10-18T16:18:28.147213Z",
     "shell.execute_reply": "2023-10-18T16:18:28.146025Z",
     "shell.execute_reply.started": "2023-10-18T16:18:28.138659Z"
    },
    "papermill": {
     "duration": 0.019454,
     "end_time": "2023-10-24T16:11:56.153646",
     "exception": false,
     "start_time": "2023-10-24T16:11:56.134192",
     "status": "completed"
    },
    "tags": []
   },
   "source": [
    "### Remove unnecessary columns"
   ]
  },
  {
   "cell_type": "code",
   "execution_count": 15,
   "id": "d172e126",
   "metadata": {
    "execution": {
     "iopub.execute_input": "2023-10-24T16:11:56.195620Z",
     "iopub.status.busy": "2023-10-24T16:11:56.195213Z",
     "iopub.status.idle": "2023-10-24T16:11:56.200617Z",
     "shell.execute_reply": "2023-10-24T16:11:56.199241Z"
    },
    "papermill": {
     "duration": 0.027984,
     "end_time": "2023-10-24T16:11:56.202731",
     "exception": false,
     "start_time": "2023-10-24T16:11:56.174747",
     "status": "completed"
    },
    "tags": []
   },
   "outputs": [],
   "source": [
    "def drop_columns(df):    \n",
    "    df = df.drop([\"PassengerId\", \"Name\"], axis=1)\n",
    "    return df"
   ]
  },
  {
   "cell_type": "code",
   "execution_count": 16,
   "id": "95c95d7f",
   "metadata": {
    "execution": {
     "iopub.execute_input": "2023-10-24T16:11:56.244303Z",
     "iopub.status.busy": "2023-10-24T16:11:56.243237Z",
     "iopub.status.idle": "2023-10-24T16:11:56.273997Z",
     "shell.execute_reply": "2023-10-24T16:11:56.272757Z"
    },
    "papermill": {
     "duration": 0.054736,
     "end_time": "2023-10-24T16:11:56.277108",
     "exception": false,
     "start_time": "2023-10-24T16:11:56.222372",
     "status": "completed"
    },
    "tags": []
   },
   "outputs": [
    {
     "data": {
      "text/html": [
       "<div>\n",
       "<style scoped>\n",
       "    .dataframe tbody tr th:only-of-type {\n",
       "        vertical-align: middle;\n",
       "    }\n",
       "\n",
       "    .dataframe tbody tr th {\n",
       "        vertical-align: top;\n",
       "    }\n",
       "\n",
       "    .dataframe thead th {\n",
       "        text-align: right;\n",
       "    }\n",
       "</style>\n",
       "<table border=\"1\" class=\"dataframe\">\n",
       "  <thead>\n",
       "    <tr style=\"text-align: right;\">\n",
       "      <th></th>\n",
       "      <th>HomePlanet</th>\n",
       "      <th>CryoSleep</th>\n",
       "      <th>Cabin</th>\n",
       "      <th>Destination</th>\n",
       "      <th>Age</th>\n",
       "      <th>VIP</th>\n",
       "      <th>RoomService</th>\n",
       "      <th>FoodCourt</th>\n",
       "      <th>ShoppingMall</th>\n",
       "      <th>Spa</th>\n",
       "      <th>VRDeck</th>\n",
       "      <th>Deck</th>\n",
       "      <th>Side</th>\n",
       "    </tr>\n",
       "  </thead>\n",
       "  <tbody>\n",
       "    <tr>\n",
       "      <th>0</th>\n",
       "      <td>Europa</td>\n",
       "      <td>False</td>\n",
       "      <td>B/0/P</td>\n",
       "      <td>TRAPPIST-1e</td>\n",
       "      <td>39.0</td>\n",
       "      <td>False</td>\n",
       "      <td>0.0</td>\n",
       "      <td>0.0</td>\n",
       "      <td>0.0</td>\n",
       "      <td>0.0</td>\n",
       "      <td>0.0</td>\n",
       "      <td>B</td>\n",
       "      <td>P</td>\n",
       "    </tr>\n",
       "    <tr>\n",
       "      <th>1</th>\n",
       "      <td>Earth</td>\n",
       "      <td>False</td>\n",
       "      <td>F/0/S</td>\n",
       "      <td>TRAPPIST-1e</td>\n",
       "      <td>24.0</td>\n",
       "      <td>False</td>\n",
       "      <td>109.0</td>\n",
       "      <td>9.0</td>\n",
       "      <td>25.0</td>\n",
       "      <td>549.0</td>\n",
       "      <td>44.0</td>\n",
       "      <td>F</td>\n",
       "      <td>S</td>\n",
       "    </tr>\n",
       "    <tr>\n",
       "      <th>2</th>\n",
       "      <td>Europa</td>\n",
       "      <td>False</td>\n",
       "      <td>A/0/S</td>\n",
       "      <td>TRAPPIST-1e</td>\n",
       "      <td>58.0</td>\n",
       "      <td>True</td>\n",
       "      <td>43.0</td>\n",
       "      <td>3576.0</td>\n",
       "      <td>0.0</td>\n",
       "      <td>6715.0</td>\n",
       "      <td>49.0</td>\n",
       "      <td>A</td>\n",
       "      <td>S</td>\n",
       "    </tr>\n",
       "    <tr>\n",
       "      <th>3</th>\n",
       "      <td>Europa</td>\n",
       "      <td>False</td>\n",
       "      <td>A/0/S</td>\n",
       "      <td>TRAPPIST-1e</td>\n",
       "      <td>33.0</td>\n",
       "      <td>False</td>\n",
       "      <td>0.0</td>\n",
       "      <td>1283.0</td>\n",
       "      <td>371.0</td>\n",
       "      <td>3329.0</td>\n",
       "      <td>193.0</td>\n",
       "      <td>A</td>\n",
       "      <td>S</td>\n",
       "    </tr>\n",
       "    <tr>\n",
       "      <th>4</th>\n",
       "      <td>Earth</td>\n",
       "      <td>False</td>\n",
       "      <td>F/1/S</td>\n",
       "      <td>TRAPPIST-1e</td>\n",
       "      <td>16.0</td>\n",
       "      <td>False</td>\n",
       "      <td>303.0</td>\n",
       "      <td>70.0</td>\n",
       "      <td>151.0</td>\n",
       "      <td>565.0</td>\n",
       "      <td>2.0</td>\n",
       "      <td>F</td>\n",
       "      <td>S</td>\n",
       "    </tr>\n",
       "    <tr>\n",
       "      <th>...</th>\n",
       "      <td>...</td>\n",
       "      <td>...</td>\n",
       "      <td>...</td>\n",
       "      <td>...</td>\n",
       "      <td>...</td>\n",
       "      <td>...</td>\n",
       "      <td>...</td>\n",
       "      <td>...</td>\n",
       "      <td>...</td>\n",
       "      <td>...</td>\n",
       "      <td>...</td>\n",
       "      <td>...</td>\n",
       "      <td>...</td>\n",
       "    </tr>\n",
       "    <tr>\n",
       "      <th>8688</th>\n",
       "      <td>Europa</td>\n",
       "      <td>False</td>\n",
       "      <td>A/98/P</td>\n",
       "      <td>55 Cancri e</td>\n",
       "      <td>41.0</td>\n",
       "      <td>True</td>\n",
       "      <td>0.0</td>\n",
       "      <td>6819.0</td>\n",
       "      <td>0.0</td>\n",
       "      <td>1643.0</td>\n",
       "      <td>74.0</td>\n",
       "      <td>A</td>\n",
       "      <td>P</td>\n",
       "    </tr>\n",
       "    <tr>\n",
       "      <th>8689</th>\n",
       "      <td>Earth</td>\n",
       "      <td>True</td>\n",
       "      <td>G/1499/S</td>\n",
       "      <td>PSO J318.5-22</td>\n",
       "      <td>18.0</td>\n",
       "      <td>False</td>\n",
       "      <td>0.0</td>\n",
       "      <td>0.0</td>\n",
       "      <td>0.0</td>\n",
       "      <td>0.0</td>\n",
       "      <td>0.0</td>\n",
       "      <td>G</td>\n",
       "      <td>S</td>\n",
       "    </tr>\n",
       "    <tr>\n",
       "      <th>8690</th>\n",
       "      <td>Earth</td>\n",
       "      <td>False</td>\n",
       "      <td>G/1500/S</td>\n",
       "      <td>TRAPPIST-1e</td>\n",
       "      <td>26.0</td>\n",
       "      <td>False</td>\n",
       "      <td>0.0</td>\n",
       "      <td>0.0</td>\n",
       "      <td>1872.0</td>\n",
       "      <td>1.0</td>\n",
       "      <td>0.0</td>\n",
       "      <td>G</td>\n",
       "      <td>S</td>\n",
       "    </tr>\n",
       "    <tr>\n",
       "      <th>8691</th>\n",
       "      <td>Europa</td>\n",
       "      <td>False</td>\n",
       "      <td>E/608/S</td>\n",
       "      <td>55 Cancri e</td>\n",
       "      <td>32.0</td>\n",
       "      <td>False</td>\n",
       "      <td>0.0</td>\n",
       "      <td>1049.0</td>\n",
       "      <td>0.0</td>\n",
       "      <td>353.0</td>\n",
       "      <td>3235.0</td>\n",
       "      <td>E</td>\n",
       "      <td>S</td>\n",
       "    </tr>\n",
       "    <tr>\n",
       "      <th>8692</th>\n",
       "      <td>Europa</td>\n",
       "      <td>False</td>\n",
       "      <td>E/608/S</td>\n",
       "      <td>TRAPPIST-1e</td>\n",
       "      <td>44.0</td>\n",
       "      <td>False</td>\n",
       "      <td>126.0</td>\n",
       "      <td>4688.0</td>\n",
       "      <td>0.0</td>\n",
       "      <td>0.0</td>\n",
       "      <td>12.0</td>\n",
       "      <td>E</td>\n",
       "      <td>S</td>\n",
       "    </tr>\n",
       "  </tbody>\n",
       "</table>\n",
       "<p>8693 rows × 13 columns</p>\n",
       "</div>"
      ],
      "text/plain": [
       "     HomePlanet CryoSleep     Cabin    Destination   Age    VIP  RoomService  \\\n",
       "0        Europa     False     B/0/P    TRAPPIST-1e  39.0  False          0.0   \n",
       "1         Earth     False     F/0/S    TRAPPIST-1e  24.0  False        109.0   \n",
       "2        Europa     False     A/0/S    TRAPPIST-1e  58.0   True         43.0   \n",
       "3        Europa     False     A/0/S    TRAPPIST-1e  33.0  False          0.0   \n",
       "4         Earth     False     F/1/S    TRAPPIST-1e  16.0  False        303.0   \n",
       "...         ...       ...       ...            ...   ...    ...          ...   \n",
       "8688     Europa     False    A/98/P    55 Cancri e  41.0   True          0.0   \n",
       "8689      Earth      True  G/1499/S  PSO J318.5-22  18.0  False          0.0   \n",
       "8690      Earth     False  G/1500/S    TRAPPIST-1e  26.0  False          0.0   \n",
       "8691     Europa     False   E/608/S    55 Cancri e  32.0  False          0.0   \n",
       "8692     Europa     False   E/608/S    TRAPPIST-1e  44.0  False        126.0   \n",
       "\n",
       "      FoodCourt  ShoppingMall     Spa  VRDeck Deck Side  \n",
       "0           0.0           0.0     0.0     0.0    B    P  \n",
       "1           9.0          25.0   549.0    44.0    F    S  \n",
       "2        3576.0           0.0  6715.0    49.0    A    S  \n",
       "3        1283.0         371.0  3329.0   193.0    A    S  \n",
       "4          70.0         151.0   565.0     2.0    F    S  \n",
       "...         ...           ...     ...     ...  ...  ...  \n",
       "8688     6819.0           0.0  1643.0    74.0    A    P  \n",
       "8689        0.0           0.0     0.0     0.0    G    S  \n",
       "8690        0.0        1872.0     1.0     0.0    G    S  \n",
       "8691     1049.0           0.0   353.0  3235.0    E    S  \n",
       "8692     4688.0           0.0     0.0    12.0    E    S  \n",
       "\n",
       "[8693 rows x 13 columns]"
      ]
     },
     "execution_count": 16,
     "metadata": {},
     "output_type": "execute_result"
    }
   ],
   "source": [
    "drop_columns(X_space)"
   ]
  },
  {
   "cell_type": "markdown",
   "id": "5b44fcff",
   "metadata": {
    "papermill": {
     "duration": 0.022615,
     "end_time": "2023-10-24T16:11:56.327944",
     "exception": false,
     "start_time": "2023-10-24T16:11:56.305329",
     "status": "completed"
    },
    "tags": []
   },
   "source": [
    "### Add new features"
   ]
  },
  {
   "cell_type": "code",
   "execution_count": 17,
   "id": "9291716d",
   "metadata": {
    "execution": {
     "iopub.execute_input": "2023-10-24T16:11:56.369788Z",
     "iopub.status.busy": "2023-10-24T16:11:56.369000Z",
     "iopub.status.idle": "2023-10-24T16:11:56.374852Z",
     "shell.execute_reply": "2023-10-24T16:11:56.374143Z"
    },
    "papermill": {
     "duration": 0.029146,
     "end_time": "2023-10-24T16:11:56.376903",
     "exception": false,
     "start_time": "2023-10-24T16:11:56.347757",
     "status": "completed"
    },
    "tags": []
   },
   "outputs": [],
   "source": [
    "def feature_eng(df):\n",
    "    df[[\"Deck\", \"Side\"]] = df.Cabin.str.split(\"/\", expand=True).loc[:, [0, 2]]\n",
    "    df = df.drop([\"Cabin\"], axis=1)\n",
    "    df[\"Expenses\"] = df[['RoomService', 'FoodCourt', 'ShoppingMall', 'Spa', 'VRDeck']]\\\n",
    "    .sum(axis=1)\n",
    "    return df"
   ]
  },
  {
   "cell_type": "code",
   "execution_count": 18,
   "id": "41b317ab",
   "metadata": {
    "execution": {
     "iopub.execute_input": "2023-10-24T16:11:56.419631Z",
     "iopub.status.busy": "2023-10-24T16:11:56.418684Z",
     "iopub.status.idle": "2023-10-24T16:11:56.466155Z",
     "shell.execute_reply": "2023-10-24T16:11:56.465061Z"
    },
    "papermill": {
     "duration": 0.070612,
     "end_time": "2023-10-24T16:11:56.468325",
     "exception": false,
     "start_time": "2023-10-24T16:11:56.397713",
     "status": "completed"
    },
    "tags": []
   },
   "outputs": [
    {
     "data": {
      "text/html": [
       "<div>\n",
       "<style scoped>\n",
       "    .dataframe tbody tr th:only-of-type {\n",
       "        vertical-align: middle;\n",
       "    }\n",
       "\n",
       "    .dataframe tbody tr th {\n",
       "        vertical-align: top;\n",
       "    }\n",
       "\n",
       "    .dataframe thead th {\n",
       "        text-align: right;\n",
       "    }\n",
       "</style>\n",
       "<table border=\"1\" class=\"dataframe\">\n",
       "  <thead>\n",
       "    <tr style=\"text-align: right;\">\n",
       "      <th></th>\n",
       "      <th>PassengerId</th>\n",
       "      <th>HomePlanet</th>\n",
       "      <th>CryoSleep</th>\n",
       "      <th>Destination</th>\n",
       "      <th>Age</th>\n",
       "      <th>VIP</th>\n",
       "      <th>RoomService</th>\n",
       "      <th>FoodCourt</th>\n",
       "      <th>ShoppingMall</th>\n",
       "      <th>Spa</th>\n",
       "      <th>VRDeck</th>\n",
       "      <th>Name</th>\n",
       "      <th>Deck</th>\n",
       "      <th>Side</th>\n",
       "      <th>Expenses</th>\n",
       "    </tr>\n",
       "  </thead>\n",
       "  <tbody>\n",
       "    <tr>\n",
       "      <th>0</th>\n",
       "      <td>0001_01</td>\n",
       "      <td>Europa</td>\n",
       "      <td>False</td>\n",
       "      <td>TRAPPIST-1e</td>\n",
       "      <td>39.0</td>\n",
       "      <td>False</td>\n",
       "      <td>0.0</td>\n",
       "      <td>0.0</td>\n",
       "      <td>0.0</td>\n",
       "      <td>0.0</td>\n",
       "      <td>0.0</td>\n",
       "      <td>Maham Ofracculy</td>\n",
       "      <td>B</td>\n",
       "      <td>P</td>\n",
       "      <td>0.0</td>\n",
       "    </tr>\n",
       "    <tr>\n",
       "      <th>1</th>\n",
       "      <td>0002_01</td>\n",
       "      <td>Earth</td>\n",
       "      <td>False</td>\n",
       "      <td>TRAPPIST-1e</td>\n",
       "      <td>24.0</td>\n",
       "      <td>False</td>\n",
       "      <td>109.0</td>\n",
       "      <td>9.0</td>\n",
       "      <td>25.0</td>\n",
       "      <td>549.0</td>\n",
       "      <td>44.0</td>\n",
       "      <td>Juanna Vines</td>\n",
       "      <td>F</td>\n",
       "      <td>S</td>\n",
       "      <td>736.0</td>\n",
       "    </tr>\n",
       "    <tr>\n",
       "      <th>2</th>\n",
       "      <td>0003_01</td>\n",
       "      <td>Europa</td>\n",
       "      <td>False</td>\n",
       "      <td>TRAPPIST-1e</td>\n",
       "      <td>58.0</td>\n",
       "      <td>True</td>\n",
       "      <td>43.0</td>\n",
       "      <td>3576.0</td>\n",
       "      <td>0.0</td>\n",
       "      <td>6715.0</td>\n",
       "      <td>49.0</td>\n",
       "      <td>Altark Susent</td>\n",
       "      <td>A</td>\n",
       "      <td>S</td>\n",
       "      <td>10383.0</td>\n",
       "    </tr>\n",
       "    <tr>\n",
       "      <th>3</th>\n",
       "      <td>0003_02</td>\n",
       "      <td>Europa</td>\n",
       "      <td>False</td>\n",
       "      <td>TRAPPIST-1e</td>\n",
       "      <td>33.0</td>\n",
       "      <td>False</td>\n",
       "      <td>0.0</td>\n",
       "      <td>1283.0</td>\n",
       "      <td>371.0</td>\n",
       "      <td>3329.0</td>\n",
       "      <td>193.0</td>\n",
       "      <td>Solam Susent</td>\n",
       "      <td>A</td>\n",
       "      <td>S</td>\n",
       "      <td>5176.0</td>\n",
       "    </tr>\n",
       "    <tr>\n",
       "      <th>4</th>\n",
       "      <td>0004_01</td>\n",
       "      <td>Earth</td>\n",
       "      <td>False</td>\n",
       "      <td>TRAPPIST-1e</td>\n",
       "      <td>16.0</td>\n",
       "      <td>False</td>\n",
       "      <td>303.0</td>\n",
       "      <td>70.0</td>\n",
       "      <td>151.0</td>\n",
       "      <td>565.0</td>\n",
       "      <td>2.0</td>\n",
       "      <td>Willy Santantines</td>\n",
       "      <td>F</td>\n",
       "      <td>S</td>\n",
       "      <td>1091.0</td>\n",
       "    </tr>\n",
       "    <tr>\n",
       "      <th>...</th>\n",
       "      <td>...</td>\n",
       "      <td>...</td>\n",
       "      <td>...</td>\n",
       "      <td>...</td>\n",
       "      <td>...</td>\n",
       "      <td>...</td>\n",
       "      <td>...</td>\n",
       "      <td>...</td>\n",
       "      <td>...</td>\n",
       "      <td>...</td>\n",
       "      <td>...</td>\n",
       "      <td>...</td>\n",
       "      <td>...</td>\n",
       "      <td>...</td>\n",
       "      <td>...</td>\n",
       "    </tr>\n",
       "    <tr>\n",
       "      <th>8688</th>\n",
       "      <td>9276_01</td>\n",
       "      <td>Europa</td>\n",
       "      <td>False</td>\n",
       "      <td>55 Cancri e</td>\n",
       "      <td>41.0</td>\n",
       "      <td>True</td>\n",
       "      <td>0.0</td>\n",
       "      <td>6819.0</td>\n",
       "      <td>0.0</td>\n",
       "      <td>1643.0</td>\n",
       "      <td>74.0</td>\n",
       "      <td>Gravior Noxnuther</td>\n",
       "      <td>A</td>\n",
       "      <td>P</td>\n",
       "      <td>8536.0</td>\n",
       "    </tr>\n",
       "    <tr>\n",
       "      <th>8689</th>\n",
       "      <td>9278_01</td>\n",
       "      <td>Earth</td>\n",
       "      <td>True</td>\n",
       "      <td>PSO J318.5-22</td>\n",
       "      <td>18.0</td>\n",
       "      <td>False</td>\n",
       "      <td>0.0</td>\n",
       "      <td>0.0</td>\n",
       "      <td>0.0</td>\n",
       "      <td>0.0</td>\n",
       "      <td>0.0</td>\n",
       "      <td>Kurta Mondalley</td>\n",
       "      <td>G</td>\n",
       "      <td>S</td>\n",
       "      <td>0.0</td>\n",
       "    </tr>\n",
       "    <tr>\n",
       "      <th>8690</th>\n",
       "      <td>9279_01</td>\n",
       "      <td>Earth</td>\n",
       "      <td>False</td>\n",
       "      <td>TRAPPIST-1e</td>\n",
       "      <td>26.0</td>\n",
       "      <td>False</td>\n",
       "      <td>0.0</td>\n",
       "      <td>0.0</td>\n",
       "      <td>1872.0</td>\n",
       "      <td>1.0</td>\n",
       "      <td>0.0</td>\n",
       "      <td>Fayey Connon</td>\n",
       "      <td>G</td>\n",
       "      <td>S</td>\n",
       "      <td>1873.0</td>\n",
       "    </tr>\n",
       "    <tr>\n",
       "      <th>8691</th>\n",
       "      <td>9280_01</td>\n",
       "      <td>Europa</td>\n",
       "      <td>False</td>\n",
       "      <td>55 Cancri e</td>\n",
       "      <td>32.0</td>\n",
       "      <td>False</td>\n",
       "      <td>0.0</td>\n",
       "      <td>1049.0</td>\n",
       "      <td>0.0</td>\n",
       "      <td>353.0</td>\n",
       "      <td>3235.0</td>\n",
       "      <td>Celeon Hontichre</td>\n",
       "      <td>E</td>\n",
       "      <td>S</td>\n",
       "      <td>4637.0</td>\n",
       "    </tr>\n",
       "    <tr>\n",
       "      <th>8692</th>\n",
       "      <td>9280_02</td>\n",
       "      <td>Europa</td>\n",
       "      <td>False</td>\n",
       "      <td>TRAPPIST-1e</td>\n",
       "      <td>44.0</td>\n",
       "      <td>False</td>\n",
       "      <td>126.0</td>\n",
       "      <td>4688.0</td>\n",
       "      <td>0.0</td>\n",
       "      <td>0.0</td>\n",
       "      <td>12.0</td>\n",
       "      <td>Propsh Hontichre</td>\n",
       "      <td>E</td>\n",
       "      <td>S</td>\n",
       "      <td>4826.0</td>\n",
       "    </tr>\n",
       "  </tbody>\n",
       "</table>\n",
       "<p>8693 rows × 15 columns</p>\n",
       "</div>"
      ],
      "text/plain": [
       "     PassengerId HomePlanet CryoSleep    Destination   Age    VIP  \\\n",
       "0        0001_01     Europa     False    TRAPPIST-1e  39.0  False   \n",
       "1        0002_01      Earth     False    TRAPPIST-1e  24.0  False   \n",
       "2        0003_01     Europa     False    TRAPPIST-1e  58.0   True   \n",
       "3        0003_02     Europa     False    TRAPPIST-1e  33.0  False   \n",
       "4        0004_01      Earth     False    TRAPPIST-1e  16.0  False   \n",
       "...          ...        ...       ...            ...   ...    ...   \n",
       "8688     9276_01     Europa     False    55 Cancri e  41.0   True   \n",
       "8689     9278_01      Earth      True  PSO J318.5-22  18.0  False   \n",
       "8690     9279_01      Earth     False    TRAPPIST-1e  26.0  False   \n",
       "8691     9280_01     Europa     False    55 Cancri e  32.0  False   \n",
       "8692     9280_02     Europa     False    TRAPPIST-1e  44.0  False   \n",
       "\n",
       "      RoomService  FoodCourt  ShoppingMall     Spa  VRDeck               Name  \\\n",
       "0             0.0        0.0           0.0     0.0     0.0    Maham Ofracculy   \n",
       "1           109.0        9.0          25.0   549.0    44.0       Juanna Vines   \n",
       "2            43.0     3576.0           0.0  6715.0    49.0      Altark Susent   \n",
       "3             0.0     1283.0         371.0  3329.0   193.0       Solam Susent   \n",
       "4           303.0       70.0         151.0   565.0     2.0  Willy Santantines   \n",
       "...           ...        ...           ...     ...     ...                ...   \n",
       "8688          0.0     6819.0           0.0  1643.0    74.0  Gravior Noxnuther   \n",
       "8689          0.0        0.0           0.0     0.0     0.0    Kurta Mondalley   \n",
       "8690          0.0        0.0        1872.0     1.0     0.0       Fayey Connon   \n",
       "8691          0.0     1049.0           0.0   353.0  3235.0   Celeon Hontichre   \n",
       "8692        126.0     4688.0           0.0     0.0    12.0   Propsh Hontichre   \n",
       "\n",
       "     Deck Side  Expenses  \n",
       "0       B    P       0.0  \n",
       "1       F    S     736.0  \n",
       "2       A    S   10383.0  \n",
       "3       A    S    5176.0  \n",
       "4       F    S    1091.0  \n",
       "...   ...  ...       ...  \n",
       "8688    A    P    8536.0  \n",
       "8689    G    S       0.0  \n",
       "8690    G    S    1873.0  \n",
       "8691    E    S    4637.0  \n",
       "8692    E    S    4826.0  \n",
       "\n",
       "[8693 rows x 15 columns]"
      ]
     },
     "execution_count": 18,
     "metadata": {},
     "output_type": "execute_result"
    }
   ],
   "source": [
    "feature_eng(X_space)"
   ]
  },
  {
   "cell_type": "markdown",
   "id": "0c225365",
   "metadata": {
    "execution": {
     "iopub.execute_input": "2023-10-18T16:48:36.788775Z",
     "iopub.status.busy": "2023-10-18T16:48:36.788044Z",
     "iopub.status.idle": "2023-10-18T16:48:36.796019Z",
     "shell.execute_reply": "2023-10-18T16:48:36.794983Z",
     "shell.execute_reply.started": "2023-10-18T16:48:36.788731Z"
    },
    "papermill": {
     "duration": 0.019822,
     "end_time": "2023-10-24T16:11:56.508800",
     "exception": false,
     "start_time": "2023-10-24T16:11:56.488978",
     "status": "completed"
    },
    "tags": []
   },
   "source": [
    "## Creating a pipeline"
   ]
  },
  {
   "cell_type": "markdown",
   "id": "53c98e5c",
   "metadata": {
    "papermill": {
     "duration": 0.019873,
     "end_time": "2023-10-24T16:11:56.548777",
     "exception": false,
     "start_time": "2023-10-24T16:11:56.528904",
     "status": "completed"
    },
    "tags": []
   },
   "source": [
    "### Add data type selector"
   ]
  },
  {
   "cell_type": "code",
   "execution_count": 19,
   "id": "850f096b",
   "metadata": {
    "execution": {
     "iopub.execute_input": "2023-10-24T16:11:56.590663Z",
     "iopub.status.busy": "2023-10-24T16:11:56.590294Z",
     "iopub.status.idle": "2023-10-24T16:11:56.595341Z",
     "shell.execute_reply": "2023-10-24T16:11:56.594171Z"
    },
    "papermill": {
     "duration": 0.028531,
     "end_time": "2023-10-24T16:11:56.597402",
     "exception": false,
     "start_time": "2023-10-24T16:11:56.568871",
     "status": "completed"
    },
    "tags": []
   },
   "outputs": [],
   "source": [
    "cat_col_sel = make_column_selector(dtype_exclude=np.float64)\n",
    "num_col_sel = make_column_selector(dtype_include=np.float64)"
   ]
  },
  {
   "cell_type": "markdown",
   "id": "5663314f",
   "metadata": {
    "papermill": {
     "duration": 0.020158,
     "end_time": "2023-10-24T16:11:56.638062",
     "exception": false,
     "start_time": "2023-10-24T16:11:56.617904",
     "status": "completed"
    },
    "tags": []
   },
   "source": [
    "### Impute and encode categorical data"
   ]
  },
  {
   "cell_type": "code",
   "execution_count": 20,
   "id": "cf035c4f",
   "metadata": {
    "execution": {
     "iopub.execute_input": "2023-10-24T16:11:56.682418Z",
     "iopub.status.busy": "2023-10-24T16:11:56.681405Z",
     "iopub.status.idle": "2023-10-24T16:11:56.697981Z",
     "shell.execute_reply": "2023-10-24T16:11:56.696928Z"
    },
    "papermill": {
     "duration": 0.04117,
     "end_time": "2023-10-24T16:11:56.700191",
     "exception": false,
     "start_time": "2023-10-24T16:11:56.659021",
     "status": "completed"
    },
    "tags": []
   },
   "outputs": [
    {
     "data": {
      "text/html": [
       "<style>#sk-container-id-1 {color: black;background-color: white;}#sk-container-id-1 pre{padding: 0;}#sk-container-id-1 div.sk-toggleable {background-color: white;}#sk-container-id-1 label.sk-toggleable__label {cursor: pointer;display: block;width: 100%;margin-bottom: 0;padding: 0.3em;box-sizing: border-box;text-align: center;}#sk-container-id-1 label.sk-toggleable__label-arrow:before {content: \"▸\";float: left;margin-right: 0.25em;color: #696969;}#sk-container-id-1 label.sk-toggleable__label-arrow:hover:before {color: black;}#sk-container-id-1 div.sk-estimator:hover label.sk-toggleable__label-arrow:before {color: black;}#sk-container-id-1 div.sk-toggleable__content {max-height: 0;max-width: 0;overflow: hidden;text-align: left;background-color: #f0f8ff;}#sk-container-id-1 div.sk-toggleable__content pre {margin: 0.2em;color: black;border-radius: 0.25em;background-color: #f0f8ff;}#sk-container-id-1 input.sk-toggleable__control:checked~div.sk-toggleable__content {max-height: 200px;max-width: 100%;overflow: auto;}#sk-container-id-1 input.sk-toggleable__control:checked~label.sk-toggleable__label-arrow:before {content: \"▾\";}#sk-container-id-1 div.sk-estimator input.sk-toggleable__control:checked~label.sk-toggleable__label {background-color: #d4ebff;}#sk-container-id-1 div.sk-label input.sk-toggleable__control:checked~label.sk-toggleable__label {background-color: #d4ebff;}#sk-container-id-1 input.sk-hidden--visually {border: 0;clip: rect(1px 1px 1px 1px);clip: rect(1px, 1px, 1px, 1px);height: 1px;margin: -1px;overflow: hidden;padding: 0;position: absolute;width: 1px;}#sk-container-id-1 div.sk-estimator {font-family: monospace;background-color: #f0f8ff;border: 1px dotted black;border-radius: 0.25em;box-sizing: border-box;margin-bottom: 0.5em;}#sk-container-id-1 div.sk-estimator:hover {background-color: #d4ebff;}#sk-container-id-1 div.sk-parallel-item::after {content: \"\";width: 100%;border-bottom: 1px solid gray;flex-grow: 1;}#sk-container-id-1 div.sk-label:hover label.sk-toggleable__label {background-color: #d4ebff;}#sk-container-id-1 div.sk-serial::before {content: \"\";position: absolute;border-left: 1px solid gray;box-sizing: border-box;top: 0;bottom: 0;left: 50%;z-index: 0;}#sk-container-id-1 div.sk-serial {display: flex;flex-direction: column;align-items: center;background-color: white;padding-right: 0.2em;padding-left: 0.2em;position: relative;}#sk-container-id-1 div.sk-item {position: relative;z-index: 1;}#sk-container-id-1 div.sk-parallel {display: flex;align-items: stretch;justify-content: center;background-color: white;position: relative;}#sk-container-id-1 div.sk-item::before, #sk-container-id-1 div.sk-parallel-item::before {content: \"\";position: absolute;border-left: 1px solid gray;box-sizing: border-box;top: 0;bottom: 0;left: 50%;z-index: -1;}#sk-container-id-1 div.sk-parallel-item {display: flex;flex-direction: column;z-index: 1;position: relative;background-color: white;}#sk-container-id-1 div.sk-parallel-item:first-child::after {align-self: flex-end;width: 50%;}#sk-container-id-1 div.sk-parallel-item:last-child::after {align-self: flex-start;width: 50%;}#sk-container-id-1 div.sk-parallel-item:only-child::after {width: 0;}#sk-container-id-1 div.sk-dashed-wrapped {border: 1px dashed gray;margin: 0 0.4em 0.5em 0.4em;box-sizing: border-box;padding-bottom: 0.4em;background-color: white;}#sk-container-id-1 div.sk-label label {font-family: monospace;font-weight: bold;display: inline-block;line-height: 1.2em;}#sk-container-id-1 div.sk-label-container {text-align: center;}#sk-container-id-1 div.sk-container {/* jupyter's `normalize.less` sets `[hidden] { display: none; }` but bootstrap.min.css set `[hidden] { display: none !important; }` so we also need the `!important` here to be able to override the default hidden behavior on the sphinx rendered scikit-learn.org. See: https://github.com/scikit-learn/scikit-learn/issues/21755 */display: inline-block !important;position: relative;}#sk-container-id-1 div.sk-text-repr-fallback {display: none;}</style><div id=\"sk-container-id-1\" class=\"sk-top-container\"><div class=\"sk-text-repr-fallback\"><pre>Pipeline(steps=[(&#x27;simpleimputer&#x27;, SimpleImputer(strategy=&#x27;most_frequent&#x27;)),\n",
       "                (&#x27;onehotencoder&#x27;, OneHotEncoder(handle_unknown=&#x27;ignore&#x27;))])</pre><b>In a Jupyter environment, please rerun this cell to show the HTML representation or trust the notebook. <br />On GitHub, the HTML representation is unable to render, please try loading this page with nbviewer.org.</b></div><div class=\"sk-container\" hidden><div class=\"sk-item sk-dashed-wrapped\"><div class=\"sk-label-container\"><div class=\"sk-label sk-toggleable\"><input class=\"sk-toggleable__control sk-hidden--visually\" id=\"sk-estimator-id-1\" type=\"checkbox\" ><label for=\"sk-estimator-id-1\" class=\"sk-toggleable__label sk-toggleable__label-arrow\">Pipeline</label><div class=\"sk-toggleable__content\"><pre>Pipeline(steps=[(&#x27;simpleimputer&#x27;, SimpleImputer(strategy=&#x27;most_frequent&#x27;)),\n",
       "                (&#x27;onehotencoder&#x27;, OneHotEncoder(handle_unknown=&#x27;ignore&#x27;))])</pre></div></div></div><div class=\"sk-serial\"><div class=\"sk-item\"><div class=\"sk-estimator sk-toggleable\"><input class=\"sk-toggleable__control sk-hidden--visually\" id=\"sk-estimator-id-2\" type=\"checkbox\" ><label for=\"sk-estimator-id-2\" class=\"sk-toggleable__label sk-toggleable__label-arrow\">SimpleImputer</label><div class=\"sk-toggleable__content\"><pre>SimpleImputer(strategy=&#x27;most_frequent&#x27;)</pre></div></div></div><div class=\"sk-item\"><div class=\"sk-estimator sk-toggleable\"><input class=\"sk-toggleable__control sk-hidden--visually\" id=\"sk-estimator-id-3\" type=\"checkbox\" ><label for=\"sk-estimator-id-3\" class=\"sk-toggleable__label sk-toggleable__label-arrow\">OneHotEncoder</label><div class=\"sk-toggleable__content\"><pre>OneHotEncoder(handle_unknown=&#x27;ignore&#x27;)</pre></div></div></div></div></div></div></div>"
      ],
      "text/plain": [
       "Pipeline(steps=[('simpleimputer', SimpleImputer(strategy='most_frequent')),\n",
       "                ('onehotencoder', OneHotEncoder(handle_unknown='ignore'))])"
      ]
     },
     "execution_count": 20,
     "metadata": {},
     "output_type": "execute_result"
    }
   ],
   "source": [
    "cat_imp = SimpleImputer(strategy=\"most_frequent\")\n",
    "cat_ohe = OneHotEncoder(handle_unknown=\"ignore\")\n",
    "\n",
    "cat_pipeline = make_pipeline(cat_imp, cat_ohe)\n",
    "cat_pipeline"
   ]
  },
  {
   "cell_type": "markdown",
   "id": "2b2c0eaa",
   "metadata": {
    "papermill": {
     "duration": 0.020333,
     "end_time": "2023-10-24T16:11:56.741183",
     "exception": false,
     "start_time": "2023-10-24T16:11:56.720850",
     "status": "completed"
    },
    "tags": []
   },
   "source": [
    "### Impute and scale numeric data"
   ]
  },
  {
   "cell_type": "code",
   "execution_count": 21,
   "id": "a028dcfd",
   "metadata": {
    "execution": {
     "iopub.execute_input": "2023-10-24T16:11:56.784937Z",
     "iopub.status.busy": "2023-10-24T16:11:56.783911Z",
     "iopub.status.idle": "2023-10-24T16:11:56.795042Z",
     "shell.execute_reply": "2023-10-24T16:11:56.794000Z"
    },
    "papermill": {
     "duration": 0.035467,
     "end_time": "2023-10-24T16:11:56.797310",
     "exception": false,
     "start_time": "2023-10-24T16:11:56.761843",
     "status": "completed"
    },
    "tags": []
   },
   "outputs": [
    {
     "data": {
      "text/html": [
       "<style>#sk-container-id-2 {color: black;background-color: white;}#sk-container-id-2 pre{padding: 0;}#sk-container-id-2 div.sk-toggleable {background-color: white;}#sk-container-id-2 label.sk-toggleable__label {cursor: pointer;display: block;width: 100%;margin-bottom: 0;padding: 0.3em;box-sizing: border-box;text-align: center;}#sk-container-id-2 label.sk-toggleable__label-arrow:before {content: \"▸\";float: left;margin-right: 0.25em;color: #696969;}#sk-container-id-2 label.sk-toggleable__label-arrow:hover:before {color: black;}#sk-container-id-2 div.sk-estimator:hover label.sk-toggleable__label-arrow:before {color: black;}#sk-container-id-2 div.sk-toggleable__content {max-height: 0;max-width: 0;overflow: hidden;text-align: left;background-color: #f0f8ff;}#sk-container-id-2 div.sk-toggleable__content pre {margin: 0.2em;color: black;border-radius: 0.25em;background-color: #f0f8ff;}#sk-container-id-2 input.sk-toggleable__control:checked~div.sk-toggleable__content {max-height: 200px;max-width: 100%;overflow: auto;}#sk-container-id-2 input.sk-toggleable__control:checked~label.sk-toggleable__label-arrow:before {content: \"▾\";}#sk-container-id-2 div.sk-estimator input.sk-toggleable__control:checked~label.sk-toggleable__label {background-color: #d4ebff;}#sk-container-id-2 div.sk-label input.sk-toggleable__control:checked~label.sk-toggleable__label {background-color: #d4ebff;}#sk-container-id-2 input.sk-hidden--visually {border: 0;clip: rect(1px 1px 1px 1px);clip: rect(1px, 1px, 1px, 1px);height: 1px;margin: -1px;overflow: hidden;padding: 0;position: absolute;width: 1px;}#sk-container-id-2 div.sk-estimator {font-family: monospace;background-color: #f0f8ff;border: 1px dotted black;border-radius: 0.25em;box-sizing: border-box;margin-bottom: 0.5em;}#sk-container-id-2 div.sk-estimator:hover {background-color: #d4ebff;}#sk-container-id-2 div.sk-parallel-item::after {content: \"\";width: 100%;border-bottom: 1px solid gray;flex-grow: 1;}#sk-container-id-2 div.sk-label:hover label.sk-toggleable__label {background-color: #d4ebff;}#sk-container-id-2 div.sk-serial::before {content: \"\";position: absolute;border-left: 1px solid gray;box-sizing: border-box;top: 0;bottom: 0;left: 50%;z-index: 0;}#sk-container-id-2 div.sk-serial {display: flex;flex-direction: column;align-items: center;background-color: white;padding-right: 0.2em;padding-left: 0.2em;position: relative;}#sk-container-id-2 div.sk-item {position: relative;z-index: 1;}#sk-container-id-2 div.sk-parallel {display: flex;align-items: stretch;justify-content: center;background-color: white;position: relative;}#sk-container-id-2 div.sk-item::before, #sk-container-id-2 div.sk-parallel-item::before {content: \"\";position: absolute;border-left: 1px solid gray;box-sizing: border-box;top: 0;bottom: 0;left: 50%;z-index: -1;}#sk-container-id-2 div.sk-parallel-item {display: flex;flex-direction: column;z-index: 1;position: relative;background-color: white;}#sk-container-id-2 div.sk-parallel-item:first-child::after {align-self: flex-end;width: 50%;}#sk-container-id-2 div.sk-parallel-item:last-child::after {align-self: flex-start;width: 50%;}#sk-container-id-2 div.sk-parallel-item:only-child::after {width: 0;}#sk-container-id-2 div.sk-dashed-wrapped {border: 1px dashed gray;margin: 0 0.4em 0.5em 0.4em;box-sizing: border-box;padding-bottom: 0.4em;background-color: white;}#sk-container-id-2 div.sk-label label {font-family: monospace;font-weight: bold;display: inline-block;line-height: 1.2em;}#sk-container-id-2 div.sk-label-container {text-align: center;}#sk-container-id-2 div.sk-container {/* jupyter's `normalize.less` sets `[hidden] { display: none; }` but bootstrap.min.css set `[hidden] { display: none !important; }` so we also need the `!important` here to be able to override the default hidden behavior on the sphinx rendered scikit-learn.org. See: https://github.com/scikit-learn/scikit-learn/issues/21755 */display: inline-block !important;position: relative;}#sk-container-id-2 div.sk-text-repr-fallback {display: none;}</style><div id=\"sk-container-id-2\" class=\"sk-top-container\"><div class=\"sk-text-repr-fallback\"><pre>Pipeline(steps=[(&#x27;simpleimputer&#x27;, SimpleImputer(strategy=&#x27;median&#x27;)),\n",
       "                (&#x27;standardscaler&#x27;, StandardScaler())])</pre><b>In a Jupyter environment, please rerun this cell to show the HTML representation or trust the notebook. <br />On GitHub, the HTML representation is unable to render, please try loading this page with nbviewer.org.</b></div><div class=\"sk-container\" hidden><div class=\"sk-item sk-dashed-wrapped\"><div class=\"sk-label-container\"><div class=\"sk-label sk-toggleable\"><input class=\"sk-toggleable__control sk-hidden--visually\" id=\"sk-estimator-id-4\" type=\"checkbox\" ><label for=\"sk-estimator-id-4\" class=\"sk-toggleable__label sk-toggleable__label-arrow\">Pipeline</label><div class=\"sk-toggleable__content\"><pre>Pipeline(steps=[(&#x27;simpleimputer&#x27;, SimpleImputer(strategy=&#x27;median&#x27;)),\n",
       "                (&#x27;standardscaler&#x27;, StandardScaler())])</pre></div></div></div><div class=\"sk-serial\"><div class=\"sk-item\"><div class=\"sk-estimator sk-toggleable\"><input class=\"sk-toggleable__control sk-hidden--visually\" id=\"sk-estimator-id-5\" type=\"checkbox\" ><label for=\"sk-estimator-id-5\" class=\"sk-toggleable__label sk-toggleable__label-arrow\">SimpleImputer</label><div class=\"sk-toggleable__content\"><pre>SimpleImputer(strategy=&#x27;median&#x27;)</pre></div></div></div><div class=\"sk-item\"><div class=\"sk-estimator sk-toggleable\"><input class=\"sk-toggleable__control sk-hidden--visually\" id=\"sk-estimator-id-6\" type=\"checkbox\" ><label for=\"sk-estimator-id-6\" class=\"sk-toggleable__label sk-toggleable__label-arrow\">StandardScaler</label><div class=\"sk-toggleable__content\"><pre>StandardScaler()</pre></div></div></div></div></div></div></div>"
      ],
      "text/plain": [
       "Pipeline(steps=[('simpleimputer', SimpleImputer(strategy='median')),\n",
       "                ('standardscaler', StandardScaler())])"
      ]
     },
     "execution_count": 21,
     "metadata": {},
     "output_type": "execute_result"
    }
   ],
   "source": [
    "num_imp = SimpleImputer(strategy=\"median\")\n",
    "num_scaler = StandardScaler()\n",
    "\n",
    "num_pipeline = make_pipeline(num_imp, num_scaler)\n",
    "num_pipeline"
   ]
  },
  {
   "cell_type": "markdown",
   "id": "9c159466",
   "metadata": {
    "papermill": {
     "duration": 0.021173,
     "end_time": "2023-10-24T16:11:56.839631",
     "exception": false,
     "start_time": "2023-10-24T16:11:56.818458",
     "status": "completed"
    },
    "tags": []
   },
   "source": [
    "### Join numeric and categorical columns"
   ]
  },
  {
   "cell_type": "code",
   "execution_count": 22,
   "id": "e35364db",
   "metadata": {
    "execution": {
     "iopub.execute_input": "2023-10-24T16:11:56.884752Z",
     "iopub.status.busy": "2023-10-24T16:11:56.884231Z",
     "iopub.status.idle": "2023-10-24T16:11:56.918681Z",
     "shell.execute_reply": "2023-10-24T16:11:56.917589Z"
    },
    "papermill": {
     "duration": 0.059638,
     "end_time": "2023-10-24T16:11:56.920874",
     "exception": false,
     "start_time": "2023-10-24T16:11:56.861236",
     "status": "completed"
    },
    "tags": []
   },
   "outputs": [
    {
     "data": {
      "text/html": [
       "<style>#sk-container-id-3 {color: black;background-color: white;}#sk-container-id-3 pre{padding: 0;}#sk-container-id-3 div.sk-toggleable {background-color: white;}#sk-container-id-3 label.sk-toggleable__label {cursor: pointer;display: block;width: 100%;margin-bottom: 0;padding: 0.3em;box-sizing: border-box;text-align: center;}#sk-container-id-3 label.sk-toggleable__label-arrow:before {content: \"▸\";float: left;margin-right: 0.25em;color: #696969;}#sk-container-id-3 label.sk-toggleable__label-arrow:hover:before {color: black;}#sk-container-id-3 div.sk-estimator:hover label.sk-toggleable__label-arrow:before {color: black;}#sk-container-id-3 div.sk-toggleable__content {max-height: 0;max-width: 0;overflow: hidden;text-align: left;background-color: #f0f8ff;}#sk-container-id-3 div.sk-toggleable__content pre {margin: 0.2em;color: black;border-radius: 0.25em;background-color: #f0f8ff;}#sk-container-id-3 input.sk-toggleable__control:checked~div.sk-toggleable__content {max-height: 200px;max-width: 100%;overflow: auto;}#sk-container-id-3 input.sk-toggleable__control:checked~label.sk-toggleable__label-arrow:before {content: \"▾\";}#sk-container-id-3 div.sk-estimator input.sk-toggleable__control:checked~label.sk-toggleable__label {background-color: #d4ebff;}#sk-container-id-3 div.sk-label input.sk-toggleable__control:checked~label.sk-toggleable__label {background-color: #d4ebff;}#sk-container-id-3 input.sk-hidden--visually {border: 0;clip: rect(1px 1px 1px 1px);clip: rect(1px, 1px, 1px, 1px);height: 1px;margin: -1px;overflow: hidden;padding: 0;position: absolute;width: 1px;}#sk-container-id-3 div.sk-estimator {font-family: monospace;background-color: #f0f8ff;border: 1px dotted black;border-radius: 0.25em;box-sizing: border-box;margin-bottom: 0.5em;}#sk-container-id-3 div.sk-estimator:hover {background-color: #d4ebff;}#sk-container-id-3 div.sk-parallel-item::after {content: \"\";width: 100%;border-bottom: 1px solid gray;flex-grow: 1;}#sk-container-id-3 div.sk-label:hover label.sk-toggleable__label {background-color: #d4ebff;}#sk-container-id-3 div.sk-serial::before {content: \"\";position: absolute;border-left: 1px solid gray;box-sizing: border-box;top: 0;bottom: 0;left: 50%;z-index: 0;}#sk-container-id-3 div.sk-serial {display: flex;flex-direction: column;align-items: center;background-color: white;padding-right: 0.2em;padding-left: 0.2em;position: relative;}#sk-container-id-3 div.sk-item {position: relative;z-index: 1;}#sk-container-id-3 div.sk-parallel {display: flex;align-items: stretch;justify-content: center;background-color: white;position: relative;}#sk-container-id-3 div.sk-item::before, #sk-container-id-3 div.sk-parallel-item::before {content: \"\";position: absolute;border-left: 1px solid gray;box-sizing: border-box;top: 0;bottom: 0;left: 50%;z-index: -1;}#sk-container-id-3 div.sk-parallel-item {display: flex;flex-direction: column;z-index: 1;position: relative;background-color: white;}#sk-container-id-3 div.sk-parallel-item:first-child::after {align-self: flex-end;width: 50%;}#sk-container-id-3 div.sk-parallel-item:last-child::after {align-self: flex-start;width: 50%;}#sk-container-id-3 div.sk-parallel-item:only-child::after {width: 0;}#sk-container-id-3 div.sk-dashed-wrapped {border: 1px dashed gray;margin: 0 0.4em 0.5em 0.4em;box-sizing: border-box;padding-bottom: 0.4em;background-color: white;}#sk-container-id-3 div.sk-label label {font-family: monospace;font-weight: bold;display: inline-block;line-height: 1.2em;}#sk-container-id-3 div.sk-label-container {text-align: center;}#sk-container-id-3 div.sk-container {/* jupyter's `normalize.less` sets `[hidden] { display: none; }` but bootstrap.min.css set `[hidden] { display: none !important; }` so we also need the `!important` here to be able to override the default hidden behavior on the sphinx rendered scikit-learn.org. See: https://github.com/scikit-learn/scikit-learn/issues/21755 */display: inline-block !important;position: relative;}#sk-container-id-3 div.sk-text-repr-fallback {display: none;}</style><div id=\"sk-container-id-3\" class=\"sk-top-container\"><div class=\"sk-text-repr-fallback\"><pre>ColumnTransformer(transformers=[(&#x27;pipeline-1&#x27;,\n",
       "                                 Pipeline(steps=[(&#x27;simpleimputer&#x27;,\n",
       "                                                  SimpleImputer(strategy=&#x27;median&#x27;)),\n",
       "                                                 (&#x27;standardscaler&#x27;,\n",
       "                                                  StandardScaler())]),\n",
       "                                 &lt;sklearn.compose._column_transformer.make_column_selector object at 0x7d1993213bb0&gt;),\n",
       "                                (&#x27;pipeline-2&#x27;,\n",
       "                                 Pipeline(steps=[(&#x27;simpleimputer&#x27;,\n",
       "                                                  SimpleImputer(strategy=&#x27;most_frequent&#x27;)),\n",
       "                                                 (&#x27;onehotencoder&#x27;,\n",
       "                                                  OneHotEncoder(handle_unknown=&#x27;ignore&#x27;))]),\n",
       "                                 &lt;sklearn.compose._column_transformer.make_column_selector object at 0x7d19c3fb9810&gt;)])</pre><b>In a Jupyter environment, please rerun this cell to show the HTML representation or trust the notebook. <br />On GitHub, the HTML representation is unable to render, please try loading this page with nbviewer.org.</b></div><div class=\"sk-container\" hidden><div class=\"sk-item sk-dashed-wrapped\"><div class=\"sk-label-container\"><div class=\"sk-label sk-toggleable\"><input class=\"sk-toggleable__control sk-hidden--visually\" id=\"sk-estimator-id-7\" type=\"checkbox\" ><label for=\"sk-estimator-id-7\" class=\"sk-toggleable__label sk-toggleable__label-arrow\">ColumnTransformer</label><div class=\"sk-toggleable__content\"><pre>ColumnTransformer(transformers=[(&#x27;pipeline-1&#x27;,\n",
       "                                 Pipeline(steps=[(&#x27;simpleimputer&#x27;,\n",
       "                                                  SimpleImputer(strategy=&#x27;median&#x27;)),\n",
       "                                                 (&#x27;standardscaler&#x27;,\n",
       "                                                  StandardScaler())]),\n",
       "                                 &lt;sklearn.compose._column_transformer.make_column_selector object at 0x7d1993213bb0&gt;),\n",
       "                                (&#x27;pipeline-2&#x27;,\n",
       "                                 Pipeline(steps=[(&#x27;simpleimputer&#x27;,\n",
       "                                                  SimpleImputer(strategy=&#x27;most_frequent&#x27;)),\n",
       "                                                 (&#x27;onehotencoder&#x27;,\n",
       "                                                  OneHotEncoder(handle_unknown=&#x27;ignore&#x27;))]),\n",
       "                                 &lt;sklearn.compose._column_transformer.make_column_selector object at 0x7d19c3fb9810&gt;)])</pre></div></div></div><div class=\"sk-parallel\"><div class=\"sk-parallel-item\"><div class=\"sk-item\"><div class=\"sk-label-container\"><div class=\"sk-label sk-toggleable\"><input class=\"sk-toggleable__control sk-hidden--visually\" id=\"sk-estimator-id-8\" type=\"checkbox\" ><label for=\"sk-estimator-id-8\" class=\"sk-toggleable__label sk-toggleable__label-arrow\">pipeline-1</label><div class=\"sk-toggleable__content\"><pre>&lt;sklearn.compose._column_transformer.make_column_selector object at 0x7d1993213bb0&gt;</pre></div></div></div><div class=\"sk-serial\"><div class=\"sk-item\"><div class=\"sk-serial\"><div class=\"sk-item\"><div class=\"sk-estimator sk-toggleable\"><input class=\"sk-toggleable__control sk-hidden--visually\" id=\"sk-estimator-id-9\" type=\"checkbox\" ><label for=\"sk-estimator-id-9\" class=\"sk-toggleable__label sk-toggleable__label-arrow\">SimpleImputer</label><div class=\"sk-toggleable__content\"><pre>SimpleImputer(strategy=&#x27;median&#x27;)</pre></div></div></div><div class=\"sk-item\"><div class=\"sk-estimator sk-toggleable\"><input class=\"sk-toggleable__control sk-hidden--visually\" id=\"sk-estimator-id-10\" type=\"checkbox\" ><label for=\"sk-estimator-id-10\" class=\"sk-toggleable__label sk-toggleable__label-arrow\">StandardScaler</label><div class=\"sk-toggleable__content\"><pre>StandardScaler()</pre></div></div></div></div></div></div></div></div><div class=\"sk-parallel-item\"><div class=\"sk-item\"><div class=\"sk-label-container\"><div class=\"sk-label sk-toggleable\"><input class=\"sk-toggleable__control sk-hidden--visually\" id=\"sk-estimator-id-11\" type=\"checkbox\" ><label for=\"sk-estimator-id-11\" class=\"sk-toggleable__label sk-toggleable__label-arrow\">pipeline-2</label><div class=\"sk-toggleable__content\"><pre>&lt;sklearn.compose._column_transformer.make_column_selector object at 0x7d19c3fb9810&gt;</pre></div></div></div><div class=\"sk-serial\"><div class=\"sk-item\"><div class=\"sk-serial\"><div class=\"sk-item\"><div class=\"sk-estimator sk-toggleable\"><input class=\"sk-toggleable__control sk-hidden--visually\" id=\"sk-estimator-id-12\" type=\"checkbox\" ><label for=\"sk-estimator-id-12\" class=\"sk-toggleable__label sk-toggleable__label-arrow\">SimpleImputer</label><div class=\"sk-toggleable__content\"><pre>SimpleImputer(strategy=&#x27;most_frequent&#x27;)</pre></div></div></div><div class=\"sk-item\"><div class=\"sk-estimator sk-toggleable\"><input class=\"sk-toggleable__control sk-hidden--visually\" id=\"sk-estimator-id-13\" type=\"checkbox\" ><label for=\"sk-estimator-id-13\" class=\"sk-toggleable__label sk-toggleable__label-arrow\">OneHotEncoder</label><div class=\"sk-toggleable__content\"><pre>OneHotEncoder(handle_unknown=&#x27;ignore&#x27;)</pre></div></div></div></div></div></div></div></div></div></div></div></div>"
      ],
      "text/plain": [
       "ColumnTransformer(transformers=[('pipeline-1',\n",
       "                                 Pipeline(steps=[('simpleimputer',\n",
       "                                                  SimpleImputer(strategy='median')),\n",
       "                                                 ('standardscaler',\n",
       "                                                  StandardScaler())]),\n",
       "                                 <sklearn.compose._column_transformer.make_column_selector object at 0x7d1993213bb0>),\n",
       "                                ('pipeline-2',\n",
       "                                 Pipeline(steps=[('simpleimputer',\n",
       "                                                  SimpleImputer(strategy='most_frequent')),\n",
       "                                                 ('onehotencoder',\n",
       "                                                  OneHotEncoder(handle_unknown='ignore'))]),\n",
       "                                 <sklearn.compose._column_transformer.make_column_selector object at 0x7d19c3fb9810>)])"
      ]
     },
     "execution_count": 22,
     "metadata": {},
     "output_type": "execute_result"
    }
   ],
   "source": [
    "col_trans = make_column_transformer(\n",
    "    (num_pipeline, num_col_sel),\n",
    "    (cat_pipeline, cat_col_sel)\n",
    ")\n",
    "\n",
    "col_trans"
   ]
  },
  {
   "cell_type": "markdown",
   "id": "e3453544",
   "metadata": {
    "papermill": {
     "duration": 0.021235,
     "end_time": "2023-10-24T16:11:56.964752",
     "exception": false,
     "start_time": "2023-10-24T16:11:56.943517",
     "status": "completed"
    },
    "tags": []
   },
   "source": [
    "### Create a function pipeline to preprocessing"
   ]
  },
  {
   "cell_type": "code",
   "execution_count": 23,
   "id": "81c2b494",
   "metadata": {
    "execution": {
     "iopub.execute_input": "2023-10-24T16:11:57.009159Z",
     "iopub.status.busy": "2023-10-24T16:11:57.008403Z",
     "iopub.status.idle": "2023-10-24T16:11:57.013625Z",
     "shell.execute_reply": "2023-10-24T16:11:57.012766Z"
    },
    "papermill": {
     "duration": 0.029981,
     "end_time": "2023-10-24T16:11:57.015898",
     "exception": false,
     "start_time": "2023-10-24T16:11:56.985917",
     "status": "completed"
    },
    "tags": []
   },
   "outputs": [],
   "source": [
    "rmv_cols = FunctionTransformer(drop_columns)\n",
    "feat_cols = FunctionTransformer(feature_eng)"
   ]
  },
  {
   "cell_type": "markdown",
   "id": "cf5e8dca",
   "metadata": {
    "papermill": {
     "duration": 0.021483,
     "end_time": "2023-10-24T16:11:57.059911",
     "exception": false,
     "start_time": "2023-10-24T16:11:57.038428",
     "status": "completed"
    },
    "tags": []
   },
   "source": [
    "### Join all components to one preprocess pipeline"
   ]
  },
  {
   "cell_type": "code",
   "execution_count": 24,
   "id": "13a10f28",
   "metadata": {
    "execution": {
     "iopub.execute_input": "2023-10-24T16:11:57.106498Z",
     "iopub.status.busy": "2023-10-24T16:11:57.106104Z",
     "iopub.status.idle": "2023-10-24T16:11:57.190126Z",
     "shell.execute_reply": "2023-10-24T16:11:57.188978Z"
    },
    "papermill": {
     "duration": 0.110227,
     "end_time": "2023-10-24T16:11:57.192655",
     "exception": false,
     "start_time": "2023-10-24T16:11:57.082428",
     "status": "completed"
    },
    "tags": []
   },
   "outputs": [
    {
     "data": {
      "text/html": [
       "<style>#sk-container-id-4 {color: black;background-color: white;}#sk-container-id-4 pre{padding: 0;}#sk-container-id-4 div.sk-toggleable {background-color: white;}#sk-container-id-4 label.sk-toggleable__label {cursor: pointer;display: block;width: 100%;margin-bottom: 0;padding: 0.3em;box-sizing: border-box;text-align: center;}#sk-container-id-4 label.sk-toggleable__label-arrow:before {content: \"▸\";float: left;margin-right: 0.25em;color: #696969;}#sk-container-id-4 label.sk-toggleable__label-arrow:hover:before {color: black;}#sk-container-id-4 div.sk-estimator:hover label.sk-toggleable__label-arrow:before {color: black;}#sk-container-id-4 div.sk-toggleable__content {max-height: 0;max-width: 0;overflow: hidden;text-align: left;background-color: #f0f8ff;}#sk-container-id-4 div.sk-toggleable__content pre {margin: 0.2em;color: black;border-radius: 0.25em;background-color: #f0f8ff;}#sk-container-id-4 input.sk-toggleable__control:checked~div.sk-toggleable__content {max-height: 200px;max-width: 100%;overflow: auto;}#sk-container-id-4 input.sk-toggleable__control:checked~label.sk-toggleable__label-arrow:before {content: \"▾\";}#sk-container-id-4 div.sk-estimator input.sk-toggleable__control:checked~label.sk-toggleable__label {background-color: #d4ebff;}#sk-container-id-4 div.sk-label input.sk-toggleable__control:checked~label.sk-toggleable__label {background-color: #d4ebff;}#sk-container-id-4 input.sk-hidden--visually {border: 0;clip: rect(1px 1px 1px 1px);clip: rect(1px, 1px, 1px, 1px);height: 1px;margin: -1px;overflow: hidden;padding: 0;position: absolute;width: 1px;}#sk-container-id-4 div.sk-estimator {font-family: monospace;background-color: #f0f8ff;border: 1px dotted black;border-radius: 0.25em;box-sizing: border-box;margin-bottom: 0.5em;}#sk-container-id-4 div.sk-estimator:hover {background-color: #d4ebff;}#sk-container-id-4 div.sk-parallel-item::after {content: \"\";width: 100%;border-bottom: 1px solid gray;flex-grow: 1;}#sk-container-id-4 div.sk-label:hover label.sk-toggleable__label {background-color: #d4ebff;}#sk-container-id-4 div.sk-serial::before {content: \"\";position: absolute;border-left: 1px solid gray;box-sizing: border-box;top: 0;bottom: 0;left: 50%;z-index: 0;}#sk-container-id-4 div.sk-serial {display: flex;flex-direction: column;align-items: center;background-color: white;padding-right: 0.2em;padding-left: 0.2em;position: relative;}#sk-container-id-4 div.sk-item {position: relative;z-index: 1;}#sk-container-id-4 div.sk-parallel {display: flex;align-items: stretch;justify-content: center;background-color: white;position: relative;}#sk-container-id-4 div.sk-item::before, #sk-container-id-4 div.sk-parallel-item::before {content: \"\";position: absolute;border-left: 1px solid gray;box-sizing: border-box;top: 0;bottom: 0;left: 50%;z-index: -1;}#sk-container-id-4 div.sk-parallel-item {display: flex;flex-direction: column;z-index: 1;position: relative;background-color: white;}#sk-container-id-4 div.sk-parallel-item:first-child::after {align-self: flex-end;width: 50%;}#sk-container-id-4 div.sk-parallel-item:last-child::after {align-self: flex-start;width: 50%;}#sk-container-id-4 div.sk-parallel-item:only-child::after {width: 0;}#sk-container-id-4 div.sk-dashed-wrapped {border: 1px dashed gray;margin: 0 0.4em 0.5em 0.4em;box-sizing: border-box;padding-bottom: 0.4em;background-color: white;}#sk-container-id-4 div.sk-label label {font-family: monospace;font-weight: bold;display: inline-block;line-height: 1.2em;}#sk-container-id-4 div.sk-label-container {text-align: center;}#sk-container-id-4 div.sk-container {/* jupyter's `normalize.less` sets `[hidden] { display: none; }` but bootstrap.min.css set `[hidden] { display: none !important; }` so we also need the `!important` here to be able to override the default hidden behavior on the sphinx rendered scikit-learn.org. See: https://github.com/scikit-learn/scikit-learn/issues/21755 */display: inline-block !important;position: relative;}#sk-container-id-4 div.sk-text-repr-fallback {display: none;}</style><div id=\"sk-container-id-4\" class=\"sk-top-container\"><div class=\"sk-text-repr-fallback\"><pre>Pipeline(steps=[(&#x27;functiontransformer-1&#x27;,\n",
       "                 FunctionTransformer(func=&lt;function drop_columns at 0x7d19817eb6d0&gt;)),\n",
       "                (&#x27;functiontransformer-2&#x27;,\n",
       "                 FunctionTransformer(func=&lt;function feature_eng at 0x7d19817e81f0&gt;)),\n",
       "                (&#x27;columntransformer&#x27;,\n",
       "                 ColumnTransformer(transformers=[(&#x27;pipeline-1&#x27;,\n",
       "                                                  Pipeline(steps=[(&#x27;simpleimputer&#x27;,\n",
       "                                                                   SimpleImputer(strategy=&#x27;median&#x27;)),\n",
       "                                                                  (&#x27;standardscaler&#x27;,\n",
       "                                                                   StandardScaler())]),\n",
       "                                                  &lt;sklearn.compose._column_transformer.make_column_selector object at 0x7d1993213bb0&gt;),\n",
       "                                                 (&#x27;pipeline-2&#x27;,\n",
       "                                                  Pipeline(steps=[(&#x27;simpleimputer&#x27;,\n",
       "                                                                   SimpleImputer(strategy=&#x27;most_frequent&#x27;)),\n",
       "                                                                  (&#x27;onehotencoder&#x27;,\n",
       "                                                                   OneHotEncoder(handle_unknown=&#x27;ignore&#x27;))]),\n",
       "                                                  &lt;sklearn.compose._column_transformer.make_column_selector object at 0x7d19c3fb9810&gt;)]))])</pre><b>In a Jupyter environment, please rerun this cell to show the HTML representation or trust the notebook. <br />On GitHub, the HTML representation is unable to render, please try loading this page with nbviewer.org.</b></div><div class=\"sk-container\" hidden><div class=\"sk-item sk-dashed-wrapped\"><div class=\"sk-label-container\"><div class=\"sk-label sk-toggleable\"><input class=\"sk-toggleable__control sk-hidden--visually\" id=\"sk-estimator-id-14\" type=\"checkbox\" ><label for=\"sk-estimator-id-14\" class=\"sk-toggleable__label sk-toggleable__label-arrow\">Pipeline</label><div class=\"sk-toggleable__content\"><pre>Pipeline(steps=[(&#x27;functiontransformer-1&#x27;,\n",
       "                 FunctionTransformer(func=&lt;function drop_columns at 0x7d19817eb6d0&gt;)),\n",
       "                (&#x27;functiontransformer-2&#x27;,\n",
       "                 FunctionTransformer(func=&lt;function feature_eng at 0x7d19817e81f0&gt;)),\n",
       "                (&#x27;columntransformer&#x27;,\n",
       "                 ColumnTransformer(transformers=[(&#x27;pipeline-1&#x27;,\n",
       "                                                  Pipeline(steps=[(&#x27;simpleimputer&#x27;,\n",
       "                                                                   SimpleImputer(strategy=&#x27;median&#x27;)),\n",
       "                                                                  (&#x27;standardscaler&#x27;,\n",
       "                                                                   StandardScaler())]),\n",
       "                                                  &lt;sklearn.compose._column_transformer.make_column_selector object at 0x7d1993213bb0&gt;),\n",
       "                                                 (&#x27;pipeline-2&#x27;,\n",
       "                                                  Pipeline(steps=[(&#x27;simpleimputer&#x27;,\n",
       "                                                                   SimpleImputer(strategy=&#x27;most_frequent&#x27;)),\n",
       "                                                                  (&#x27;onehotencoder&#x27;,\n",
       "                                                                   OneHotEncoder(handle_unknown=&#x27;ignore&#x27;))]),\n",
       "                                                  &lt;sklearn.compose._column_transformer.make_column_selector object at 0x7d19c3fb9810&gt;)]))])</pre></div></div></div><div class=\"sk-serial\"><div class=\"sk-item\"><div class=\"sk-estimator sk-toggleable\"><input class=\"sk-toggleable__control sk-hidden--visually\" id=\"sk-estimator-id-15\" type=\"checkbox\" ><label for=\"sk-estimator-id-15\" class=\"sk-toggleable__label sk-toggleable__label-arrow\">FunctionTransformer</label><div class=\"sk-toggleable__content\"><pre>FunctionTransformer(func=&lt;function drop_columns at 0x7d19817eb6d0&gt;)</pre></div></div></div><div class=\"sk-item\"><div class=\"sk-estimator sk-toggleable\"><input class=\"sk-toggleable__control sk-hidden--visually\" id=\"sk-estimator-id-16\" type=\"checkbox\" ><label for=\"sk-estimator-id-16\" class=\"sk-toggleable__label sk-toggleable__label-arrow\">FunctionTransformer</label><div class=\"sk-toggleable__content\"><pre>FunctionTransformer(func=&lt;function feature_eng at 0x7d19817e81f0&gt;)</pre></div></div></div><div class=\"sk-item sk-dashed-wrapped\"><div class=\"sk-label-container\"><div class=\"sk-label sk-toggleable\"><input class=\"sk-toggleable__control sk-hidden--visually\" id=\"sk-estimator-id-17\" type=\"checkbox\" ><label for=\"sk-estimator-id-17\" class=\"sk-toggleable__label sk-toggleable__label-arrow\">columntransformer: ColumnTransformer</label><div class=\"sk-toggleable__content\"><pre>ColumnTransformer(transformers=[(&#x27;pipeline-1&#x27;,\n",
       "                                 Pipeline(steps=[(&#x27;simpleimputer&#x27;,\n",
       "                                                  SimpleImputer(strategy=&#x27;median&#x27;)),\n",
       "                                                 (&#x27;standardscaler&#x27;,\n",
       "                                                  StandardScaler())]),\n",
       "                                 &lt;sklearn.compose._column_transformer.make_column_selector object at 0x7d1993213bb0&gt;),\n",
       "                                (&#x27;pipeline-2&#x27;,\n",
       "                                 Pipeline(steps=[(&#x27;simpleimputer&#x27;,\n",
       "                                                  SimpleImputer(strategy=&#x27;most_frequent&#x27;)),\n",
       "                                                 (&#x27;onehotencoder&#x27;,\n",
       "                                                  OneHotEncoder(handle_unknown=&#x27;ignore&#x27;))]),\n",
       "                                 &lt;sklearn.compose._column_transformer.make_column_selector object at 0x7d19c3fb9810&gt;)])</pre></div></div></div><div class=\"sk-parallel\"><div class=\"sk-parallel-item\"><div class=\"sk-item\"><div class=\"sk-label-container\"><div class=\"sk-label sk-toggleable\"><input class=\"sk-toggleable__control sk-hidden--visually\" id=\"sk-estimator-id-18\" type=\"checkbox\" ><label for=\"sk-estimator-id-18\" class=\"sk-toggleable__label sk-toggleable__label-arrow\">pipeline-1</label><div class=\"sk-toggleable__content\"><pre>&lt;sklearn.compose._column_transformer.make_column_selector object at 0x7d1993213bb0&gt;</pre></div></div></div><div class=\"sk-serial\"><div class=\"sk-item\"><div class=\"sk-serial\"><div class=\"sk-item\"><div class=\"sk-estimator sk-toggleable\"><input class=\"sk-toggleable__control sk-hidden--visually\" id=\"sk-estimator-id-19\" type=\"checkbox\" ><label for=\"sk-estimator-id-19\" class=\"sk-toggleable__label sk-toggleable__label-arrow\">SimpleImputer</label><div class=\"sk-toggleable__content\"><pre>SimpleImputer(strategy=&#x27;median&#x27;)</pre></div></div></div><div class=\"sk-item\"><div class=\"sk-estimator sk-toggleable\"><input class=\"sk-toggleable__control sk-hidden--visually\" id=\"sk-estimator-id-20\" type=\"checkbox\" ><label for=\"sk-estimator-id-20\" class=\"sk-toggleable__label sk-toggleable__label-arrow\">StandardScaler</label><div class=\"sk-toggleable__content\"><pre>StandardScaler()</pre></div></div></div></div></div></div></div></div><div class=\"sk-parallel-item\"><div class=\"sk-item\"><div class=\"sk-label-container\"><div class=\"sk-label sk-toggleable\"><input class=\"sk-toggleable__control sk-hidden--visually\" id=\"sk-estimator-id-21\" type=\"checkbox\" ><label for=\"sk-estimator-id-21\" class=\"sk-toggleable__label sk-toggleable__label-arrow\">pipeline-2</label><div class=\"sk-toggleable__content\"><pre>&lt;sklearn.compose._column_transformer.make_column_selector object at 0x7d19c3fb9810&gt;</pre></div></div></div><div class=\"sk-serial\"><div class=\"sk-item\"><div class=\"sk-serial\"><div class=\"sk-item\"><div class=\"sk-estimator sk-toggleable\"><input class=\"sk-toggleable__control sk-hidden--visually\" id=\"sk-estimator-id-22\" type=\"checkbox\" ><label for=\"sk-estimator-id-22\" class=\"sk-toggleable__label sk-toggleable__label-arrow\">SimpleImputer</label><div class=\"sk-toggleable__content\"><pre>SimpleImputer(strategy=&#x27;most_frequent&#x27;)</pre></div></div></div><div class=\"sk-item\"><div class=\"sk-estimator sk-toggleable\"><input class=\"sk-toggleable__control sk-hidden--visually\" id=\"sk-estimator-id-23\" type=\"checkbox\" ><label for=\"sk-estimator-id-23\" class=\"sk-toggleable__label sk-toggleable__label-arrow\">OneHotEncoder</label><div class=\"sk-toggleable__content\"><pre>OneHotEncoder(handle_unknown=&#x27;ignore&#x27;)</pre></div></div></div></div></div></div></div></div></div></div></div></div></div></div>"
      ],
      "text/plain": [
       "Pipeline(steps=[('functiontransformer-1',\n",
       "                 FunctionTransformer(func=<function drop_columns at 0x7d19817eb6d0>)),\n",
       "                ('functiontransformer-2',\n",
       "                 FunctionTransformer(func=<function feature_eng at 0x7d19817e81f0>)),\n",
       "                ('columntransformer',\n",
       "                 ColumnTransformer(transformers=[('pipeline-1',\n",
       "                                                  Pipeline(steps=[('simpleimputer',\n",
       "                                                                   SimpleImputer(strategy='median')),\n",
       "                                                                  ('standardscaler',\n",
       "                                                                   StandardScaler())]),\n",
       "                                                  <sklearn.compose._column_transformer.make_column_selector object at 0x7d1993213bb0>),\n",
       "                                                 ('pipeline-2',\n",
       "                                                  Pipeline(steps=[('simpleimputer',\n",
       "                                                                   SimpleImputer(strategy='most_frequent')),\n",
       "                                                                  ('onehotencoder',\n",
       "                                                                   OneHotEncoder(handle_unknown='ignore'))]),\n",
       "                                                  <sklearn.compose._column_transformer.make_column_selector object at 0x7d19c3fb9810>)]))])"
      ]
     },
     "execution_count": 24,
     "metadata": {},
     "output_type": "execute_result"
    }
   ],
   "source": [
    "preprocess = make_pipeline(rmv_cols, feat_cols, col_trans)\n",
    "preprocess"
   ]
  },
  {
   "cell_type": "markdown",
   "id": "cc3bee82",
   "metadata": {
    "papermill": {
     "duration": 0.021683,
     "end_time": "2023-10-24T16:11:57.236761",
     "exception": false,
     "start_time": "2023-10-24T16:11:57.215078",
     "status": "completed"
    },
    "tags": []
   },
   "source": [
    "## Divide data into train and validation sets"
   ]
  },
  {
   "cell_type": "code",
   "execution_count": 25,
   "id": "042f1679",
   "metadata": {
    "execution": {
     "iopub.execute_input": "2023-10-24T16:11:57.282078Z",
     "iopub.status.busy": "2023-10-24T16:11:57.281709Z",
     "iopub.status.idle": "2023-10-24T16:11:57.292061Z",
     "shell.execute_reply": "2023-10-24T16:11:57.290824Z"
    },
    "papermill": {
     "duration": 0.036022,
     "end_time": "2023-10-24T16:11:57.294510",
     "exception": false,
     "start_time": "2023-10-24T16:11:57.258488",
     "status": "completed"
    },
    "tags": []
   },
   "outputs": [],
   "source": [
    "X_train, X_valid, y_train, y_valid = train_test_split(X_space, y_space, test_size=0.15,\n",
    "                                                      random_state=42)"
   ]
  },
  {
   "cell_type": "code",
   "execution_count": 26,
   "id": "bc32e767",
   "metadata": {
    "execution": {
     "iopub.execute_input": "2023-10-24T16:11:57.340144Z",
     "iopub.status.busy": "2023-10-24T16:11:57.339715Z",
     "iopub.status.idle": "2023-10-24T16:11:57.345044Z",
     "shell.execute_reply": "2023-10-24T16:11:57.344054Z"
    },
    "papermill": {
     "duration": 0.030523,
     "end_time": "2023-10-24T16:11:57.347375",
     "exception": false,
     "start_time": "2023-10-24T16:11:57.316852",
     "status": "completed"
    },
    "tags": []
   },
   "outputs": [
    {
     "name": "stdout",
     "output_type": "stream",
     "text": [
      "Train set shape: \n",
      "(7389, 15)\n"
     ]
    }
   ],
   "source": [
    "print(f\"Train set shape: {nl}{X_train.shape}\")"
   ]
  },
  {
   "cell_type": "code",
   "execution_count": 27,
   "id": "bf256e50",
   "metadata": {
    "execution": {
     "iopub.execute_input": "2023-10-24T16:11:57.393168Z",
     "iopub.status.busy": "2023-10-24T16:11:57.392729Z",
     "iopub.status.idle": "2023-10-24T16:11:57.398226Z",
     "shell.execute_reply": "2023-10-24T16:11:57.397118Z"
    },
    "papermill": {
     "duration": 0.030611,
     "end_time": "2023-10-24T16:11:57.400355",
     "exception": false,
     "start_time": "2023-10-24T16:11:57.369744",
     "status": "completed"
    },
    "tags": []
   },
   "outputs": [
    {
     "name": "stdout",
     "output_type": "stream",
     "text": [
      "Validation set shape: \n",
      "(1304, 15)\n"
     ]
    }
   ],
   "source": [
    "print(f\"Validation set shape: {nl}{X_valid.shape}\")"
   ]
  },
  {
   "cell_type": "markdown",
   "id": "48efca9b",
   "metadata": {
    "execution": {
     "iopub.execute_input": "2023-10-21T00:14:36.599581Z",
     "iopub.status.busy": "2023-10-21T00:14:36.599063Z",
     "iopub.status.idle": "2023-10-21T00:14:36.604975Z",
     "shell.execute_reply": "2023-10-21T00:14:36.603627Z",
     "shell.execute_reply.started": "2023-10-21T00:14:36.599544Z"
    },
    "papermill": {
     "duration": 0.021559,
     "end_time": "2023-10-24T16:11:57.443912",
     "exception": false,
     "start_time": "2023-10-24T16:11:57.422353",
     "status": "completed"
    },
    "tags": []
   },
   "source": [
    "## Voting classifier"
   ]
  },
  {
   "cell_type": "markdown",
   "id": "b00b47c2",
   "metadata": {
    "papermill": {
     "duration": 0.021397,
     "end_time": "2023-10-24T16:11:57.487604",
     "exception": false,
     "start_time": "2023-10-24T16:11:57.466207",
     "status": "completed"
    },
    "tags": []
   },
   "source": [
    "### Model training"
   ]
  },
  {
   "cell_type": "code",
   "execution_count": 28,
   "id": "32891ffd",
   "metadata": {
    "execution": {
     "iopub.execute_input": "2023-10-24T16:11:57.532598Z",
     "iopub.status.busy": "2023-10-24T16:11:57.532175Z",
     "iopub.status.idle": "2023-10-24T16:11:57.537982Z",
     "shell.execute_reply": "2023-10-24T16:11:57.536903Z"
    },
    "papermill": {
     "duration": 0.031068,
     "end_time": "2023-10-24T16:11:57.540208",
     "exception": false,
     "start_time": "2023-10-24T16:11:57.509140",
     "status": "completed"
    },
    "tags": []
   },
   "outputs": [],
   "source": [
    "clf1 = DecisionTreeClassifier()\n",
    "clf2 = LogisticRegression()\n",
    "clf3 = SVC()\n",
    "eclf = VotingClassifier(estimators=[(\"dtc\", clf1), (\"lr\", clf2), (\"svm\", clf3)])\n",
    "model = make_pipeline(preprocess, eclf)"
   ]
  },
  {
   "cell_type": "code",
   "execution_count": 29,
   "id": "16bb8bd8",
   "metadata": {
    "execution": {
     "iopub.execute_input": "2023-10-24T16:11:57.585547Z",
     "iopub.status.busy": "2023-10-24T16:11:57.585131Z",
     "iopub.status.idle": "2023-10-24T16:12:07.160028Z",
     "shell.execute_reply": "2023-10-24T16:12:07.158954Z"
    },
    "papermill": {
     "duration": 9.600588,
     "end_time": "2023-10-24T16:12:07.162552",
     "exception": false,
     "start_time": "2023-10-24T16:11:57.561964",
     "status": "completed"
    },
    "tags": []
   },
   "outputs": [],
   "source": [
    "score = cross_val_score(model, X_train, y_train, scoring=\"accuracy\",cv=5)"
   ]
  },
  {
   "cell_type": "code",
   "execution_count": 30,
   "id": "faf8bb19",
   "metadata": {
    "execution": {
     "iopub.execute_input": "2023-10-24T16:12:07.208205Z",
     "iopub.status.busy": "2023-10-24T16:12:07.207286Z",
     "iopub.status.idle": "2023-10-24T16:12:07.212932Z",
     "shell.execute_reply": "2023-10-24T16:12:07.212252Z"
    },
    "papermill": {
     "duration": 0.030475,
     "end_time": "2023-10-24T16:12:07.214898",
     "exception": false,
     "start_time": "2023-10-24T16:12:07.184423",
     "status": "completed"
    },
    "tags": []
   },
   "outputs": [
    {
     "data": {
      "text/plain": [
       "array([0.77740189, 0.79296346, 0.80311231, 0.79837618, 0.81178064])"
      ]
     },
     "execution_count": 30,
     "metadata": {},
     "output_type": "execute_result"
    }
   ],
   "source": [
    "score"
   ]
  },
  {
   "cell_type": "code",
   "execution_count": 31,
   "id": "590f247d",
   "metadata": {
    "execution": {
     "iopub.execute_input": "2023-10-24T16:12:07.261948Z",
     "iopub.status.busy": "2023-10-24T16:12:07.261555Z",
     "iopub.status.idle": "2023-10-24T16:12:09.619322Z",
     "shell.execute_reply": "2023-10-24T16:12:09.618296Z"
    },
    "papermill": {
     "duration": 2.384102,
     "end_time": "2023-10-24T16:12:09.621945",
     "exception": false,
     "start_time": "2023-10-24T16:12:07.237843",
     "status": "completed"
    },
    "tags": []
   },
   "outputs": [],
   "source": [
    "_ = model.fit(X_train, y_train)"
   ]
  },
  {
   "cell_type": "markdown",
   "id": "108f77b1",
   "metadata": {
    "papermill": {
     "duration": 0.022394,
     "end_time": "2023-10-24T16:12:09.667460",
     "exception": false,
     "start_time": "2023-10-24T16:12:09.645066",
     "status": "completed"
    },
    "tags": []
   },
   "source": [
    "### Model testing"
   ]
  },
  {
   "cell_type": "code",
   "execution_count": 32,
   "id": "ea243cc7",
   "metadata": {
    "execution": {
     "iopub.execute_input": "2023-10-24T16:12:09.714409Z",
     "iopub.status.busy": "2023-10-24T16:12:09.713731Z",
     "iopub.status.idle": "2023-10-24T16:12:10.144967Z",
     "shell.execute_reply": "2023-10-24T16:12:10.143874Z"
    },
    "papermill": {
     "duration": 0.457685,
     "end_time": "2023-10-24T16:12:10.147905",
     "exception": false,
     "start_time": "2023-10-24T16:12:09.690220",
     "status": "completed"
    },
    "tags": []
   },
   "outputs": [
    {
     "name": "stdout",
     "output_type": "stream",
     "text": [
      "F1-score: 0.79\n"
     ]
    }
   ],
   "source": [
    "predictions = model.predict(X_valid)\n",
    "print(f\"F1-score: {np.around(f1_score(y_valid, predictions),2)}\")"
   ]
  },
  {
   "cell_type": "code",
   "execution_count": 33,
   "id": "6f50044f",
   "metadata": {
    "execution": {
     "iopub.execute_input": "2023-10-24T16:12:10.194941Z",
     "iopub.status.busy": "2023-10-24T16:12:10.194530Z",
     "iopub.status.idle": "2023-10-24T16:12:10.202667Z",
     "shell.execute_reply": "2023-10-24T16:12:10.201017Z"
    },
    "papermill": {
     "duration": 0.034553,
     "end_time": "2023-10-24T16:12:10.204743",
     "exception": false,
     "start_time": "2023-10-24T16:12:10.170190",
     "status": "completed"
    },
    "tags": []
   },
   "outputs": [
    {
     "name": "stdout",
     "output_type": "stream",
     "text": [
      "Accuracy: 0.79\n"
     ]
    }
   ],
   "source": [
    "print(f\"Accuracy: {np.around(accuracy_score(y_valid, predictions), 2)}\")"
   ]
  },
  {
   "cell_type": "code",
   "execution_count": 34,
   "id": "226e0731",
   "metadata": {
    "execution": {
     "iopub.execute_input": "2023-10-24T16:12:10.251076Z",
     "iopub.status.busy": "2023-10-24T16:12:10.250654Z",
     "iopub.status.idle": "2023-10-24T16:12:10.506659Z",
     "shell.execute_reply": "2023-10-24T16:12:10.505500Z"
    },
    "papermill": {
     "duration": 0.282026,
     "end_time": "2023-10-24T16:12:10.509133",
     "exception": false,
     "start_time": "2023-10-24T16:12:10.227107",
     "status": "completed"
    },
    "tags": []
   },
   "outputs": [
    {
     "data": {
      "image/png": "[encoded data removed]",
      "text/plain": [
       "<Figure size 640x480 with 2 Axes>"
      ]
     },
     "metadata": {},
     "output_type": "display_data"
    }
   ],
   "source": [
    "conf_mat = confusion_matrix(y_valid, predictions)\n",
    "plt.title(\"Confusion matrix\")\n",
    "sns.heatmap(conf_mat, annot=True, cmap=sns.cubehelix_palette(as_cmap=True), fmt='d')\n",
    "plt.show()"
   ]
  },
  {
   "cell_type": "markdown",
   "id": "df5bc352",
   "metadata": {
    "papermill": {
     "duration": 0.022443,
     "end_time": "2023-10-24T16:12:10.554519",
     "exception": false,
     "start_time": "2023-10-24T16:12:10.532076",
     "status": "completed"
    },
    "tags": []
   },
   "source": [
    "### Hyperparameter tuning"
   ]
  },
  {
   "cell_type": "code",
   "execution_count": 35,
   "id": "8fb3b4e5",
   "metadata": {
    "execution": {
     "iopub.execute_input": "2023-10-24T16:12:10.601170Z",
     "iopub.status.busy": "2023-10-24T16:12:10.600525Z",
     "iopub.status.idle": "2023-10-24T16:12:10.606743Z",
     "shell.execute_reply": "2023-10-24T16:12:10.605966Z"
    },
    "papermill": {
     "duration": 0.032047,
     "end_time": "2023-10-24T16:12:10.608762",
     "exception": false,
     "start_time": "2023-10-24T16:12:10.576715",
     "status": "completed"
    },
    "tags": []
   },
   "outputs": [],
   "source": [
    "params = {\"dtc__max_depth\": [2, 5, 10],\n",
    "    \"dtc__min_samples_leaf\": [5, 10, 20],\n",
    "    \"lr__penalty\" : [\"l2\", \"l1\", \"elasticnet\"],\n",
    "    \"lr__solver\" : [\"lbfgs\", \"newton-cholesky\"],\n",
    "    \"svm__kernel\" : [\"poly\", \"rbf\"],\n",
    "    \"svm__C\" : [0.5, 1.0]}\n",
    "clf1 = SVC()\n",
    "clf2 = DecisionTreeClassifier()\n",
    "clf3 = LogisticRegression()\n",
    "eclf1 = VotingClassifier(estimators=[(\"svm\", clf1), (\"dtc\", clf2), (\"lr\", clf3)])"
   ]
  },
  {
   "cell_type": "code",
   "execution_count": 36,
   "id": "80ed7ce9",
   "metadata": {
    "execution": {
     "iopub.execute_input": "2023-10-24T16:12:10.656830Z",
     "iopub.status.busy": "2023-10-24T16:12:10.656143Z",
     "iopub.status.idle": "2023-10-24T16:12:10.722200Z",
     "shell.execute_reply": "2023-10-24T16:12:10.720884Z"
    },
    "papermill": {
     "duration": 0.092549,
     "end_time": "2023-10-24T16:12:10.724949",
     "exception": false,
     "start_time": "2023-10-24T16:12:10.632400",
     "status": "completed"
    },
    "tags": []
   },
   "outputs": [],
   "source": [
    "X_train_preprocess = preprocess.fit_transform(X_train)\n",
    "gridcv = GridSearchCV(eclf1,param_grid=params, cv=3)"
   ]
  },
  {
   "cell_type": "code",
   "execution_count": 37,
   "id": "16925a76",
   "metadata": {
    "execution": {
     "iopub.execute_input": "2023-10-24T16:12:10.772123Z",
     "iopub.status.busy": "2023-10-24T16:12:10.771712Z",
     "iopub.status.idle": "2023-10-24T16:23:52.399129Z",
     "shell.execute_reply": "2023-10-24T16:23:52.398045Z"
    },
    "papermill": {
     "duration": 701.693648,
     "end_time": "2023-10-24T16:23:52.441442",
     "exception": false,
     "start_time": "2023-10-24T16:12:10.747794",
     "status": "completed"
    },
    "tags": []
   },
   "outputs": [
    {
     "data": {
      "text/html": [
       "<style>#sk-container-id-5 {color: black;background-color: white;}#sk-container-id-5 pre{padding: 0;}#sk-container-id-5 div.sk-toggleable {background-color: white;}#sk-container-id-5 label.sk-toggleable__label {cursor: pointer;display: block;width: 100%;margin-bottom: 0;padding: 0.3em;box-sizing: border-box;text-align: center;}#sk-container-id-5 label.sk-toggleable__label-arrow:before {content: \"▸\";float: left;margin-right: 0.25em;color: #696969;}#sk-container-id-5 label.sk-toggleable__label-arrow:hover:before {color: black;}#sk-container-id-5 div.sk-estimator:hover label.sk-toggleable__label-arrow:before {color: black;}#sk-container-id-5 div.sk-toggleable__content {max-height: 0;max-width: 0;overflow: hidden;text-align: left;background-color: #f0f8ff;}#sk-container-id-5 div.sk-toggleable__content pre {margin: 0.2em;color: black;border-radius: 0.25em;background-color: #f0f8ff;}#sk-container-id-5 input.sk-toggleable__control:checked~div.sk-toggleable__content {max-height: 200px;max-width: 100%;overflow: auto;}#sk-container-id-5 input.sk-toggleable__control:checked~label.sk-toggleable__label-arrow:before {content: \"▾\";}#sk-container-id-5 div.sk-estimator input.sk-toggleable__control:checked~label.sk-toggleable__label {background-color: #d4ebff;}#sk-container-id-5 div.sk-label input.sk-toggleable__control:checked~label.sk-toggleable__label {background-color: #d4ebff;}#sk-container-id-5 input.sk-hidden--visually {border: 0;clip: rect(1px 1px 1px 1px);clip: rect(1px, 1px, 1px, 1px);height: 1px;margin: -1px;overflow: hidden;padding: 0;position: absolute;width: 1px;}#sk-container-id-5 div.sk-estimator {font-family: monospace;background-color: #f0f8ff;border: 1px dotted black;border-radius: 0.25em;box-sizing: border-box;margin-bottom: 0.5em;}#sk-container-id-5 div.sk-estimator:hover {background-color: #d4ebff;}#sk-container-id-5 div.sk-parallel-item::after {content: \"\";width: 100%;border-bottom: 1px solid gray;flex-grow: 1;}#sk-container-id-5 div.sk-label:hover label.sk-toggleable__label {background-color: #d4ebff;}#sk-container-id-5 div.sk-serial::before {content: \"\";position: absolute;border-left: 1px solid gray;box-sizing: border-box;top: 0;bottom: 0;left: 50%;z-index: 0;}#sk-container-id-5 div.sk-serial {display: flex;flex-direction: column;align-items: center;background-color: white;padding-right: 0.2em;padding-left: 0.2em;position: relative;}#sk-container-id-5 div.sk-item {position: relative;z-index: 1;}#sk-container-id-5 div.sk-parallel {display: flex;align-items: stretch;justify-content: center;background-color: white;position: relative;}#sk-container-id-5 div.sk-item::before, #sk-container-id-5 div.sk-parallel-item::before {content: \"\";position: absolute;border-left: 1px solid gray;box-sizing: border-box;top: 0;bottom: 0;left: 50%;z-index: -1;}#sk-container-id-5 div.sk-parallel-item {display: flex;flex-direction: column;z-index: 1;position: relative;background-color: white;}#sk-container-id-5 div.sk-parallel-item:first-child::after {align-self: flex-end;width: 50%;}#sk-container-id-5 div.sk-parallel-item:last-child::after {align-self: flex-start;width: 50%;}#sk-container-id-5 div.sk-parallel-item:only-child::after {width: 0;}#sk-container-id-5 div.sk-dashed-wrapped {border: 1px dashed gray;margin: 0 0.4em 0.5em 0.4em;box-sizing: border-box;padding-bottom: 0.4em;background-color: white;}#sk-container-id-5 div.sk-label label {font-family: monospace;font-weight: bold;display: inline-block;line-height: 1.2em;}#sk-container-id-5 div.sk-label-container {text-align: center;}#sk-container-id-5 div.sk-container {/* jupyter's `normalize.less` sets `[hidden] { display: none; }` but bootstrap.min.css set `[hidden] { display: none !important; }` so we also need the `!important` here to be able to override the default hidden behavior on the sphinx rendered scikit-learn.org. See: https://github.com/scikit-learn/scikit-learn/issues/21755 */display: inline-block !important;position: relative;}#sk-container-id-5 div.sk-text-repr-fallback {display: none;}</style><div id=\"sk-container-id-5\" class=\"sk-top-container\"><div class=\"sk-text-repr-fallback\"><pre>GridSearchCV(cv=3,\n",
       "             estimator=VotingClassifier(estimators=[(&#x27;svm&#x27;, SVC()),\n",
       "                                                    (&#x27;dtc&#x27;,\n",
       "                                                     DecisionTreeClassifier()),\n",
       "                                                    (&#x27;lr&#x27;,\n",
       "                                                     LogisticRegression())]),\n",
       "             param_grid={&#x27;dtc__max_depth&#x27;: [2, 5, 10],\n",
       "                         &#x27;dtc__min_samples_leaf&#x27;: [5, 10, 20],\n",
       "                         &#x27;lr__penalty&#x27;: [&#x27;l2&#x27;, &#x27;l1&#x27;, &#x27;elasticnet&#x27;],\n",
       "                         &#x27;lr__solver&#x27;: [&#x27;lbfgs&#x27;, &#x27;newton-cholesky&#x27;],\n",
       "                         &#x27;svm__C&#x27;: [0.5, 1.0], &#x27;svm__kernel&#x27;: [&#x27;poly&#x27;, &#x27;rbf&#x27;]})</pre><b>In a Jupyter environment, please rerun this cell to show the HTML representation or trust the notebook. <br />On GitHub, the HTML representation is unable to render, please try loading this page with nbviewer.org.</b></div><div class=\"sk-container\" hidden><div class=\"sk-item sk-dashed-wrapped\"><div class=\"sk-label-container\"><div class=\"sk-label sk-toggleable\"><input class=\"sk-toggleable__control sk-hidden--visually\" id=\"sk-estimator-id-24\" type=\"checkbox\" ><label for=\"sk-estimator-id-24\" class=\"sk-toggleable__label sk-toggleable__label-arrow\">GridSearchCV</label><div class=\"sk-toggleable__content\"><pre>GridSearchCV(cv=3,\n",
       "             estimator=VotingClassifier(estimators=[(&#x27;svm&#x27;, SVC()),\n",
       "                                                    (&#x27;dtc&#x27;,\n",
       "                                                     DecisionTreeClassifier()),\n",
       "                                                    (&#x27;lr&#x27;,\n",
       "                                                     LogisticRegression())]),\n",
       "             param_grid={&#x27;dtc__max_depth&#x27;: [2, 5, 10],\n",
       "                         &#x27;dtc__min_samples_leaf&#x27;: [5, 10, 20],\n",
       "                         &#x27;lr__penalty&#x27;: [&#x27;l2&#x27;, &#x27;l1&#x27;, &#x27;elasticnet&#x27;],\n",
       "                         &#x27;lr__solver&#x27;: [&#x27;lbfgs&#x27;, &#x27;newton-cholesky&#x27;],\n",
       "                         &#x27;svm__C&#x27;: [0.5, 1.0], &#x27;svm__kernel&#x27;: [&#x27;poly&#x27;, &#x27;rbf&#x27;]})</pre></div></div></div><div class=\"sk-parallel\"><div class=\"sk-parallel-item\"><div class=\"sk-item\"><div class=\"sk-label-container\"><div class=\"sk-label sk-toggleable\"><input class=\"sk-toggleable__control sk-hidden--visually\" id=\"sk-estimator-id-25\" type=\"checkbox\" ><label for=\"sk-estimator-id-25\" class=\"sk-toggleable__label sk-toggleable__label-arrow\">estimator: VotingClassifier</label><div class=\"sk-toggleable__content\"><pre>VotingClassifier(estimators=[(&#x27;svm&#x27;, SVC()), (&#x27;dtc&#x27;, DecisionTreeClassifier()),\n",
       "                             (&#x27;lr&#x27;, LogisticRegression())])</pre></div></div></div><div class=\"sk-serial\"><div class=\"sk-item sk-dashed-wrapped\"><div class=\"sk-parallel\"><div class=\"sk-parallel-item\"><div class=\"sk-item\"><div class=\"sk-label-container\"><div class=\"sk-label sk-toggleable\"><label>svm</label></div></div><div class=\"sk-serial\"><div class=\"sk-item\"><div class=\"sk-estimator sk-toggleable\"><input class=\"sk-toggleable__control sk-hidden--visually\" id=\"sk-estimator-id-26\" type=\"checkbox\" ><label for=\"sk-estimator-id-26\" class=\"sk-toggleable__label sk-toggleable__label-arrow\">SVC</label><div class=\"sk-toggleable__content\"><pre>SVC()</pre></div></div></div></div></div></div><div class=\"sk-parallel-item\"><div class=\"sk-item\"><div class=\"sk-label-container\"><div class=\"sk-label sk-toggleable\"><label>dtc</label></div></div><div class=\"sk-serial\"><div class=\"sk-item\"><div class=\"sk-estimator sk-toggleable\"><input class=\"sk-toggleable__control sk-hidden--visually\" id=\"sk-estimator-id-27\" type=\"checkbox\" ><label for=\"sk-estimator-id-27\" class=\"sk-toggleable__label sk-toggleable__label-arrow\">DecisionTreeClassifier</label><div class=\"sk-toggleable__content\"><pre>DecisionTreeClassifier()</pre></div></div></div></div></div></div><div class=\"sk-parallel-item\"><div class=\"sk-item\"><div class=\"sk-label-container\"><div class=\"sk-label sk-toggleable\"><label>lr</label></div></div><div class=\"sk-serial\"><div class=\"sk-item\"><div class=\"sk-estimator sk-toggleable\"><input class=\"sk-toggleable__control sk-hidden--visually\" id=\"sk-estimator-id-28\" type=\"checkbox\" ><label for=\"sk-estimator-id-28\" class=\"sk-toggleable__label sk-toggleable__label-arrow\">LogisticRegression</label><div class=\"sk-toggleable__content\"><pre>LogisticRegression()</pre></div></div></div></div></div></div></div></div></div></div></div></div></div></div></div>"
      ],
      "text/plain": [
       "GridSearchCV(cv=3,\n",
       "             estimator=VotingClassifier(estimators=[('svm', SVC()),\n",
       "                                                    ('dtc',\n",
       "                                                     DecisionTreeClassifier()),\n",
       "                                                    ('lr',\n",
       "                                                     LogisticRegression())]),\n",
       "             param_grid={'dtc__max_depth': [2, 5, 10],\n",
       "                         'dtc__min_samples_leaf': [5, 10, 20],\n",
       "                         'lr__penalty': ['l2', 'l1', 'elasticnet'],\n",
       "                         'lr__solver': ['lbfgs', 'newton-cholesky'],\n",
       "                         'svm__C': [0.5, 1.0], 'svm__kernel': ['poly', 'rbf']})"
      ]
     },
     "execution_count": 37,
     "metadata": {},
     "output_type": "execute_result"
    }
   ],
   "source": [
    "gridcv.fit(X_train_preprocess, y_train)"
   ]
  },
  {
   "cell_type": "code",
   "execution_count": 38,
   "id": "2514504e",
   "metadata": {
    "execution": {
     "iopub.execute_input": "2023-10-24T16:23:52.505873Z",
     "iopub.status.busy": "2023-10-24T16:23:52.504969Z",
     "iopub.status.idle": "2023-10-24T16:23:52.510737Z",
     "shell.execute_reply": "2023-10-24T16:23:52.510021Z"
    },
    "papermill": {
     "duration": 0.031615,
     "end_time": "2023-10-24T16:23:52.512552",
     "exception": false,
     "start_time": "2023-10-24T16:23:52.480937",
     "status": "completed"
    },
    "tags": []
   },
   "outputs": [
    {
     "data": {
      "text/plain": [
       "{'dtc__max_depth': 10,\n",
       " 'dtc__min_samples_leaf': 5,\n",
       " 'lr__penalty': 'l2',\n",
       " 'lr__solver': 'lbfgs',\n",
       " 'svm__C': 1.0,\n",
       " 'svm__kernel': 'poly'}"
      ]
     },
     "execution_count": 38,
     "metadata": {},
     "output_type": "execute_result"
    }
   ],
   "source": [
    "gridcv.best_params_"
   ]
  },
  {
   "cell_type": "markdown",
   "id": "b20e95bc",
   "metadata": {
    "papermill": {
     "duration": 0.022412,
     "end_time": "2023-10-24T16:23:52.557669",
     "exception": false,
     "start_time": "2023-10-24T16:23:52.535257",
     "status": "completed"
    },
    "tags": []
   },
   "source": [
    "### Testing model after hyperparameter tunig"
   ]
  },
  {
   "cell_type": "code",
   "execution_count": 39,
   "id": "be60018d",
   "metadata": {
    "execution": {
     "iopub.execute_input": "2023-10-24T16:23:52.604650Z",
     "iopub.status.busy": "2023-10-24T16:23:52.604049Z",
     "iopub.status.idle": "2023-10-24T16:23:52.819634Z",
     "shell.execute_reply": "2023-10-24T16:23:52.818548Z"
    },
    "papermill": {
     "duration": 0.24233,
     "end_time": "2023-10-24T16:23:52.822382",
     "exception": false,
     "start_time": "2023-10-24T16:23:52.580052",
     "status": "completed"
    },
    "tags": []
   },
   "outputs": [
    {
     "data": {
      "text/plain": [
       "0.7875766871165644"
      ]
     },
     "execution_count": 39,
     "metadata": {},
     "output_type": "execute_result"
    }
   ],
   "source": [
    "X_valid_preprocess = preprocess.transform(X_valid)\n",
    "gridcv.best_estimator_.score(X_valid_preprocess, y_valid)"
   ]
  },
  {
   "cell_type": "code",
   "execution_count": 40,
   "id": "0151e321",
   "metadata": {
    "execution": {
     "iopub.execute_input": "2023-10-24T16:23:52.909877Z",
     "iopub.status.busy": "2023-10-24T16:23:52.909351Z",
     "iopub.status.idle": "2023-10-24T16:23:53.103122Z",
     "shell.execute_reply": "2023-10-24T16:23:53.101741Z"
    },
    "papermill": {
     "duration": 0.241223,
     "end_time": "2023-10-24T16:23:53.106347",
     "exception": false,
     "start_time": "2023-10-24T16:23:52.865124",
     "status": "completed"
    },
    "tags": []
   },
   "outputs": [
    {
     "name": "stdout",
     "output_type": "stream",
     "text": [
      "F1-score: 0.79\n"
     ]
    }
   ],
   "source": [
    "y_pred = gridcv.predict(X_valid_preprocess)\n",
    "print(f\"F1-score: {np.around(f1_score(y_valid, y_pred),2)}\")"
   ]
  },
  {
   "cell_type": "code",
   "execution_count": 41,
   "id": "92f3f97c",
   "metadata": {
    "execution": {
     "iopub.execute_input": "2023-10-24T16:23:53.186436Z",
     "iopub.status.busy": "2023-10-24T16:23:53.185896Z",
     "iopub.status.idle": "2023-10-24T16:23:53.447422Z",
     "shell.execute_reply": "2023-10-24T16:23:53.446368Z"
    },
    "papermill": {
     "duration": 0.304046,
     "end_time": "2023-10-24T16:23:53.449524",
     "exception": false,
     "start_time": "2023-10-24T16:23:53.145478",
     "status": "completed"
    },
    "tags": []
   },
   "outputs": [
    {
     "data": {
      "image/png": "[encoded data removed]",
      "text/plain": [
       "<Figure size 640x480 with 2 Axes>"
      ]
     },
     "metadata": {},
     "output_type": "display_data"
    }
   ],
   "source": [
    "conf_mat = confusion_matrix(y_valid, y_pred)\n",
    "plt.title(\"Confusion matrix\")\n",
    "sns.heatmap(conf_mat, annot=True, cmap=sns.cubehelix_palette(as_cmap=True), fmt='d')\n",
    "plt.show()"
   ]
  },
  {
   "cell_type": "markdown",
   "id": "68eea693",
   "metadata": {
    "execution": {
     "iopub.execute_input": "2023-10-21T00:13:13.688162Z",
     "iopub.status.busy": "2023-10-21T00:13:13.687555Z",
     "iopub.status.idle": "2023-10-21T00:13:13.719812Z",
     "shell.execute_reply": "2023-10-21T00:13:13.718905Z",
     "shell.execute_reply.started": "2023-10-21T00:13:13.688131Z"
    },
    "papermill": {
     "duration": 0.022987,
     "end_time": "2023-10-24T16:23:53.495765",
     "exception": false,
     "start_time": "2023-10-24T16:23:53.472778",
     "status": "completed"
    },
    "tags": []
   },
   "source": [
    "## XGboost"
   ]
  },
  {
   "cell_type": "markdown",
   "id": "6ccd572f",
   "metadata": {
    "papermill": {
     "duration": 0.022874,
     "end_time": "2023-10-24T16:23:53.541605",
     "exception": false,
     "start_time": "2023-10-24T16:23:53.518731",
     "status": "completed"
    },
    "tags": []
   },
   "source": [
    "### Model training"
   ]
  },
  {
   "cell_type": "code",
   "execution_count": 42,
   "id": "eafbf294",
   "metadata": {
    "execution": {
     "iopub.execute_input": "2023-10-24T16:23:53.589617Z",
     "iopub.status.busy": "2023-10-24T16:23:53.589182Z",
     "iopub.status.idle": "2023-10-24T16:23:53.791190Z",
     "shell.execute_reply": "2023-10-24T16:23:53.790168Z"
    },
    "papermill": {
     "duration": 0.228824,
     "end_time": "2023-10-24T16:23:53.793592",
     "exception": false,
     "start_time": "2023-10-24T16:23:53.564768",
     "status": "completed"
    },
    "tags": []
   },
   "outputs": [
    {
     "data": {
      "text/html": [
       "<style>#sk-container-id-6 {color: black;background-color: white;}#sk-container-id-6 pre{padding: 0;}#sk-container-id-6 div.sk-toggleable {background-color: white;}#sk-container-id-6 label.sk-toggleable__label {cursor: pointer;display: block;width: 100%;margin-bottom: 0;padding: 0.3em;box-sizing: border-box;text-align: center;}#sk-container-id-6 label.sk-toggleable__label-arrow:before {content: \"▸\";float: left;margin-right: 0.25em;color: #696969;}#sk-container-id-6 label.sk-toggleable__label-arrow:hover:before {color: black;}#sk-container-id-6 div.sk-estimator:hover label.sk-toggleable__label-arrow:before {color: black;}#sk-container-id-6 div.sk-toggleable__content {max-height: 0;max-width: 0;overflow: hidden;text-align: left;background-color: #f0f8ff;}#sk-container-id-6 div.sk-toggleable__content pre {margin: 0.2em;color: black;border-radius: 0.25em;background-color: #f0f8ff;}#sk-container-id-6 input.sk-toggleable__control:checked~div.sk-toggleable__content {max-height: 200px;max-width: 100%;overflow: auto;}#sk-container-id-6 input.sk-toggleable__control:checked~label.sk-toggleable__label-arrow:before {content: \"▾\";}#sk-container-id-6 div.sk-estimator input.sk-toggleable__control:checked~label.sk-toggleable__label {background-color: #d4ebff;}#sk-container-id-6 div.sk-label input.sk-toggleable__control:checked~label.sk-toggleable__label {background-color: #d4ebff;}#sk-container-id-6 input.sk-hidden--visually {border: 0;clip: rect(1px 1px 1px 1px);clip: rect(1px, 1px, 1px, 1px);height: 1px;margin: -1px;overflow: hidden;padding: 0;position: absolute;width: 1px;}#sk-container-id-6 div.sk-estimator {font-family: monospace;background-color: #f0f8ff;border: 1px dotted black;border-radius: 0.25em;box-sizing: border-box;margin-bottom: 0.5em;}#sk-container-id-6 div.sk-estimator:hover {background-color: #d4ebff;}#sk-container-id-6 div.sk-parallel-item::after {content: \"\";width: 100%;border-bottom: 1px solid gray;flex-grow: 1;}#sk-container-id-6 div.sk-label:hover label.sk-toggleable__label {background-color: #d4ebff;}#sk-container-id-6 div.sk-serial::before {content: \"\";position: absolute;border-left: 1px solid gray;box-sizing: border-box;top: 0;bottom: 0;left: 50%;z-index: 0;}#sk-container-id-6 div.sk-serial {display: flex;flex-direction: column;align-items: center;background-color: white;padding-right: 0.2em;padding-left: 0.2em;position: relative;}#sk-container-id-6 div.sk-item {position: relative;z-index: 1;}#sk-container-id-6 div.sk-parallel {display: flex;align-items: stretch;justify-content: center;background-color: white;position: relative;}#sk-container-id-6 div.sk-item::before, #sk-container-id-6 div.sk-parallel-item::before {content: \"\";position: absolute;border-left: 1px solid gray;box-sizing: border-box;top: 0;bottom: 0;left: 50%;z-index: -1;}#sk-container-id-6 div.sk-parallel-item {display: flex;flex-direction: column;z-index: 1;position: relative;background-color: white;}#sk-container-id-6 div.sk-parallel-item:first-child::after {align-self: flex-end;width: 50%;}#sk-container-id-6 div.sk-parallel-item:last-child::after {align-self: flex-start;width: 50%;}#sk-container-id-6 div.sk-parallel-item:only-child::after {width: 0;}#sk-container-id-6 div.sk-dashed-wrapped {border: 1px dashed gray;margin: 0 0.4em 0.5em 0.4em;box-sizing: border-box;padding-bottom: 0.4em;background-color: white;}#sk-container-id-6 div.sk-label label {font-family: monospace;font-weight: bold;display: inline-block;line-height: 1.2em;}#sk-container-id-6 div.sk-label-container {text-align: center;}#sk-container-id-6 div.sk-container {/* jupyter's `normalize.less` sets `[hidden] { display: none; }` but bootstrap.min.css set `[hidden] { display: none !important; }` so we also need the `!important` here to be able to override the default hidden behavior on the sphinx rendered scikit-learn.org. See: https://github.com/scikit-learn/scikit-learn/issues/21755 */display: inline-block !important;position: relative;}#sk-container-id-6 div.sk-text-repr-fallback {display: none;}</style><div id=\"sk-container-id-6\" class=\"sk-top-container\"><div class=\"sk-text-repr-fallback\"><pre>Pipeline(steps=[(&#x27;pipeline&#x27;,\n",
       "                 Pipeline(steps=[(&#x27;functiontransformer-1&#x27;,\n",
       "                                  FunctionTransformer(func=&lt;function drop_columns at 0x7d19817eb6d0&gt;)),\n",
       "                                 (&#x27;functiontransformer-2&#x27;,\n",
       "                                  FunctionTransformer(func=&lt;function feature_eng at 0x7d19817e81f0&gt;)),\n",
       "                                 (&#x27;columntransformer&#x27;,\n",
       "                                  ColumnTransformer(transformers=[(&#x27;pipeline-1&#x27;,\n",
       "                                                                   Pipeline(steps=[(&#x27;simpleimputer&#x27;,\n",
       "                                                                                    SimpleImputer(strategy=&#x27;m...\n",
       "                               feature_types=None, gamma=None, gpu_id=None,\n",
       "                               grow_policy=None, importance_type=None,\n",
       "                               interaction_constraints=None, learning_rate=None,\n",
       "                               max_bin=None, max_cat_threshold=None,\n",
       "                               max_cat_to_onehot=None, max_delta_step=None,\n",
       "                               max_depth=None, max_leaves=None,\n",
       "                               min_child_weight=None, missing=nan,\n",
       "                               monotone_constraints=None, n_estimators=100,\n",
       "                               n_jobs=None, num_parallel_tree=None,\n",
       "                               predictor=None, random_state=None, ...))])</pre><b>In a Jupyter environment, please rerun this cell to show the HTML representation or trust the notebook. <br />On GitHub, the HTML representation is unable to render, please try loading this page with nbviewer.org.</b></div><div class=\"sk-container\" hidden><div class=\"sk-item sk-dashed-wrapped\"><div class=\"sk-label-container\"><div class=\"sk-label sk-toggleable\"><input class=\"sk-toggleable__control sk-hidden--visually\" id=\"sk-estimator-id-29\" type=\"checkbox\" ><label for=\"sk-estimator-id-29\" class=\"sk-toggleable__label sk-toggleable__label-arrow\">Pipeline</label><div class=\"sk-toggleable__content\"><pre>Pipeline(steps=[(&#x27;pipeline&#x27;,\n",
       "                 Pipeline(steps=[(&#x27;functiontransformer-1&#x27;,\n",
       "                                  FunctionTransformer(func=&lt;function drop_columns at 0x7d19817eb6d0&gt;)),\n",
       "                                 (&#x27;functiontransformer-2&#x27;,\n",
       "                                  FunctionTransformer(func=&lt;function feature_eng at 0x7d19817e81f0&gt;)),\n",
       "                                 (&#x27;columntransformer&#x27;,\n",
       "                                  ColumnTransformer(transformers=[(&#x27;pipeline-1&#x27;,\n",
       "                                                                   Pipeline(steps=[(&#x27;simpleimputer&#x27;,\n",
       "                                                                                    SimpleImputer(strategy=&#x27;m...\n",
       "                               feature_types=None, gamma=None, gpu_id=None,\n",
       "                               grow_policy=None, importance_type=None,\n",
       "                               interaction_constraints=None, learning_rate=None,\n",
       "                               max_bin=None, max_cat_threshold=None,\n",
       "                               max_cat_to_onehot=None, max_delta_step=None,\n",
       "                               max_depth=None, max_leaves=None,\n",
       "                               min_child_weight=None, missing=nan,\n",
       "                               monotone_constraints=None, n_estimators=100,\n",
       "                               n_jobs=None, num_parallel_tree=None,\n",
       "                               predictor=None, random_state=None, ...))])</pre></div></div></div><div class=\"sk-serial\"><div class=\"sk-item\"><div class=\"sk-label-container\"><div class=\"sk-label sk-toggleable\"><input class=\"sk-toggleable__control sk-hidden--visually\" id=\"sk-estimator-id-30\" type=\"checkbox\" ><label for=\"sk-estimator-id-30\" class=\"sk-toggleable__label sk-toggleable__label-arrow\">pipeline: Pipeline</label><div class=\"sk-toggleable__content\"><pre>Pipeline(steps=[(&#x27;functiontransformer-1&#x27;,\n",
       "                 FunctionTransformer(func=&lt;function drop_columns at 0x7d19817eb6d0&gt;)),\n",
       "                (&#x27;functiontransformer-2&#x27;,\n",
       "                 FunctionTransformer(func=&lt;function feature_eng at 0x7d19817e81f0&gt;)),\n",
       "                (&#x27;columntransformer&#x27;,\n",
       "                 ColumnTransformer(transformers=[(&#x27;pipeline-1&#x27;,\n",
       "                                                  Pipeline(steps=[(&#x27;simpleimputer&#x27;,\n",
       "                                                                   SimpleImputer(strategy=&#x27;median&#x27;)),\n",
       "                                                                  (&#x27;standardscaler&#x27;,\n",
       "                                                                   StandardScaler())]),\n",
       "                                                  &lt;sklearn.compose._column_transformer.make_column_selector object at 0x7d1993213bb0&gt;),\n",
       "                                                 (&#x27;pipeline-2&#x27;,\n",
       "                                                  Pipeline(steps=[(&#x27;simpleimputer&#x27;,\n",
       "                                                                   SimpleImputer(strategy=&#x27;most_frequent&#x27;)),\n",
       "                                                                  (&#x27;onehotencoder&#x27;,\n",
       "                                                                   OneHotEncoder(handle_unknown=&#x27;ignore&#x27;))]),\n",
       "                                                  &lt;sklearn.compose._column_transformer.make_column_selector object at 0x7d19c3fb9810&gt;)]))])</pre></div></div></div><div class=\"sk-serial\"><div class=\"sk-item\"><div class=\"sk-estimator sk-toggleable\"><input class=\"sk-toggleable__control sk-hidden--visually\" id=\"sk-estimator-id-31\" type=\"checkbox\" ><label for=\"sk-estimator-id-31\" class=\"sk-toggleable__label sk-toggleable__label-arrow\">FunctionTransformer</label><div class=\"sk-toggleable__content\"><pre>FunctionTransformer(func=&lt;function drop_columns at 0x7d19817eb6d0&gt;)</pre></div></div></div><div class=\"sk-item\"><div class=\"sk-estimator sk-toggleable\"><input class=\"sk-toggleable__control sk-hidden--visually\" id=\"sk-estimator-id-32\" type=\"checkbox\" ><label for=\"sk-estimator-id-32\" class=\"sk-toggleable__label sk-toggleable__label-arrow\">FunctionTransformer</label><div class=\"sk-toggleable__content\"><pre>FunctionTransformer(func=&lt;function feature_eng at 0x7d19817e81f0&gt;)</pre></div></div></div><div class=\"sk-item sk-dashed-wrapped\"><div class=\"sk-label-container\"><div class=\"sk-label sk-toggleable\"><input class=\"sk-toggleable__control sk-hidden--visually\" id=\"sk-estimator-id-33\" type=\"checkbox\" ><label for=\"sk-estimator-id-33\" class=\"sk-toggleable__label sk-toggleable__label-arrow\">columntransformer: ColumnTransformer</label><div class=\"sk-toggleable__content\"><pre>ColumnTransformer(transformers=[(&#x27;pipeline-1&#x27;,\n",
       "                                 Pipeline(steps=[(&#x27;simpleimputer&#x27;,\n",
       "                                                  SimpleImputer(strategy=&#x27;median&#x27;)),\n",
       "                                                 (&#x27;standardscaler&#x27;,\n",
       "                                                  StandardScaler())]),\n",
       "                                 &lt;sklearn.compose._column_transformer.make_column_selector object at 0x7d1993213bb0&gt;),\n",
       "                                (&#x27;pipeline-2&#x27;,\n",
       "                                 Pipeline(steps=[(&#x27;simpleimputer&#x27;,\n",
       "                                                  SimpleImputer(strategy=&#x27;most_frequent&#x27;)),\n",
       "                                                 (&#x27;onehotencoder&#x27;,\n",
       "                                                  OneHotEncoder(handle_unknown=&#x27;ignore&#x27;))]),\n",
       "                                 &lt;sklearn.compose._column_transformer.make_column_selector object at 0x7d19c3fb9810&gt;)])</pre></div></div></div><div class=\"sk-parallel\"><div class=\"sk-parallel-item\"><div class=\"sk-item\"><div class=\"sk-label-container\"><div class=\"sk-label sk-toggleable\"><input class=\"sk-toggleable__control sk-hidden--visually\" id=\"sk-estimator-id-34\" type=\"checkbox\" ><label for=\"sk-estimator-id-34\" class=\"sk-toggleable__label sk-toggleable__label-arrow\">pipeline-1</label><div class=\"sk-toggleable__content\"><pre>&lt;sklearn.compose._column_transformer.make_column_selector object at 0x7d1993213bb0&gt;</pre></div></div></div><div class=\"sk-serial\"><div class=\"sk-item\"><div class=\"sk-serial\"><div class=\"sk-item\"><div class=\"sk-estimator sk-toggleable\"><input class=\"sk-toggleable__control sk-hidden--visually\" id=\"sk-estimator-id-35\" type=\"checkbox\" ><label for=\"sk-estimator-id-35\" class=\"sk-toggleable__label sk-toggleable__label-arrow\">SimpleImputer</label><div class=\"sk-toggleable__content\"><pre>SimpleImputer(strategy=&#x27;median&#x27;)</pre></div></div></div><div class=\"sk-item\"><div class=\"sk-estimator sk-toggleable\"><input class=\"sk-toggleable__control sk-hidden--visually\" id=\"sk-estimator-id-36\" type=\"checkbox\" ><label for=\"sk-estimator-id-36\" class=\"sk-toggleable__label sk-toggleable__label-arrow\">StandardScaler</label><div class=\"sk-toggleable__content\"><pre>StandardScaler()</pre></div></div></div></div></div></div></div></div><div class=\"sk-parallel-item\"><div class=\"sk-item\"><div class=\"sk-label-container\"><div class=\"sk-label sk-toggleable\"><input class=\"sk-toggleable__control sk-hidden--visually\" id=\"sk-estimator-id-37\" type=\"checkbox\" ><label for=\"sk-estimator-id-37\" class=\"sk-toggleable__label sk-toggleable__label-arrow\">pipeline-2</label><div class=\"sk-toggleable__content\"><pre>&lt;sklearn.compose._column_transformer.make_column_selector object at 0x7d19c3fb9810&gt;</pre></div></div></div><div class=\"sk-serial\"><div class=\"sk-item\"><div class=\"sk-serial\"><div class=\"sk-item\"><div class=\"sk-estimator sk-toggleable\"><input class=\"sk-toggleable__control sk-hidden--visually\" id=\"sk-estimator-id-38\" type=\"checkbox\" ><label for=\"sk-estimator-id-38\" class=\"sk-toggleable__label sk-toggleable__label-arrow\">SimpleImputer</label><div class=\"sk-toggleable__content\"><pre>SimpleImputer(strategy=&#x27;most_frequent&#x27;)</pre></div></div></div><div class=\"sk-item\"><div class=\"sk-estimator sk-toggleable\"><input class=\"sk-toggleable__control sk-hidden--visually\" id=\"sk-estimator-id-39\" type=\"checkbox\" ><label for=\"sk-estimator-id-39\" class=\"sk-toggleable__label sk-toggleable__label-arrow\">OneHotEncoder</label><div class=\"sk-toggleable__content\"><pre>OneHotEncoder(handle_unknown=&#x27;ignore&#x27;)</pre></div></div></div></div></div></div></div></div></div></div></div></div><div class=\"sk-item\"><div class=\"sk-estimator sk-toggleable\"><input class=\"sk-toggleable__control sk-hidden--visually\" id=\"sk-estimator-id-40\" type=\"checkbox\" ><label for=\"sk-estimator-id-40\" class=\"sk-toggleable__label sk-toggleable__label-arrow\">XGBClassifier</label><div class=\"sk-toggleable__content\"><pre>XGBClassifier(base_score=None, booster=None, callbacks=None,\n",
       "              colsample_bylevel=None, colsample_bynode=None,\n",
       "              colsample_bytree=None, early_stopping_rounds=None,\n",
       "              enable_categorical=False, eval_metric=None, feature_types=None,\n",
       "              gamma=None, gpu_id=None, grow_policy=None, importance_type=None,\n",
       "              interaction_constraints=None, learning_rate=None, max_bin=None,\n",
       "              max_cat_threshold=None, max_cat_to_onehot=None,\n",
       "              max_delta_step=None, max_depth=None, max_leaves=None,\n",
       "              min_child_weight=None, missing=nan, monotone_constraints=None,\n",
       "              n_estimators=100, n_jobs=None, num_parallel_tree=None,\n",
       "              predictor=None, random_state=None, ...)</pre></div></div></div></div></div></div></div>"
      ],
      "text/plain": [
       "Pipeline(steps=[('pipeline',\n",
       "                 Pipeline(steps=[('functiontransformer-1',\n",
       "                                  FunctionTransformer(func=<function drop_columns at 0x7d19817eb6d0>)),\n",
       "                                 ('functiontransformer-2',\n",
       "                                  FunctionTransformer(func=<function feature_eng at 0x7d19817e81f0>)),\n",
       "                                 ('columntransformer',\n",
       "                                  ColumnTransformer(transformers=[('pipeline-1',\n",
       "                                                                   Pipeline(steps=[('simpleimputer',\n",
       "                                                                                    SimpleImputer(strategy='m...\n",
       "                               feature_types=None, gamma=None, gpu_id=None,\n",
       "                               grow_policy=None, importance_type=None,\n",
       "                               interaction_constraints=None, learning_rate=None,\n",
       "                               max_bin=None, max_cat_threshold=None,\n",
       "                               max_cat_to_onehot=None, max_delta_step=None,\n",
       "                               max_depth=None, max_leaves=None,\n",
       "                               min_child_weight=None, missing=nan,\n",
       "                               monotone_constraints=None, n_estimators=100,\n",
       "                               n_jobs=None, num_parallel_tree=None,\n",
       "                               predictor=None, random_state=None, ...))])"
      ]
     },
     "execution_count": 42,
     "metadata": {},
     "output_type": "execute_result"
    }
   ],
   "source": [
    "xgclf = XGBClassifier()\n",
    "model1 = make_pipeline(preprocess, xgclf)\n",
    "model1"
   ]
  },
  {
   "cell_type": "code",
   "execution_count": 43,
   "id": "60328a06",
   "metadata": {
    "execution": {
     "iopub.execute_input": "2023-10-24T16:23:53.842420Z",
     "iopub.status.busy": "2023-10-24T16:23:53.842011Z",
     "iopub.status.idle": "2023-10-24T16:23:57.004688Z",
     "shell.execute_reply": "2023-10-24T16:23:57.003556Z"
    },
    "papermill": {
     "duration": 3.189584,
     "end_time": "2023-10-24T16:23:57.006924",
     "exception": false,
     "start_time": "2023-10-24T16:23:53.817340",
     "status": "completed"
    },
    "tags": []
   },
   "outputs": [
    {
     "data": {
      "text/plain": [
       "array([0.77604871, 0.79364005, 0.80987821, 0.80987821, 0.80907244])"
      ]
     },
     "execution_count": 43,
     "metadata": {},
     "output_type": "execute_result"
    }
   ],
   "source": [
    "score = cross_val_score(model1, X_train, y_train, scoring=\"accuracy\",cv=5)\n",
    "score"
   ]
  },
  {
   "cell_type": "code",
   "execution_count": 44,
   "id": "db25ab60",
   "metadata": {
    "execution": {
     "iopub.execute_input": "2023-10-24T16:23:57.056418Z",
     "iopub.status.busy": "2023-10-24T16:23:57.056021Z",
     "iopub.status.idle": "2023-10-24T16:23:57.765958Z",
     "shell.execute_reply": "2023-10-24T16:23:57.765056Z"
    },
    "papermill": {
     "duration": 0.737442,
     "end_time": "2023-10-24T16:23:57.768411",
     "exception": false,
     "start_time": "2023-10-24T16:23:57.030969",
     "status": "completed"
    },
    "tags": []
   },
   "outputs": [],
   "source": [
    "_ = model1.fit(X_train, y_train)"
   ]
  },
  {
   "cell_type": "markdown",
   "id": "0522dfa8",
   "metadata": {
    "papermill": {
     "duration": 0.025993,
     "end_time": "2023-10-24T16:23:57.820723",
     "exception": false,
     "start_time": "2023-10-24T16:23:57.794730",
     "status": "completed"
    },
    "tags": []
   },
   "source": [
    "### Model testing"
   ]
  },
  {
   "cell_type": "code",
   "execution_count": 45,
   "id": "6a1d19ec",
   "metadata": {
    "execution": {
     "iopub.execute_input": "2023-10-24T16:23:57.870761Z",
     "iopub.status.busy": "2023-10-24T16:23:57.869811Z",
     "iopub.status.idle": "2023-10-24T16:23:57.914591Z",
     "shell.execute_reply": "2023-10-24T16:23:57.913422Z"
    },
    "papermill": {
     "duration": 0.072678,
     "end_time": "2023-10-24T16:23:57.917242",
     "exception": false,
     "start_time": "2023-10-24T16:23:57.844564",
     "status": "completed"
    },
    "tags": []
   },
   "outputs": [
    {
     "data": {
      "text/plain": [
       "0.79"
      ]
     },
     "execution_count": 45,
     "metadata": {},
     "output_type": "execute_result"
    }
   ],
   "source": [
    "X_valid_preprocess = preprocess.transform(X_valid)\n",
    "np.around(model1.score(X_valid, y_valid), 2)"
   ]
  },
  {
   "cell_type": "code",
   "execution_count": 46,
   "id": "6e8f9d57",
   "metadata": {
    "execution": {
     "iopub.execute_input": "2023-10-24T16:23:57.967382Z",
     "iopub.status.busy": "2023-10-24T16:23:57.966734Z",
     "iopub.status.idle": "2023-10-24T16:23:57.997054Z",
     "shell.execute_reply": "2023-10-24T16:23:57.995869Z"
    },
    "papermill": {
     "duration": 0.058027,
     "end_time": "2023-10-24T16:23:57.999328",
     "exception": false,
     "start_time": "2023-10-24T16:23:57.941301",
     "status": "completed"
    },
    "tags": []
   },
   "outputs": [
    {
     "name": "stdout",
     "output_type": "stream",
     "text": [
      "F1-score: 0.79\n"
     ]
    }
   ],
   "source": [
    "y_pred = model1.predict(X_valid)\n",
    "print(f\"F1-score: {np.around(f1_score(y_valid, y_pred),2)}\")"
   ]
  },
  {
   "cell_type": "code",
   "execution_count": 47,
   "id": "925837f7",
   "metadata": {
    "execution": {
     "iopub.execute_input": "2023-10-24T16:23:58.050079Z",
     "iopub.status.busy": "2023-10-24T16:23:58.048882Z",
     "iopub.status.idle": "2023-10-24T16:23:58.313311Z",
     "shell.execute_reply": "2023-10-24T16:23:58.312140Z"
    },
    "papermill": {
     "duration": 0.292357,
     "end_time": "2023-10-24T16:23:58.315713",
     "exception": false,
     "start_time": "2023-10-24T16:23:58.023356",
     "status": "completed"
    },
    "tags": []
   },
   "outputs": [
    {
     "data": {
      "image/png": "[encoded data removed]",
      "text/plain": [
       "<Figure size 640x480 with 2 Axes>"
      ]
     },
     "metadata": {},
     "output_type": "display_data"
    }
   ],
   "source": [
    "conf_mat = confusion_matrix(y_valid, y_pred)\n",
    "plt.title(\"Confusion matrix\")\n",
    "sns.heatmap(conf_mat, annot=True, cmap=sns.cubehelix_palette(as_cmap=True), fmt='d')\n",
    "plt.show()"
   ]
  },
  {
   "cell_type": "markdown",
   "id": "ea42d4f7",
   "metadata": {
    "papermill": {
     "duration": 0.024464,
     "end_time": "2023-10-24T16:23:58.365864",
     "exception": false,
     "start_time": "2023-10-24T16:23:58.341400",
     "status": "completed"
    },
    "tags": []
   },
   "source": [
    "### Hyperparameter tuning"
   ]
  },
  {
   "cell_type": "code",
   "execution_count": 48,
   "id": "a72d6265",
   "metadata": {
    "execution": {
     "iopub.execute_input": "2023-10-24T16:23:58.416908Z",
     "iopub.status.busy": "2023-10-24T16:23:58.416507Z",
     "iopub.status.idle": "2023-10-24T16:23:58.422257Z",
     "shell.execute_reply": "2023-10-24T16:23:58.420794Z"
    },
    "papermill": {
     "duration": 0.034227,
     "end_time": "2023-10-24T16:23:58.424728",
     "exception": false,
     "start_time": "2023-10-24T16:23:58.390501",
     "status": "completed"
    },
    "tags": []
   },
   "outputs": [],
   "source": [
    "params = { \n",
    "    \"max_depth\":[3, 5,10],\n",
    "    \"n_estimators\": [100, 200, 300 , 400],\n",
    "    \"min_samples_leaf\": [5, 10, 20],\n",
    "    \"eta\":[0.1, 0.2, 0.3]\n",
    "}\n",
    "xgboost1 = XGBClassifier(verbosity = 0)"
   ]
  },
  {
   "cell_type": "code",
   "execution_count": 49,
   "id": "cc5293c6",
   "metadata": {
    "execution": {
     "iopub.execute_input": "2023-10-24T16:23:58.476765Z",
     "iopub.status.busy": "2023-10-24T16:23:58.476044Z",
     "iopub.status.idle": "2023-10-24T16:23:58.646246Z",
     "shell.execute_reply": "2023-10-24T16:23:58.645385Z"
    },
    "papermill": {
     "duration": 0.198952,
     "end_time": "2023-10-24T16:23:58.648819",
     "exception": false,
     "start_time": "2023-10-24T16:23:58.449867",
     "status": "completed"
    },
    "tags": []
   },
   "outputs": [],
   "source": [
    "X_train_preprocess = preprocess.fit_transform(X_train)\n",
    "xgboost_gridcv = GridSearchCV(xgboost1,param_grid=params, cv=4)"
   ]
  },
  {
   "cell_type": "code",
   "execution_count": 50,
   "id": "320847de",
   "metadata": {
    "execution": {
     "iopub.execute_input": "2023-10-24T16:23:58.702300Z",
     "iopub.status.busy": "2023-10-24T16:23:58.701872Z",
     "iopub.status.idle": "2023-10-24T16:33:13.159206Z",
     "shell.execute_reply": "2023-10-24T16:33:13.158146Z"
    },
    "papermill": {
     "duration": 554.511039,
     "end_time": "2023-10-24T16:33:13.185467",
     "exception": false,
     "start_time": "2023-10-24T16:23:58.674428",
     "status": "completed"
    },
    "tags": []
   },
   "outputs": [
    {
     "data": {
      "text/html": [
       "<style>#sk-container-id-7 {color: black;background-color: white;}#sk-container-id-7 pre{padding: 0;}#sk-container-id-7 div.sk-toggleable {background-color: white;}#sk-container-id-7 label.sk-toggleable__label {cursor: pointer;display: block;width: 100%;margin-bottom: 0;padding: 0.3em;box-sizing: border-box;text-align: center;}#sk-container-id-7 label.sk-toggleable__label-arrow:before {content: \"▸\";float: left;margin-right: 0.25em;color: #696969;}#sk-container-id-7 label.sk-toggleable__label-arrow:hover:before {color: black;}#sk-container-id-7 div.sk-estimator:hover label.sk-toggleable__label-arrow:before {color: black;}#sk-container-id-7 div.sk-toggleable__content {max-height: 0;max-width: 0;overflow: hidden;text-align: left;background-color: #f0f8ff;}#sk-container-id-7 div.sk-toggleable__content pre {margin: 0.2em;color: black;border-radius: 0.25em;background-color: #f0f8ff;}#sk-container-id-7 input.sk-toggleable__control:checked~div.sk-toggleable__content {max-height: 200px;max-width: 100%;overflow: auto;}#sk-container-id-7 input.sk-toggleable__control:checked~label.sk-toggleable__label-arrow:before {content: \"▾\";}#sk-container-id-7 div.sk-estimator input.sk-toggleable__control:checked~label.sk-toggleable__label {background-color: #d4ebff;}#sk-container-id-7 div.sk-label input.sk-toggleable__control:checked~label.sk-toggleable__label {background-color: #d4ebff;}#sk-container-id-7 input.sk-hidden--visually {border: 0;clip: rect(1px 1px 1px 1px);clip: rect(1px, 1px, 1px, 1px);height: 1px;margin: -1px;overflow: hidden;padding: 0;position: absolute;width: 1px;}#sk-container-id-7 div.sk-estimator {font-family: monospace;background-color: #f0f8ff;border: 1px dotted black;border-radius: 0.25em;box-sizing: border-box;margin-bottom: 0.5em;}#sk-container-id-7 div.sk-estimator:hover {background-color: #d4ebff;}#sk-container-id-7 div.sk-parallel-item::after {content: \"\";width: 100%;border-bottom: 1px solid gray;flex-grow: 1;}#sk-container-id-7 div.sk-label:hover label.sk-toggleable__label {background-color: #d4ebff;}#sk-container-id-7 div.sk-serial::before {content: \"\";position: absolute;border-left: 1px solid gray;box-sizing: border-box;top: 0;bottom: 0;left: 50%;z-index: 0;}#sk-container-id-7 div.sk-serial {display: flex;flex-direction: column;align-items: center;background-color: white;padding-right: 0.2em;padding-left: 0.2em;position: relative;}#sk-container-id-7 div.sk-item {position: relative;z-index: 1;}#sk-container-id-7 div.sk-parallel {display: flex;align-items: stretch;justify-content: center;background-color: white;position: relative;}#sk-container-id-7 div.sk-item::before, #sk-container-id-7 div.sk-parallel-item::before {content: \"\";position: absolute;border-left: 1px solid gray;box-sizing: border-box;top: 0;bottom: 0;left: 50%;z-index: -1;}#sk-container-id-7 div.sk-parallel-item {display: flex;flex-direction: column;z-index: 1;position: relative;background-color: white;}#sk-container-id-7 div.sk-parallel-item:first-child::after {align-self: flex-end;width: 50%;}#sk-container-id-7 div.sk-parallel-item:last-child::after {align-self: flex-start;width: 50%;}#sk-container-id-7 div.sk-parallel-item:only-child::after {width: 0;}#sk-container-id-7 div.sk-dashed-wrapped {border: 1px dashed gray;margin: 0 0.4em 0.5em 0.4em;box-sizing: border-box;padding-bottom: 0.4em;background-color: white;}#sk-container-id-7 div.sk-label label {font-family: monospace;font-weight: bold;display: inline-block;line-height: 1.2em;}#sk-container-id-7 div.sk-label-container {text-align: center;}#sk-container-id-7 div.sk-container {/* jupyter's `normalize.less` sets `[hidden] { display: none; }` but bootstrap.min.css set `[hidden] { display: none !important; }` so we also need the `!important` here to be able to override the default hidden behavior on the sphinx rendered scikit-learn.org. See: https://github.com/scikit-learn/scikit-learn/issues/21755 */display: inline-block !important;position: relative;}#sk-container-id-7 div.sk-text-repr-fallback {display: none;}</style><div id=\"sk-container-id-7\" class=\"sk-top-container\"><div class=\"sk-text-repr-fallback\"><pre>GridSearchCV(cv=4,\n",
       "             estimator=XGBClassifier(base_score=None, booster=None,\n",
       "                                     callbacks=None, colsample_bylevel=None,\n",
       "                                     colsample_bynode=None,\n",
       "                                     colsample_bytree=None,\n",
       "                                     early_stopping_rounds=None,\n",
       "                                     enable_categorical=False, eval_metric=None,\n",
       "                                     feature_types=None, gamma=None,\n",
       "                                     gpu_id=None, grow_policy=None,\n",
       "                                     importance_type=None,\n",
       "                                     interaction_constraints=None,\n",
       "                                     learning_rate=None,...\n",
       "                                     max_cat_threshold=None,\n",
       "                                     max_cat_to_onehot=None,\n",
       "                                     max_delta_step=None, max_depth=None,\n",
       "                                     max_leaves=None, min_child_weight=None,\n",
       "                                     missing=nan, monotone_constraints=None,\n",
       "                                     n_estimators=100, n_jobs=None,\n",
       "                                     num_parallel_tree=None, predictor=None,\n",
       "                                     random_state=None, ...),\n",
       "             param_grid={&#x27;eta&#x27;: [0.1, 0.2, 0.3], &#x27;max_depth&#x27;: [3, 5, 10],\n",
       "                         &#x27;min_samples_leaf&#x27;: [5, 10, 20],\n",
       "                         &#x27;n_estimators&#x27;: [100, 200, 300, 400]})</pre><b>In a Jupyter environment, please rerun this cell to show the HTML representation or trust the notebook. <br />On GitHub, the HTML representation is unable to render, please try loading this page with nbviewer.org.</b></div><div class=\"sk-container\" hidden><div class=\"sk-item sk-dashed-wrapped\"><div class=\"sk-label-container\"><div class=\"sk-label sk-toggleable\"><input class=\"sk-toggleable__control sk-hidden--visually\" id=\"sk-estimator-id-41\" type=\"checkbox\" ><label for=\"sk-estimator-id-41\" class=\"sk-toggleable__label sk-toggleable__label-arrow\">GridSearchCV</label><div class=\"sk-toggleable__content\"><pre>GridSearchCV(cv=4,\n",
       "             estimator=XGBClassifier(base_score=None, booster=None,\n",
       "                                     callbacks=None, colsample_bylevel=None,\n",
       "                                     colsample_bynode=None,\n",
       "                                     colsample_bytree=None,\n",
       "                                     early_stopping_rounds=None,\n",
       "                                     enable_categorical=False, eval_metric=None,\n",
       "                                     feature_types=None, gamma=None,\n",
       "                                     gpu_id=None, grow_policy=None,\n",
       "                                     importance_type=None,\n",
       "                                     interaction_constraints=None,\n",
       "                                     learning_rate=None,...\n",
       "                                     max_cat_threshold=None,\n",
       "                                     max_cat_to_onehot=None,\n",
       "                                     max_delta_step=None, max_depth=None,\n",
       "                                     max_leaves=None, min_child_weight=None,\n",
       "                                     missing=nan, monotone_constraints=None,\n",
       "                                     n_estimators=100, n_jobs=None,\n",
       "                                     num_parallel_tree=None, predictor=None,\n",
       "                                     random_state=None, ...),\n",
       "             param_grid={&#x27;eta&#x27;: [0.1, 0.2, 0.3], &#x27;max_depth&#x27;: [3, 5, 10],\n",
       "                         &#x27;min_samples_leaf&#x27;: [5, 10, 20],\n",
       "                         &#x27;n_estimators&#x27;: [100, 200, 300, 400]})</pre></div></div></div><div class=\"sk-parallel\"><div class=\"sk-parallel-item\"><div class=\"sk-item\"><div class=\"sk-label-container\"><div class=\"sk-label sk-toggleable\"><input class=\"sk-toggleable__control sk-hidden--visually\" id=\"sk-estimator-id-42\" type=\"checkbox\" ><label for=\"sk-estimator-id-42\" class=\"sk-toggleable__label sk-toggleable__label-arrow\">estimator: XGBClassifier</label><div class=\"sk-toggleable__content\"><pre>XGBClassifier(base_score=None, booster=None, callbacks=None,\n",
       "              colsample_bylevel=None, colsample_bynode=None,\n",
       "              colsample_bytree=None, early_stopping_rounds=None,\n",
       "              enable_categorical=False, eval_metric=None, feature_types=None,\n",
       "              gamma=None, gpu_id=None, grow_policy=None, importance_type=None,\n",
       "              interaction_constraints=None, learning_rate=None, max_bin=None,\n",
       "              max_cat_threshold=None, max_cat_to_onehot=None,\n",
       "              max_delta_step=None, max_depth=None, max_leaves=None,\n",
       "              min_child_weight=None, missing=nan, monotone_constraints=None,\n",
       "              n_estimators=100, n_jobs=None, num_parallel_tree=None,\n",
       "              predictor=None, random_state=None, ...)</pre></div></div></div><div class=\"sk-serial\"><div class=\"sk-item\"><div class=\"sk-estimator sk-toggleable\"><input class=\"sk-toggleable__control sk-hidden--visually\" id=\"sk-estimator-id-43\" type=\"checkbox\" ><label for=\"sk-estimator-id-43\" class=\"sk-toggleable__label sk-toggleable__label-arrow\">XGBClassifier</label><div class=\"sk-toggleable__content\"><pre>XGBClassifier(base_score=None, booster=None, callbacks=None,\n",
       "              colsample_bylevel=None, colsample_bynode=None,\n",
       "              colsample_bytree=None, early_stopping_rounds=None,\n",
       "              enable_categorical=False, eval_metric=None, feature_types=None,\n",
       "              gamma=None, gpu_id=None, grow_policy=None, importance_type=None,\n",
       "              interaction_constraints=None, learning_rate=None, max_bin=None,\n",
       "              max_cat_threshold=None, max_cat_to_onehot=None,\n",
       "              max_delta_step=None, max_depth=None, max_leaves=None,\n",
       "              min_child_weight=None, missing=nan, monotone_constraints=None,\n",
       "              n_estimators=100, n_jobs=None, num_parallel_tree=None,\n",
       "              predictor=None, random_state=None, ...)</pre></div></div></div></div></div></div></div></div></div></div>"
      ],
      "text/plain": [
       "GridSearchCV(cv=4,\n",
       "             estimator=XGBClassifier(base_score=None, booster=None,\n",
       "                                     callbacks=None, colsample_bylevel=None,\n",
       "                                     colsample_bynode=None,\n",
       "                                     colsample_bytree=None,\n",
       "                                     early_stopping_rounds=None,\n",
       "                                     enable_categorical=False, eval_metric=None,\n",
       "                                     feature_types=None, gamma=None,\n",
       "                                     gpu_id=None, grow_policy=None,\n",
       "                                     importance_type=None,\n",
       "                                     interaction_constraints=None,\n",
       "                                     learning_rate=None,...\n",
       "                                     max_cat_threshold=None,\n",
       "                                     max_cat_to_onehot=None,\n",
       "                                     max_delta_step=None, max_depth=None,\n",
       "                                     max_leaves=None, min_child_weight=None,\n",
       "                                     missing=nan, monotone_constraints=None,\n",
       "                                     n_estimators=100, n_jobs=None,\n",
       "                                     num_parallel_tree=None, predictor=None,\n",
       "                                     random_state=None, ...),\n",
       "             param_grid={'eta': [0.1, 0.2, 0.3], 'max_depth': [3, 5, 10],\n",
       "                         'min_samples_leaf': [5, 10, 20],\n",
       "                         'n_estimators': [100, 200, 300, 400]})"
      ]
     },
     "execution_count": 50,
     "metadata": {},
     "output_type": "execute_result"
    }
   ],
   "source": [
    "xgboost_gridcv.fit(X_train_preprocess, y_train)"
   ]
  },
  {
   "cell_type": "code",
   "execution_count": 51,
   "id": "f57c069b",
   "metadata": {
    "execution": {
     "iopub.execute_input": "2023-10-24T16:33:13.236418Z",
     "iopub.status.busy": "2023-10-24T16:33:13.235997Z",
     "iopub.status.idle": "2023-10-24T16:33:13.242100Z",
     "shell.execute_reply": "2023-10-24T16:33:13.241137Z"
    },
    "papermill": {
     "duration": 0.034157,
     "end_time": "2023-10-24T16:33:13.244192",
     "exception": false,
     "start_time": "2023-10-24T16:33:13.210035",
     "status": "completed"
    },
    "tags": []
   },
   "outputs": [
    {
     "data": {
      "text/plain": [
       "{'eta': 0.1, 'max_depth': 5, 'min_samples_leaf': 5, 'n_estimators': 100}"
      ]
     },
     "execution_count": 51,
     "metadata": {},
     "output_type": "execute_result"
    }
   ],
   "source": [
    "xgboost_gridcv.best_params_"
   ]
  },
  {
   "cell_type": "markdown",
   "id": "cd58ea62",
   "metadata": {
    "papermill": {
     "duration": 0.024371,
     "end_time": "2023-10-24T16:33:13.293564",
     "exception": false,
     "start_time": "2023-10-24T16:33:13.269193",
     "status": "completed"
    },
    "tags": []
   },
   "source": [
    "### Model testing"
   ]
  },
  {
   "cell_type": "code",
   "execution_count": 52,
   "id": "b73ae0ff",
   "metadata": {
    "execution": {
     "iopub.execute_input": "2023-10-24T16:33:13.344625Z",
     "iopub.status.busy": "2023-10-24T16:33:13.344225Z",
     "iopub.status.idle": "2023-10-24T16:33:13.356167Z",
     "shell.execute_reply": "2023-10-24T16:33:13.355288Z"
    },
    "papermill": {
     "duration": 0.040402,
     "end_time": "2023-10-24T16:33:13.358510",
     "exception": false,
     "start_time": "2023-10-24T16:33:13.318108",
     "status": "completed"
    },
    "tags": []
   },
   "outputs": [
    {
     "data": {
      "text/plain": [
       "0.8"
      ]
     },
     "execution_count": 52,
     "metadata": {},
     "output_type": "execute_result"
    }
   ],
   "source": [
    "np.around(xgboost_gridcv.best_estimator_.score(X_valid_preprocess, y_valid), 2)"
   ]
  },
  {
   "cell_type": "code",
   "execution_count": 53,
   "id": "c878b8bb",
   "metadata": {
    "execution": {
     "iopub.execute_input": "2023-10-24T16:33:13.410338Z",
     "iopub.status.busy": "2023-10-24T16:33:13.409550Z",
     "iopub.status.idle": "2023-10-24T16:33:13.423504Z",
     "shell.execute_reply": "2023-10-24T16:33:13.422183Z"
    },
    "papermill": {
     "duration": 0.042107,
     "end_time": "2023-10-24T16:33:13.425598",
     "exception": false,
     "start_time": "2023-10-24T16:33:13.383491",
     "status": "completed"
    },
    "tags": []
   },
   "outputs": [
    {
     "name": "stdout",
     "output_type": "stream",
     "text": [
      "F1-score: 0.8\n"
     ]
    }
   ],
   "source": [
    "y_pred =xgboost_gridcv.predict(X_valid_preprocess)\n",
    "print(f\"F1-score: {np.around(f1_score(y_valid, y_pred),2)}\")"
   ]
  },
  {
   "cell_type": "code",
   "execution_count": 54,
   "id": "54cd1f52",
   "metadata": {
    "execution": {
     "iopub.execute_input": "2023-10-24T16:33:13.478375Z",
     "iopub.status.busy": "2023-10-24T16:33:13.477657Z",
     "iopub.status.idle": "2023-10-24T16:33:13.742231Z",
     "shell.execute_reply": "2023-10-24T16:33:13.741069Z"
    },
    "papermill": {
     "duration": 0.293657,
     "end_time": "2023-10-24T16:33:13.744521",
     "exception": false,
     "start_time": "2023-10-24T16:33:13.450864",
     "status": "completed"
    },
    "tags": []
   },
   "outputs": [
    {
     "data": {
      "image/png": "[encoded data removed]",
      "text/plain": [
       "<Figure size 640x480 with 2 Axes>"
      ]
     },
     "metadata": {},
     "output_type": "display_data"
    }
   ],
   "source": [
    "conf_mat = confusion_matrix(y_valid, y_pred)\n",
    "plt.title(\"Confusion matrix\")\n",
    "sns.heatmap(conf_mat, annot=True, cmap=sns.cubehelix_palette(as_cmap=True), fmt='d')\n",
    "plt.show()"
   ]
  },
  {
   "cell_type": "markdown",
   "id": "90b50412",
   "metadata": {
    "papermill": {
     "duration": 0.025608,
     "end_time": "2023-10-24T16:33:13.798019",
     "exception": false,
     "start_time": "2023-10-24T16:33:13.772411",
     "status": "completed"
    },
    "tags": []
   },
   "source": [
    "## Make a submisson"
   ]
  },
  {
   "cell_type": "code",
   "execution_count": 55,
   "id": "b400d37f",
   "metadata": {
    "execution": {
     "iopub.execute_input": "2023-10-24T16:33:13.851554Z",
     "iopub.status.busy": "2023-10-24T16:33:13.850774Z",
     "iopub.status.idle": "2023-10-24T16:33:13.902130Z",
     "shell.execute_reply": "2023-10-24T16:33:13.901238Z"
    },
    "papermill": {
     "duration": 0.081184,
     "end_time": "2023-10-24T16:33:13.904576",
     "exception": false,
     "start_time": "2023-10-24T16:33:13.823392",
     "status": "completed"
    },
    "tags": []
   },
   "outputs": [],
   "source": [
    "submission_set_preprocess = preprocess.transform(submission_set)\n",
    "final_predictions = xgboost_gridcv.predict(submission_set_preprocess)"
   ]
  },
  {
   "cell_type": "code",
   "execution_count": 56,
   "id": "5b65e756",
   "metadata": {
    "execution": {
     "iopub.execute_input": "2023-10-24T16:33:13.958670Z",
     "iopub.status.busy": "2023-10-24T16:33:13.957660Z",
     "iopub.status.idle": "2023-10-24T16:33:13.963899Z",
     "shell.execute_reply": "2023-10-24T16:33:13.963132Z"
    },
    "papermill": {
     "duration": 0.034948,
     "end_time": "2023-10-24T16:33:13.965758",
     "exception": false,
     "start_time": "2023-10-24T16:33:13.930810",
     "status": "completed"
    },
    "tags": []
   },
   "outputs": [
    {
     "data": {
      "text/plain": [
       "array([ True, False,  True, ...,  True,  True,  True])"
      ]
     },
     "execution_count": 56,
     "metadata": {},
     "output_type": "execute_result"
    }
   ],
   "source": [
    "preds = final_predictions.astype(\"bool\")\n",
    "preds"
   ]
  },
  {
   "cell_type": "code",
   "execution_count": 57,
   "id": "94bbb78f",
   "metadata": {
    "execution": {
     "iopub.execute_input": "2023-10-24T16:33:14.020215Z",
     "iopub.status.busy": "2023-10-24T16:33:14.019506Z",
     "iopub.status.idle": "2023-10-24T16:33:14.030779Z",
     "shell.execute_reply": "2023-10-24T16:33:14.030024Z"
    },
    "papermill": {
     "duration": 0.041325,
     "end_time": "2023-10-24T16:33:14.032663",
     "exception": false,
     "start_time": "2023-10-24T16:33:13.991338",
     "status": "completed"
    },
    "tags": []
   },
   "outputs": [
    {
     "data": {
      "text/html": [
       "<div>\n",
       "<style scoped>\n",
       "    .dataframe tbody tr th:only-of-type {\n",
       "        vertical-align: middle;\n",
       "    }\n",
       "\n",
       "    .dataframe tbody tr th {\n",
       "        vertical-align: top;\n",
       "    }\n",
       "\n",
       "    .dataframe thead th {\n",
       "        text-align: right;\n",
       "    }\n",
       "</style>\n",
       "<table border=\"1\" class=\"dataframe\">\n",
       "  <thead>\n",
       "    <tr style=\"text-align: right;\">\n",
       "      <th></th>\n",
       "      <th>PassengerId</th>\n",
       "      <th>Transported</th>\n",
       "    </tr>\n",
       "  </thead>\n",
       "  <tbody>\n",
       "    <tr>\n",
       "      <th>0</th>\n",
       "      <td>0013_01</td>\n",
       "      <td>True</td>\n",
       "    </tr>\n",
       "    <tr>\n",
       "      <th>1</th>\n",
       "      <td>0018_01</td>\n",
       "      <td>False</td>\n",
       "    </tr>\n",
       "    <tr>\n",
       "      <th>2</th>\n",
       "      <td>0019_01</td>\n",
       "      <td>True</td>\n",
       "    </tr>\n",
       "    <tr>\n",
       "      <th>3</th>\n",
       "      <td>0021_01</td>\n",
       "      <td>True</td>\n",
       "    </tr>\n",
       "    <tr>\n",
       "      <th>4</th>\n",
       "      <td>0023_01</td>\n",
       "      <td>True</td>\n",
       "    </tr>\n",
       "    <tr>\n",
       "      <th>...</th>\n",
       "      <td>...</td>\n",
       "      <td>...</td>\n",
       "    </tr>\n",
       "    <tr>\n",
       "      <th>4272</th>\n",
       "      <td>9266_02</td>\n",
       "      <td>True</td>\n",
       "    </tr>\n",
       "    <tr>\n",
       "      <th>4273</th>\n",
       "      <td>9269_01</td>\n",
       "      <td>False</td>\n",
       "    </tr>\n",
       "    <tr>\n",
       "      <th>4274</th>\n",
       "      <td>9271_01</td>\n",
       "      <td>True</td>\n",
       "    </tr>\n",
       "    <tr>\n",
       "      <th>4275</th>\n",
       "      <td>9273_01</td>\n",
       "      <td>True</td>\n",
       "    </tr>\n",
       "    <tr>\n",
       "      <th>4276</th>\n",
       "      <td>9277_01</td>\n",
       "      <td>True</td>\n",
       "    </tr>\n",
       "  </tbody>\n",
       "</table>\n",
       "<p>4277 rows × 2 columns</p>\n",
       "</div>"
      ],
      "text/plain": [
       "     PassengerId  Transported\n",
       "0        0013_01         True\n",
       "1        0018_01        False\n",
       "2        0019_01         True\n",
       "3        0021_01         True\n",
       "4        0023_01         True\n",
       "...          ...          ...\n",
       "4272     9266_02         True\n",
       "4273     9269_01        False\n",
       "4274     9271_01         True\n",
       "4275     9273_01         True\n",
       "4276     9277_01         True\n",
       "\n",
       "[4277 rows x 2 columns]"
      ]
     },
     "execution_count": 57,
     "metadata": {},
     "output_type": "execute_result"
    }
   ],
   "source": [
    "submission_df = pd.DataFrame({\"PassengerId\": submission_set[\"PassengerId\"], \"Transported\": preds})\n",
    "submission_df"
   ]
  },
  {
   "cell_type": "code",
   "execution_count": 58,
   "id": "69e02ee5",
   "metadata": {
    "execution": {
     "iopub.execute_input": "2023-10-24T16:33:14.086157Z",
     "iopub.status.busy": "2023-10-24T16:33:14.085723Z",
     "iopub.status.idle": "2023-10-24T16:33:14.098698Z",
     "shell.execute_reply": "2023-10-24T16:33:14.097862Z"
    },
    "papermill": {
     "duration": 0.042441,
     "end_time": "2023-10-24T16:33:14.100946",
     "exception": false,
     "start_time": "2023-10-24T16:33:14.058505",
     "status": "completed"
    },
    "tags": []
   },
   "outputs": [],
   "source": [
    "submission_df.to_csv(\"submission.csv\", index=False)"
   ]
  }
 ],
 "metadata": {
  "kernelspec": {
   "display_name": "Python 3",
   "language": "python",
   "name": "python3"
  },
  "language_info": {
   "codemirror_mode": {
    "name": "ipython",
    "version": 3
   },
   "file_extension": ".py",
   "mimetype": "text/x-python",
   "name": "python",
   "nbconvert_exporter": "python",
   "pygments_lexer": "ipython3",
   "version": "3.10.12"
  },
  "papermill": {
   "default_parameters": {},
   "duration": 1287.788211,
   "end_time": "2023-10-24T16:33:14.849788",
   "environment_variables": {},
   "exception": null,
   "input_path": "__notebook__.ipynb",
   "output_path": "__notebook__.ipynb",
   "parameters": {},
   "start_time": "2023-10-24T16:11:47.061577",
   "version": "2.4.0"
  }
 },
 "nbformat": 4,
 "nbformat_minor": 5
}
