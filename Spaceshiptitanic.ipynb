{
 "cells": [
  {
   "cell_type": "code",
   "execution_count": 1,
   "id": "c0e30e42",
   "metadata": {
    "_cell_guid": "b1076dfc-b9ad-4769-8c92-a6c4dae69d19",
    "_uuid": "8f2839f25d086af736a60e9eeb907d3b93b6e0e5",
    "execution": {
     "iopub.execute_input": "2023-10-25T08:27:48.985915Z",
     "iopub.status.busy": "2023-10-25T08:27:48.985180Z",
     "iopub.status.idle": "2023-10-25T08:27:48.999058Z",
     "shell.execute_reply": "2023-10-25T08:27:48.998233Z"
    },
    "papermill": {
     "duration": 0.044985,
     "end_time": "2023-10-25T08:27:49.001598",
     "exception": false,
     "start_time": "2023-10-25T08:27:48.956613",
     "status": "completed"
    },
    "tags": []
   },
   "outputs": [
    {
     "name": "stdout",
     "output_type": "stream",
     "text": [
      "/kaggle/input/spaceship-titanic/sample_submission.csv\n",
      "/kaggle/input/spaceship-titanic/train.csv\n",
      "/kaggle/input/spaceship-titanic/test.csv\n"
     ]
    }
   ],
   "source": [
    "# Input data files are available in the read-only \"../input/\" directory\n",
    "# For example, running this (by clicking run or pressing Shift+Enter) will list all files under the input directory\n",
    "\n",
    "import os\n",
    "for dirname, _, filenames in os.walk('/kaggle/input'):\n",
    "    for filename in filenames:\n",
    "        print(os.path.join(dirname, filename))\n",
    "\n",
    "# You can write up to 20GB to the current directory (/kaggle/working/) that gets preserved as output when you create a version using \"Save & Run All\" \n",
    "# You can also write temporary files to /kaggle/temp/, but they won't be saved outside of the current session"
   ]
  },
  {
   "cell_type": "markdown",
   "id": "eb1cc134",
   "metadata": {
    "papermill": {
     "duration": 0.026172,
     "end_time": "2023-10-25T08:27:49.055122",
     "exception": false,
     "start_time": "2023-10-25T08:27:49.028950",
     "status": "completed"
    },
    "tags": []
   },
   "source": [
    "## Import the libraries"
   ]
  },
  {
   "cell_type": "code",
   "execution_count": 2,
   "id": "6247b8ac",
   "metadata": {
    "execution": {
     "iopub.execute_input": "2023-10-25T08:27:49.109235Z",
     "iopub.status.busy": "2023-10-25T08:27:49.108853Z",
     "iopub.status.idle": "2023-10-25T08:27:52.279458Z",
     "shell.execute_reply": "2023-10-25T08:27:52.278292Z"
    },
    "papermill": {
     "duration": 3.200695,
     "end_time": "2023-10-25T08:27:52.282333",
     "exception": false,
     "start_time": "2023-10-25T08:27:49.081638",
     "status": "completed"
    },
    "tags": []
   },
   "outputs": [],
   "source": [
    "import numpy as np\n",
    "import pandas as pd\n",
    "from sklearn.preprocessing import OneHotEncoder, StandardScaler, FunctionTransformer\n",
    "from sklearn.impute import SimpleImputer\n",
    "from sklearn.linear_model import LogisticRegression\n",
    "from sklearn.ensemble import VotingClassifier\n",
    "from sklearn.tree import DecisionTreeClassifier\n",
    "from sklearn.svm import SVC\n",
    "from sklearn.model_selection import cross_val_score, train_test_split, GridSearchCV\n",
    "from sklearn.metrics import f1_score, confusion_matrix, accuracy_score\n",
    "from sklearn.compose import make_column_selector, make_column_transformer\n",
    "from sklearn.pipeline import make_pipeline\n",
    "from xgboost import XGBClassifier\n",
    "import seaborn as sns\n",
    "import matplotlib.pyplot as plt\n",
    "import sys\n",
    "import warnings\n",
    "\n",
    "if not sys.warnoptions:\n",
    "    warnings.simplefilter(\"ignore\")\n",
    "    os.environ[\"PYTHONWARNINGS\"] = \"ignore\""
   ]
  },
  {
   "cell_type": "markdown",
   "id": "5824357d",
   "metadata": {
    "papermill": {
     "duration": 0.025152,
     "end_time": "2023-10-25T08:27:52.333331",
     "exception": false,
     "start_time": "2023-10-25T08:27:52.308179",
     "status": "completed"
    },
    "tags": []
   },
   "source": [
    "## Load a datasets from files"
   ]
  },
  {
   "cell_type": "code",
   "execution_count": 3,
   "id": "44e03dd6",
   "metadata": {
    "execution": {
     "iopub.execute_input": "2023-10-25T08:27:52.387435Z",
     "iopub.status.busy": "2023-10-25T08:27:52.386908Z",
     "iopub.status.idle": "2023-10-25T08:27:52.478036Z",
     "shell.execute_reply": "2023-10-25T08:27:52.476970Z"
    },
    "papermill": {
     "duration": 0.122464,
     "end_time": "2023-10-25T08:27:52.481388",
     "exception": false,
     "start_time": "2023-10-25T08:27:52.358924",
     "status": "completed"
    },
    "tags": []
   },
   "outputs": [],
   "source": [
    "space = pd.read_csv(\"/kaggle/input/spaceship-titanic/train.csv\")\n",
    "submission_set = pd.read_csv(\"/kaggle/input/spaceship-titanic/test.csv\")"
   ]
  },
  {
   "cell_type": "markdown",
   "id": "0d61ea62",
   "metadata": {
    "papermill": {
     "duration": 0.088877,
     "end_time": "2023-10-25T08:27:52.595990",
     "exception": false,
     "start_time": "2023-10-25T08:27:52.507113",
     "status": "completed"
    },
    "tags": []
   },
   "source": [
    "## Divide data into X and y"
   ]
  },
  {
   "cell_type": "code",
   "execution_count": 4,
   "id": "82c22165",
   "metadata": {
    "execution": {
     "iopub.execute_input": "2023-10-25T08:27:52.651288Z",
     "iopub.status.busy": "2023-10-25T08:27:52.650881Z",
     "iopub.status.idle": "2023-10-25T08:27:52.676397Z",
     "shell.execute_reply": "2023-10-25T08:27:52.675061Z"
    },
    "papermill": {
     "duration": 0.055894,
     "end_time": "2023-10-25T08:27:52.679180",
     "exception": false,
     "start_time": "2023-10-25T08:27:52.623286",
     "status": "completed"
    },
    "tags": []
   },
   "outputs": [],
   "source": [
    "X_space = space.drop([\"Transported\"], axis=1)\n",
    "y_space = space[\"Transported\"]"
   ]
  },
  {
   "cell_type": "markdown",
   "id": "cf5147ba",
   "metadata": {
    "papermill": {
     "duration": 0.025636,
     "end_time": "2023-10-25T08:27:52.731877",
     "exception": false,
     "start_time": "2023-10-25T08:27:52.706241",
     "status": "completed"
    },
    "tags": []
   },
   "source": [
    "## EDA"
   ]
  },
  {
   "cell_type": "code",
   "execution_count": 5,
   "id": "938d9238",
   "metadata": {
    "execution": {
     "iopub.execute_input": "2023-10-25T08:27:52.787016Z",
     "iopub.status.busy": "2023-10-25T08:27:52.785680Z",
     "iopub.status.idle": "2023-10-25T08:27:52.815247Z",
     "shell.execute_reply": "2023-10-25T08:27:52.814109Z"
    },
    "papermill": {
     "duration": 0.059438,
     "end_time": "2023-10-25T08:27:52.817910",
     "exception": false,
     "start_time": "2023-10-25T08:27:52.758472",
     "status": "completed"
    },
    "tags": []
   },
   "outputs": [
    {
     "data": {
      "text/html": [
       "<div>\n",
       "<style scoped>\n",
       "    .dataframe tbody tr th:only-of-type {\n",
       "        vertical-align: middle;\n",
       "    }\n",
       "\n",
       "    .dataframe tbody tr th {\n",
       "        vertical-align: top;\n",
       "    }\n",
       "\n",
       "    .dataframe thead th {\n",
       "        text-align: right;\n",
       "    }\n",
       "</style>\n",
       "<table border=\"1\" class=\"dataframe\">\n",
       "  <thead>\n",
       "    <tr style=\"text-align: right;\">\n",
       "      <th></th>\n",
       "      <th>PassengerId</th>\n",
       "      <th>HomePlanet</th>\n",
       "      <th>CryoSleep</th>\n",
       "      <th>Cabin</th>\n",
       "      <th>Destination</th>\n",
       "      <th>Age</th>\n",
       "      <th>VIP</th>\n",
       "      <th>RoomService</th>\n",
       "      <th>FoodCourt</th>\n",
       "      <th>ShoppingMall</th>\n",
       "      <th>Spa</th>\n",
       "      <th>VRDeck</th>\n",
       "      <th>Name</th>\n",
       "    </tr>\n",
       "  </thead>\n",
       "  <tbody>\n",
       "    <tr>\n",
       "      <th>0</th>\n",
       "      <td>0001_01</td>\n",
       "      <td>Europa</td>\n",
       "      <td>False</td>\n",
       "      <td>B/0/P</td>\n",
       "      <td>TRAPPIST-1e</td>\n",
       "      <td>39.0</td>\n",
       "      <td>False</td>\n",
       "      <td>0.0</td>\n",
       "      <td>0.0</td>\n",
       "      <td>0.0</td>\n",
       "      <td>0.0</td>\n",
       "      <td>0.0</td>\n",
       "      <td>Maham Ofracculy</td>\n",
       "    </tr>\n",
       "    <tr>\n",
       "      <th>1</th>\n",
       "      <td>0002_01</td>\n",
       "      <td>Earth</td>\n",
       "      <td>False</td>\n",
       "      <td>F/0/S</td>\n",
       "      <td>TRAPPIST-1e</td>\n",
       "      <td>24.0</td>\n",
       "      <td>False</td>\n",
       "      <td>109.0</td>\n",
       "      <td>9.0</td>\n",
       "      <td>25.0</td>\n",
       "      <td>549.0</td>\n",
       "      <td>44.0</td>\n",
       "      <td>Juanna Vines</td>\n",
       "    </tr>\n",
       "    <tr>\n",
       "      <th>2</th>\n",
       "      <td>0003_01</td>\n",
       "      <td>Europa</td>\n",
       "      <td>False</td>\n",
       "      <td>A/0/S</td>\n",
       "      <td>TRAPPIST-1e</td>\n",
       "      <td>58.0</td>\n",
       "      <td>True</td>\n",
       "      <td>43.0</td>\n",
       "      <td>3576.0</td>\n",
       "      <td>0.0</td>\n",
       "      <td>6715.0</td>\n",
       "      <td>49.0</td>\n",
       "      <td>Altark Susent</td>\n",
       "    </tr>\n",
       "    <tr>\n",
       "      <th>3</th>\n",
       "      <td>0003_02</td>\n",
       "      <td>Europa</td>\n",
       "      <td>False</td>\n",
       "      <td>A/0/S</td>\n",
       "      <td>TRAPPIST-1e</td>\n",
       "      <td>33.0</td>\n",
       "      <td>False</td>\n",
       "      <td>0.0</td>\n",
       "      <td>1283.0</td>\n",
       "      <td>371.0</td>\n",
       "      <td>3329.0</td>\n",
       "      <td>193.0</td>\n",
       "      <td>Solam Susent</td>\n",
       "    </tr>\n",
       "    <tr>\n",
       "      <th>4</th>\n",
       "      <td>0004_01</td>\n",
       "      <td>Earth</td>\n",
       "      <td>False</td>\n",
       "      <td>F/1/S</td>\n",
       "      <td>TRAPPIST-1e</td>\n",
       "      <td>16.0</td>\n",
       "      <td>False</td>\n",
       "      <td>303.0</td>\n",
       "      <td>70.0</td>\n",
       "      <td>151.0</td>\n",
       "      <td>565.0</td>\n",
       "      <td>2.0</td>\n",
       "      <td>Willy Santantines</td>\n",
       "    </tr>\n",
       "  </tbody>\n",
       "</table>\n",
       "</div>"
      ],
      "text/plain": [
       "  PassengerId HomePlanet CryoSleep  Cabin  Destination   Age    VIP  \\\n",
       "0     0001_01     Europa     False  B/0/P  TRAPPIST-1e  39.0  False   \n",
       "1     0002_01      Earth     False  F/0/S  TRAPPIST-1e  24.0  False   \n",
       "2     0003_01     Europa     False  A/0/S  TRAPPIST-1e  58.0   True   \n",
       "3     0003_02     Europa     False  A/0/S  TRAPPIST-1e  33.0  False   \n",
       "4     0004_01      Earth     False  F/1/S  TRAPPIST-1e  16.0  False   \n",
       "\n",
       "   RoomService  FoodCourt  ShoppingMall     Spa  VRDeck               Name  \n",
       "0          0.0        0.0           0.0     0.0     0.0    Maham Ofracculy  \n",
       "1        109.0        9.0          25.0   549.0    44.0       Juanna Vines  \n",
       "2         43.0     3576.0           0.0  6715.0    49.0      Altark Susent  \n",
       "3          0.0     1283.0         371.0  3329.0   193.0       Solam Susent  \n",
       "4        303.0       70.0         151.0   565.0     2.0  Willy Santantines  "
      ]
     },
     "execution_count": 5,
     "metadata": {},
     "output_type": "execute_result"
    }
   ],
   "source": [
    "X_space.head()"
   ]
  },
  {
   "cell_type": "code",
   "execution_count": 6,
   "id": "d9e0c514",
   "metadata": {
    "execution": {
     "iopub.execute_input": "2023-10-25T08:27:52.875580Z",
     "iopub.status.busy": "2023-10-25T08:27:52.875119Z",
     "iopub.status.idle": "2023-10-25T08:27:52.906847Z",
     "shell.execute_reply": "2023-10-25T08:27:52.905472Z"
    },
    "papermill": {
     "duration": 0.064014,
     "end_time": "2023-10-25T08:27:52.909532",
     "exception": false,
     "start_time": "2023-10-25T08:27:52.845518",
     "status": "completed"
    },
    "tags": []
   },
   "outputs": [
    {
     "name": "stdout",
     "output_type": "stream",
     "text": [
      "<class 'pandas.core.frame.DataFrame'>\n",
      "RangeIndex: 8693 entries, 0 to 8692\n",
      "Data columns (total 13 columns):\n",
      " #   Column        Non-Null Count  Dtype  \n",
      "---  ------        --------------  -----  \n",
      " 0   PassengerId   8693 non-null   object \n",
      " 1   HomePlanet    8492 non-null   object \n",
      " 2   CryoSleep     8476 non-null   object \n",
      " 3   Cabin         8494 non-null   object \n",
      " 4   Destination   8511 non-null   object \n",
      " 5   Age           8514 non-null   float64\n",
      " 6   VIP           8490 non-null   object \n",
      " 7   RoomService   8512 non-null   float64\n",
      " 8   FoodCourt     8510 non-null   float64\n",
      " 9   ShoppingMall  8485 non-null   float64\n",
      " 10  Spa           8510 non-null   float64\n",
      " 11  VRDeck        8505 non-null   float64\n",
      " 12  Name          8493 non-null   object \n",
      "dtypes: float64(6), object(7)\n",
      "memory usage: 883.0+ KB\n"
     ]
    }
   ],
   "source": [
    "X_space.info()"
   ]
  },
  {
   "cell_type": "code",
   "execution_count": 7,
   "id": "b8b49e56",
   "metadata": {
    "execution": {
     "iopub.execute_input": "2023-10-25T08:27:52.965487Z",
     "iopub.status.busy": "2023-10-25T08:27:52.965110Z",
     "iopub.status.idle": "2023-10-25T08:27:52.999832Z",
     "shell.execute_reply": "2023-10-25T08:27:52.998677Z"
    },
    "papermill": {
     "duration": 0.065719,
     "end_time": "2023-10-25T08:27:53.002421",
     "exception": false,
     "start_time": "2023-10-25T08:27:52.936702",
     "status": "completed"
    },
    "tags": []
   },
   "outputs": [
    {
     "data": {
      "text/html": [
       "<div>\n",
       "<style scoped>\n",
       "    .dataframe tbody tr th:only-of-type {\n",
       "        vertical-align: middle;\n",
       "    }\n",
       "\n",
       "    .dataframe tbody tr th {\n",
       "        vertical-align: top;\n",
       "    }\n",
       "\n",
       "    .dataframe thead th {\n",
       "        text-align: right;\n",
       "    }\n",
       "</style>\n",
       "<table border=\"1\" class=\"dataframe\">\n",
       "  <thead>\n",
       "    <tr style=\"text-align: right;\">\n",
       "      <th></th>\n",
       "      <th>Age</th>\n",
       "      <th>RoomService</th>\n",
       "      <th>FoodCourt</th>\n",
       "      <th>ShoppingMall</th>\n",
       "      <th>Spa</th>\n",
       "      <th>VRDeck</th>\n",
       "    </tr>\n",
       "  </thead>\n",
       "  <tbody>\n",
       "    <tr>\n",
       "      <th>count</th>\n",
       "      <td>8514.000000</td>\n",
       "      <td>8512.000000</td>\n",
       "      <td>8510.000000</td>\n",
       "      <td>8485.000000</td>\n",
       "      <td>8510.000000</td>\n",
       "      <td>8505.000000</td>\n",
       "    </tr>\n",
       "    <tr>\n",
       "      <th>mean</th>\n",
       "      <td>28.827930</td>\n",
       "      <td>224.687617</td>\n",
       "      <td>458.077203</td>\n",
       "      <td>173.729169</td>\n",
       "      <td>311.138778</td>\n",
       "      <td>304.854791</td>\n",
       "    </tr>\n",
       "    <tr>\n",
       "      <th>std</th>\n",
       "      <td>14.489021</td>\n",
       "      <td>666.717663</td>\n",
       "      <td>1611.489240</td>\n",
       "      <td>604.696458</td>\n",
       "      <td>1136.705535</td>\n",
       "      <td>1145.717189</td>\n",
       "    </tr>\n",
       "    <tr>\n",
       "      <th>min</th>\n",
       "      <td>0.000000</td>\n",
       "      <td>0.000000</td>\n",
       "      <td>0.000000</td>\n",
       "      <td>0.000000</td>\n",
       "      <td>0.000000</td>\n",
       "      <td>0.000000</td>\n",
       "    </tr>\n",
       "    <tr>\n",
       "      <th>25%</th>\n",
       "      <td>19.000000</td>\n",
       "      <td>0.000000</td>\n",
       "      <td>0.000000</td>\n",
       "      <td>0.000000</td>\n",
       "      <td>0.000000</td>\n",
       "      <td>0.000000</td>\n",
       "    </tr>\n",
       "    <tr>\n",
       "      <th>50%</th>\n",
       "      <td>27.000000</td>\n",
       "      <td>0.000000</td>\n",
       "      <td>0.000000</td>\n",
       "      <td>0.000000</td>\n",
       "      <td>0.000000</td>\n",
       "      <td>0.000000</td>\n",
       "    </tr>\n",
       "    <tr>\n",
       "      <th>75%</th>\n",
       "      <td>38.000000</td>\n",
       "      <td>47.000000</td>\n",
       "      <td>76.000000</td>\n",
       "      <td>27.000000</td>\n",
       "      <td>59.000000</td>\n",
       "      <td>46.000000</td>\n",
       "    </tr>\n",
       "    <tr>\n",
       "      <th>max</th>\n",
       "      <td>79.000000</td>\n",
       "      <td>14327.000000</td>\n",
       "      <td>29813.000000</td>\n",
       "      <td>23492.000000</td>\n",
       "      <td>22408.000000</td>\n",
       "      <td>24133.000000</td>\n",
       "    </tr>\n",
       "  </tbody>\n",
       "</table>\n",
       "</div>"
      ],
      "text/plain": [
       "               Age   RoomService     FoodCourt  ShoppingMall           Spa  \\\n",
       "count  8514.000000   8512.000000   8510.000000   8485.000000   8510.000000   \n",
       "mean     28.827930    224.687617    458.077203    173.729169    311.138778   \n",
       "std      14.489021    666.717663   1611.489240    604.696458   1136.705535   \n",
       "min       0.000000      0.000000      0.000000      0.000000      0.000000   \n",
       "25%      19.000000      0.000000      0.000000      0.000000      0.000000   \n",
       "50%      27.000000      0.000000      0.000000      0.000000      0.000000   \n",
       "75%      38.000000     47.000000     76.000000     27.000000     59.000000   \n",
       "max      79.000000  14327.000000  29813.000000  23492.000000  22408.000000   \n",
       "\n",
       "             VRDeck  \n",
       "count   8505.000000  \n",
       "mean     304.854791  \n",
       "std     1145.717189  \n",
       "min        0.000000  \n",
       "25%        0.000000  \n",
       "50%        0.000000  \n",
       "75%       46.000000  \n",
       "max    24133.000000  "
      ]
     },
     "execution_count": 7,
     "metadata": {},
     "output_type": "execute_result"
    }
   ],
   "source": [
    "X_space.describe()"
   ]
  },
  {
   "cell_type": "code",
   "execution_count": 8,
   "id": "3d081bf3",
   "metadata": {
    "execution": {
     "iopub.execute_input": "2023-10-25T08:27:53.059077Z",
     "iopub.status.busy": "2023-10-25T08:27:53.058061Z",
     "iopub.status.idle": "2023-10-25T08:27:53.072876Z",
     "shell.execute_reply": "2023-10-25T08:27:53.071655Z"
    },
    "papermill": {
     "duration": 0.045699,
     "end_time": "2023-10-25T08:27:53.075617",
     "exception": false,
     "start_time": "2023-10-25T08:27:53.029918",
     "status": "completed"
    },
    "tags": []
   },
   "outputs": [
    {
     "name": "stdout",
     "output_type": "stream",
     "text": [
      "Missing values sum by the particular columns:\n",
      "PassengerId       0\n",
      "HomePlanet      201\n",
      "CryoSleep       217\n",
      "Cabin           199\n",
      "Destination     182\n",
      "Age             179\n",
      "VIP             203\n",
      "RoomService     181\n",
      "FoodCourt       183\n",
      "ShoppingMall    208\n",
      "Spa             183\n",
      "VRDeck          188\n",
      "Name            200\n",
      "dtype: int64\n"
     ]
    }
   ],
   "source": [
    "nl = '\\n'\n",
    "print(f\"Missing values sum by the particular columns:{nl}{X_space.isna().sum()}\")"
   ]
  },
  {
   "cell_type": "code",
   "execution_count": 9,
   "id": "d907a08e",
   "metadata": {
    "execution": {
     "iopub.execute_input": "2023-10-25T08:27:53.133227Z",
     "iopub.status.busy": "2023-10-25T08:27:53.132760Z",
     "iopub.status.idle": "2023-10-25T08:27:53.148333Z",
     "shell.execute_reply": "2023-10-25T08:27:53.146926Z"
    },
    "papermill": {
     "duration": 0.047953,
     "end_time": "2023-10-25T08:27:53.151022",
     "exception": false,
     "start_time": "2023-10-25T08:27:53.103069",
     "status": "completed"
    },
    "tags": []
   },
   "outputs": [
    {
     "name": "stdout",
     "output_type": "stream",
     "text": [
      "Percent of missing values by particular columns:\n",
      "PassengerId     0.00\n",
      "HomePlanet      2.31\n",
      "CryoSleep       2.50\n",
      "Cabin           2.29\n",
      "Destination     2.09\n",
      "Age             2.06\n",
      "VIP             2.34\n",
      "RoomService     2.08\n",
      "FoodCourt       2.11\n",
      "ShoppingMall    2.39\n",
      "Spa             2.11\n",
      "VRDeck          2.16\n",
      "Name            2.30\n",
      "dtype: float64\n"
     ]
    }
   ],
   "source": [
    "print(f\"Percent of missing values by particular columns:{nl}\\\n",
    "{np.around(X_space.isna().sum()/X_space.shape[0] * 100,2)}\")"
   ]
  },
  {
   "cell_type": "code",
   "execution_count": 10,
   "id": "def8079e",
   "metadata": {
    "execution": {
     "iopub.execute_input": "2023-10-25T08:27:53.207014Z",
     "iopub.status.busy": "2023-10-25T08:27:53.206601Z",
     "iopub.status.idle": "2023-10-25T08:27:53.227418Z",
     "shell.execute_reply": "2023-10-25T08:27:53.225683Z"
    },
    "papermill": {
     "duration": 0.051957,
     "end_time": "2023-10-25T08:27:53.230036",
     "exception": false,
     "start_time": "2023-10-25T08:27:53.178079",
     "status": "completed"
    },
    "tags": []
   },
   "outputs": [
    {
     "name": "stdout",
     "output_type": "stream",
     "text": [
      "Number of unique values: \n",
      "PassengerId     8693\n",
      "HomePlanet         3\n",
      "CryoSleep          2\n",
      "Cabin           6560\n",
      "Destination        3\n",
      "Age               80\n",
      "VIP                2\n",
      "RoomService     1273\n",
      "FoodCourt       1507\n",
      "ShoppingMall    1115\n",
      "Spa             1327\n",
      "VRDeck          1306\n",
      "Name            8473\n",
      "dtype: int64\n"
     ]
    }
   ],
   "source": [
    "print(f\"Number of unique values: {nl}{X_space.nunique()}\")"
   ]
  },
  {
   "cell_type": "markdown",
   "id": "601c8ff0",
   "metadata": {
    "papermill": {
     "duration": 0.028124,
     "end_time": "2023-10-25T08:27:53.286350",
     "exception": false,
     "start_time": "2023-10-25T08:27:53.258226",
     "status": "completed"
    },
    "tags": []
   },
   "source": [
    "### Check a correlation between variables"
   ]
  },
  {
   "cell_type": "code",
   "execution_count": 11,
   "id": "0517a92b",
   "metadata": {
    "execution": {
     "iopub.execute_input": "2023-10-25T08:27:53.344007Z",
     "iopub.status.busy": "2023-10-25T08:27:53.343549Z",
     "iopub.status.idle": "2023-10-25T08:27:53.831757Z",
     "shell.execute_reply": "2023-10-25T08:27:53.830368Z"
    },
    "papermill": {
     "duration": 0.524135,
     "end_time": "2023-10-25T08:27:53.838392",
     "exception": false,
     "start_time": "2023-10-25T08:27:53.314257",
     "status": "completed"
    },
    "tags": []
   },
   "outputs": [
    {
     "data": {
      "image/png": "[encoded data removed]",
      "text/plain": [
       "<Figure size 640x480 with 2 Axes>"
      ]
     },
     "metadata": {},
     "output_type": "display_data"
    }
   ],
   "source": [
    "num_vars = X_space.select_dtypes(include=\"float64\")\n",
    "correlation = num_vars.corr()\n",
    "plt.title(\"Correlation\")\n",
    "sns.heatmap(correlation, annot=True)\n",
    "plt.show()"
   ]
  },
  {
   "cell_type": "markdown",
   "id": "a310b5c0",
   "metadata": {
    "papermill": {
     "duration": 0.030594,
     "end_time": "2023-10-25T08:27:53.907166",
     "exception": false,
     "start_time": "2023-10-25T08:27:53.876572",
     "status": "completed"
    },
    "tags": []
   },
   "source": [
    "### Distribution of target variable"
   ]
  },
  {
   "cell_type": "code",
   "execution_count": 12,
   "id": "2722a590",
   "metadata": {
    "execution": {
     "iopub.execute_input": "2023-10-25T08:27:53.968131Z",
     "iopub.status.busy": "2023-10-25T08:27:53.966531Z",
     "iopub.status.idle": "2023-10-25T08:27:54.244046Z",
     "shell.execute_reply": "2023-10-25T08:27:54.242621Z"
    },
    "papermill": {
     "duration": 0.311301,
     "end_time": "2023-10-25T08:27:54.246839",
     "exception": false,
     "start_time": "2023-10-25T08:27:53.935538",
     "status": "completed"
    },
    "tags": []
   },
   "outputs": [
    {
     "data": {
      "image/png": "[encoded data removed]",
      "text/plain": [
       "<Figure size 640x480 with 1 Axes>"
      ]
     },
     "metadata": {},
     "output_type": "display_data"
    }
   ],
   "source": [
    "sns.countplot(space, x=\"Transported\")\n",
    "plt.title(\"Distribution of target variable\")\n",
    "plt.show()"
   ]
  },
  {
   "cell_type": "markdown",
   "id": "173a515a",
   "metadata": {
    "execution": {
     "iopub.execute_input": "2023-10-23T20:04:26.770522Z",
     "iopub.status.busy": "2023-10-23T20:04:26.770097Z",
     "iopub.status.idle": "2023-10-23T20:04:26.775432Z",
     "shell.execute_reply": "2023-10-23T20:04:26.774254Z",
     "shell.execute_reply.started": "2023-10-23T20:04:26.770488Z"
    },
    "papermill": {
     "duration": 0.030304,
     "end_time": "2023-10-25T08:27:54.308839",
     "exception": false,
     "start_time": "2023-10-25T08:27:54.278535",
     "status": "completed"
    },
    "tags": []
   },
   "source": [
    "### Distribution of Homeplanet"
   ]
  },
  {
   "cell_type": "code",
   "execution_count": 13,
   "id": "a8235ce8",
   "metadata": {
    "execution": {
     "iopub.execute_input": "2023-10-25T08:27:54.367666Z",
     "iopub.status.busy": "2023-10-25T08:27:54.367264Z",
     "iopub.status.idle": "2023-10-25T08:27:54.939036Z",
     "shell.execute_reply": "2023-10-25T08:27:54.937820Z"
    },
    "papermill": {
     "duration": 0.604186,
     "end_time": "2023-10-25T08:27:54.941666",
     "exception": false,
     "start_time": "2023-10-25T08:27:54.337480",
     "status": "completed"
    },
    "tags": []
   },
   "outputs": [
    {
     "data": {
      "image/png": "[encoded data removed]",
      "text/plain": [
       "<Figure size 800x600 with 2 Axes>"
      ]
     },
     "metadata": {},
     "output_type": "display_data"
    }
   ],
   "source": [
    "fig, ax =plt.subplots(1,2, figsize=(8,6))\n",
    "fig.tight_layout(pad=3.0)\n",
    "sns.countplot(X_space, x=\"HomePlanet\", ax=ax[0], order = X_space['HomePlanet']\\\n",
    "              .value_counts().index)\n",
    "ax[0].set(title='HomePlanet distribution (train)')\n",
    "sns.countplot(submission_set, x=\"HomePlanet\", ax=ax[1])\n",
    "ax[1].set(title='HomePlanet distribution (test)')\n",
    "fig.show()"
   ]
  },
  {
   "cell_type": "markdown",
   "id": "c13ea95c",
   "metadata": {
    "execution": {
     "iopub.execute_input": "2023-10-23T20:07:24.430430Z",
     "iopub.status.busy": "2023-10-23T20:07:24.429996Z",
     "iopub.status.idle": "2023-10-23T20:07:24.435416Z",
     "shell.execute_reply": "2023-10-23T20:07:24.434257Z",
     "shell.execute_reply.started": "2023-10-23T20:07:24.430397Z"
    },
    "papermill": {
     "duration": 0.029122,
     "end_time": "2023-10-25T08:27:55.000926",
     "exception": false,
     "start_time": "2023-10-25T08:27:54.971804",
     "status": "completed"
    },
    "tags": []
   },
   "source": [
    "### Distribution of deck and side"
   ]
  },
  {
   "cell_type": "code",
   "execution_count": 14,
   "id": "0059bc20",
   "metadata": {
    "execution": {
     "iopub.execute_input": "2023-10-25T08:27:55.060772Z",
     "iopub.status.busy": "2023-10-25T08:27:55.060346Z",
     "iopub.status.idle": "2023-10-25T08:27:56.125271Z",
     "shell.execute_reply": "2023-10-25T08:27:56.123984Z"
    },
    "papermill": {
     "duration": 1.098298,
     "end_time": "2023-10-25T08:27:56.128207",
     "exception": false,
     "start_time": "2023-10-25T08:27:55.029909",
     "status": "completed"
    },
    "tags": []
   },
   "outputs": [
    {
     "data": {
      "image/png": "[encoded data removed]",
      "text/plain": [
       "<Figure size 1200x900 with 4 Axes>"
      ]
     },
     "metadata": {},
     "output_type": "display_data"
    }
   ],
   "source": [
    "def deck_side(df):\n",
    "    df[[\"Deck\", \"Side\"]] = df.Cabin.str.split(\"/\", expand=True).loc[:, [0, 2]]\n",
    "    df = df.drop([\"Cabin\"], axis=1)\n",
    "    return df\n",
    "df_train = deck_side(X_space)\n",
    "df_test = deck_side(submission_set)\n",
    "fig, ax =plt.subplots(2,2, figsize=(12,9))\n",
    "sns.countplot(df_train, x=\"Deck\", ax=ax[0,0], order = df_train['Deck'].value_counts().index)\n",
    "ax[0,0].set(title=\"Deck and side distribution (train)\")\n",
    "sns.countplot(df_test, x=\"Deck\", ax=ax[0,1], order = df_test['Deck'].value_counts().index)\n",
    "ax[0,1].set(title=\"Deck and side distribution (test)\")\n",
    "sns.countplot(df_train, x=\"Side\", ax=ax[1,0], order = df_train['Side'].value_counts().index)\n",
    "sns.countplot(df_test, x=\"Side\", ax=ax[1,1], order = df_test['Side'].value_counts().index)\n",
    "fig.show()"
   ]
  },
  {
   "cell_type": "markdown",
   "id": "7050563a",
   "metadata": {
    "papermill": {
     "duration": 0.029366,
     "end_time": "2023-10-25T08:27:56.187468",
     "exception": false,
     "start_time": "2023-10-25T08:27:56.158102",
     "status": "completed"
    },
    "tags": []
   },
   "source": [
    "### Distribution of Cryosleep and VIP columns"
   ]
  },
  {
   "cell_type": "code",
   "execution_count": 15,
   "id": "78785053",
   "metadata": {
    "execution": {
     "iopub.execute_input": "2023-10-25T08:27:56.248844Z",
     "iopub.status.busy": "2023-10-25T08:27:56.248430Z",
     "iopub.status.idle": "2023-10-25T08:27:57.120765Z",
     "shell.execute_reply": "2023-10-25T08:27:57.119546Z"
    },
    "papermill": {
     "duration": 0.906336,
     "end_time": "2023-10-25T08:27:57.123580",
     "exception": false,
     "start_time": "2023-10-25T08:27:56.217244",
     "status": "completed"
    },
    "tags": []
   },
   "outputs": [
    {
     "data": {
      "image/png": "[encoded data removed]",
      "text/plain": [
       "<Figure size 1200x900 with 4 Axes>"
      ]
     },
     "metadata": {},
     "output_type": "display_data"
    }
   ],
   "source": [
    "fig, ax = plt.subplots(2,2, figsize=(12,9))\n",
    "sns.countplot(data=X_space, x=\"CryoSleep\", ax=ax[0,0])\n",
    "ax[0,0].set(title=\"CryoSleep and VIP distribution (train)\")\n",
    "sns.countplot(data=submission_set, x=\"CryoSleep\", ax=ax[0,1])\n",
    "ax[0,1].set(title=\"CryoSleep and VIP distribution (test)\")\n",
    "sns.countplot(data=X_space, x=\"VIP\", ax=ax[1,0])\n",
    "sns.countplot(data=submission_set, x=\"VIP\", ax=ax[1,1])\n",
    "fig.show()"
   ]
  },
  {
   "cell_type": "markdown",
   "id": "a99dd29c",
   "metadata": {
    "papermill": {
     "duration": 0.030325,
     "end_time": "2023-10-25T08:27:57.184405",
     "exception": false,
     "start_time": "2023-10-25T08:27:57.154080",
     "status": "completed"
    },
    "tags": []
   },
   "source": [
    "### Distribution of Destination"
   ]
  },
  {
   "cell_type": "code",
   "execution_count": 16,
   "id": "bffde546",
   "metadata": {
    "execution": {
     "iopub.execute_input": "2023-10-25T08:27:57.247219Z",
     "iopub.status.busy": "2023-10-25T08:27:57.246835Z",
     "iopub.status.idle": "2023-10-25T08:27:57.872105Z",
     "shell.execute_reply": "2023-10-25T08:27:57.870900Z"
    },
    "papermill": {
     "duration": 0.659974,
     "end_time": "2023-10-25T08:27:57.874689",
     "exception": false,
     "start_time": "2023-10-25T08:27:57.214715",
     "status": "completed"
    },
    "tags": []
   },
   "outputs": [
    {
     "data": {
      "image/png": "[encoded data removed]",
      "text/plain": [
       "<Figure size 900x600 with 2 Axes>"
      ]
     },
     "metadata": {},
     "output_type": "display_data"
    }
   ],
   "source": [
    "fig, ax =plt.subplots(1,2, figsize=(9,6))\n",
    "plt.tight_layout(pad=2.0)\n",
    "sns.countplot(X_space, x=\"Destination\", ax=ax[0], order = X_space['Destination']\\\n",
    "              .value_counts().index)\n",
    "ax[0].set(title='Destination distribution (train)')\n",
    "sns.countplot(submission_set, x=\"Destination\", ax=ax[1], order = submission_set['Destination']\\\n",
    "              .value_counts().index)\n",
    "ax[1].set(title='Destination distribution (test)')\n",
    "fig.show()"
   ]
  },
  {
   "cell_type": "markdown",
   "id": "43ad81d0",
   "metadata": {
    "papermill": {
     "duration": 0.030853,
     "end_time": "2023-10-25T08:27:57.937850",
     "exception": false,
     "start_time": "2023-10-25T08:27:57.906997",
     "status": "completed"
    },
    "tags": []
   },
   "source": [
    "### Distibution of numerical variables"
   ]
  },
  {
   "cell_type": "code",
   "execution_count": 17,
   "id": "de4f7927",
   "metadata": {
    "execution": {
     "iopub.execute_input": "2023-10-25T08:27:58.001626Z",
     "iopub.status.busy": "2023-10-25T08:27:58.001207Z",
     "iopub.status.idle": "2023-10-25T08:28:00.737188Z",
     "shell.execute_reply": "2023-10-25T08:28:00.736348Z"
    },
    "papermill": {
     "duration": 2.771148,
     "end_time": "2023-10-25T08:28:00.739826",
     "exception": false,
     "start_time": "2023-10-25T08:27:57.968678",
     "status": "completed"
    },
    "tags": []
   },
   "outputs": [
    {
     "data": {
      "image/png": "[encoded data removed]",
      "text/plain": [
       "<Figure size 1300x1100 with 12 Axes>"
      ]
     },
     "metadata": {},
     "output_type": "display_data"
    }
   ],
   "source": [
    "fig, ax = plt.subplots(6,2, figsize=(13,11))\n",
    "fig.tight_layout() \n",
    "sns.violinplot(data=X_space,x=\"Age\", ax=ax[0,0])\n",
    "ax[0,0].set(title=\"Distribution of numerical variables (train)\")\n",
    "sns.violinplot(data=submission_set, x=\"Age\", ax=ax[0,1])\n",
    "ax[0,1].set(title=\"Distribution of numerical variables (test)\")\n",
    "sns.violinplot(data=X_space,x=\"RoomService\", ax=ax[1,0])\n",
    "sns.violinplot(data=submission_set, x=\"RoomService\", ax=ax[1,1])\n",
    "sns.violinplot(data=X_space,x=\"FoodCourt\", ax=ax[2,0])\n",
    "sns.violinplot(data=submission_set, x=\"FoodCourt\", ax=ax[2,1])\n",
    "sns.violinplot(data=X_space,x=\"ShoppingMall\", ax=ax[3,0])\n",
    "sns.violinplot(data=submission_set, x=\"ShoppingMall\", ax=ax[3,1])\n",
    "sns.violinplot(data=X_space,x=\"Spa\", ax=ax[4,0])\n",
    "sns.violinplot(data=submission_set, x=\"Spa\", ax=ax[4,1])\n",
    "sns.violinplot(data=X_space,x=\"VRDeck\", ax=ax[5,0])\n",
    "sns.violinplot(data=submission_set, x=\"VRDeck\", ax=ax[5,1])\n",
    "fig.show()"
   ]
  },
  {
   "cell_type": "markdown",
   "id": "823c3f39",
   "metadata": {
    "papermill": {
     "duration": 0.033407,
     "end_time": "2023-10-25T08:28:00.806517",
     "exception": false,
     "start_time": "2023-10-25T08:28:00.773110",
     "status": "completed"
    },
    "tags": []
   },
   "source": [
    "### Check a distribution of Age by HomePlanet"
   ]
  },
  {
   "cell_type": "code",
   "execution_count": 18,
   "id": "ee002919",
   "metadata": {
    "execution": {
     "iopub.execute_input": "2023-10-25T08:28:00.875827Z",
     "iopub.status.busy": "2023-10-25T08:28:00.875415Z",
     "iopub.status.idle": "2023-10-25T08:28:01.466488Z",
     "shell.execute_reply": "2023-10-25T08:28:01.464945Z"
    },
    "papermill": {
     "duration": 0.62861,
     "end_time": "2023-10-25T08:28:01.469089",
     "exception": false,
     "start_time": "2023-10-25T08:28:00.840479",
     "status": "completed"
    },
    "tags": []
   },
   "outputs": [
    {
     "data": {
      "image/png": "[encoded data removed]",
      "text/plain": [
       "<Figure size 800x600 with 2 Axes>"
      ]
     },
     "metadata": {},
     "output_type": "display_data"
    }
   ],
   "source": [
    "fig, ax = plt.subplots(1,2, figsize=(8,6))\n",
    "fig.tight_layout(pad=5.0)\n",
    "sns.boxplot(data=X_space, x=\"Age\", y=\"HomePlanet\", ax=ax[0], order=[\"Europa\", \"Earth\", \"Mars\"])\n",
    "ax[0].set(title=\"Distribution of Age by HomePlanet (train)\")\n",
    "ax[0].title.set_size(9)\n",
    "sns.boxplot(data=submission_set, x=\"Age\", y=\"HomePlanet\", ax=ax[1], order=[\"Europa\", \"Earth\", \"Mars\"])\n",
    "ax[1].set(title=\"Distribution of Age by HomePlanet (test)\")\n",
    "ax[1].title.set_size(9)\n",
    "fig.show()"
   ]
  },
  {
   "cell_type": "markdown",
   "id": "18211737",
   "metadata": {
    "papermill": {
     "duration": 0.03631,
     "end_time": "2023-10-25T08:28:01.538178",
     "exception": false,
     "start_time": "2023-10-25T08:28:01.501868",
     "status": "completed"
    },
    "tags": []
   },
   "source": [
    "## Feature engineering"
   ]
  },
  {
   "cell_type": "markdown",
   "id": "4a968f22",
   "metadata": {
    "execution": {
     "iopub.execute_input": "2023-10-18T16:18:28.138713Z",
     "iopub.status.busy": "2023-10-18T16:18:28.137697Z",
     "iopub.status.idle": "2023-10-18T16:18:28.147213Z",
     "shell.execute_reply": "2023-10-18T16:18:28.146025Z",
     "shell.execute_reply.started": "2023-10-18T16:18:28.138659Z"
    },
    "papermill": {
     "duration": 0.033325,
     "end_time": "2023-10-25T08:28:01.604692",
     "exception": false,
     "start_time": "2023-10-25T08:28:01.571367",
     "status": "completed"
    },
    "tags": []
   },
   "source": [
    "### Remove unnecessary columns"
   ]
  },
  {
   "cell_type": "code",
   "execution_count": 19,
   "id": "0518e184",
   "metadata": {
    "execution": {
     "iopub.execute_input": "2023-10-25T08:28:01.673897Z",
     "iopub.status.busy": "2023-10-25T08:28:01.673451Z",
     "iopub.status.idle": "2023-10-25T08:28:01.678599Z",
     "shell.execute_reply": "2023-10-25T08:28:01.677714Z"
    },
    "papermill": {
     "duration": 0.042845,
     "end_time": "2023-10-25T08:28:01.680825",
     "exception": false,
     "start_time": "2023-10-25T08:28:01.637980",
     "status": "completed"
    },
    "tags": []
   },
   "outputs": [],
   "source": [
    "def drop_columns(df):    \n",
    "    df = df.drop([\"PassengerId\", \"Name\"], axis=1)\n",
    "    return df"
   ]
  },
  {
   "cell_type": "code",
   "execution_count": 20,
   "id": "e6c72a09",
   "metadata": {
    "execution": {
     "iopub.execute_input": "2023-10-25T08:28:01.750256Z",
     "iopub.status.busy": "2023-10-25T08:28:01.749828Z",
     "iopub.status.idle": "2023-10-25T08:28:01.784021Z",
     "shell.execute_reply": "2023-10-25T08:28:01.782593Z"
    },
    "papermill": {
     "duration": 0.072046,
     "end_time": "2023-10-25T08:28:01.787116",
     "exception": false,
     "start_time": "2023-10-25T08:28:01.715070",
     "status": "completed"
    },
    "tags": []
   },
   "outputs": [
    {
     "data": {
      "text/html": [
       "<div>\n",
       "<style scoped>\n",
       "    .dataframe tbody tr th:only-of-type {\n",
       "        vertical-align: middle;\n",
       "    }\n",
       "\n",
       "    .dataframe tbody tr th {\n",
       "        vertical-align: top;\n",
       "    }\n",
       "\n",
       "    .dataframe thead th {\n",
       "        text-align: right;\n",
       "    }\n",
       "</style>\n",
       "<table border=\"1\" class=\"dataframe\">\n",
       "  <thead>\n",
       "    <tr style=\"text-align: right;\">\n",
       "      <th></th>\n",
       "      <th>HomePlanet</th>\n",
       "      <th>CryoSleep</th>\n",
       "      <th>Cabin</th>\n",
       "      <th>Destination</th>\n",
       "      <th>Age</th>\n",
       "      <th>VIP</th>\n",
       "      <th>RoomService</th>\n",
       "      <th>FoodCourt</th>\n",
       "      <th>ShoppingMall</th>\n",
       "      <th>Spa</th>\n",
       "      <th>VRDeck</th>\n",
       "      <th>Deck</th>\n",
       "      <th>Side</th>\n",
       "    </tr>\n",
       "  </thead>\n",
       "  <tbody>\n",
       "    <tr>\n",
       "      <th>0</th>\n",
       "      <td>Europa</td>\n",
       "      <td>False</td>\n",
       "      <td>B/0/P</td>\n",
       "      <td>TRAPPIST-1e</td>\n",
       "      <td>39.0</td>\n",
       "      <td>False</td>\n",
       "      <td>0.0</td>\n",
       "      <td>0.0</td>\n",
       "      <td>0.0</td>\n",
       "      <td>0.0</td>\n",
       "      <td>0.0</td>\n",
       "      <td>B</td>\n",
       "      <td>P</td>\n",
       "    </tr>\n",
       "    <tr>\n",
       "      <th>1</th>\n",
       "      <td>Earth</td>\n",
       "      <td>False</td>\n",
       "      <td>F/0/S</td>\n",
       "      <td>TRAPPIST-1e</td>\n",
       "      <td>24.0</td>\n",
       "      <td>False</td>\n",
       "      <td>109.0</td>\n",
       "      <td>9.0</td>\n",
       "      <td>25.0</td>\n",
       "      <td>549.0</td>\n",
       "      <td>44.0</td>\n",
       "      <td>F</td>\n",
       "      <td>S</td>\n",
       "    </tr>\n",
       "    <tr>\n",
       "      <th>2</th>\n",
       "      <td>Europa</td>\n",
       "      <td>False</td>\n",
       "      <td>A/0/S</td>\n",
       "      <td>TRAPPIST-1e</td>\n",
       "      <td>58.0</td>\n",
       "      <td>True</td>\n",
       "      <td>43.0</td>\n",
       "      <td>3576.0</td>\n",
       "      <td>0.0</td>\n",
       "      <td>6715.0</td>\n",
       "      <td>49.0</td>\n",
       "      <td>A</td>\n",
       "      <td>S</td>\n",
       "    </tr>\n",
       "    <tr>\n",
       "      <th>3</th>\n",
       "      <td>Europa</td>\n",
       "      <td>False</td>\n",
       "      <td>A/0/S</td>\n",
       "      <td>TRAPPIST-1e</td>\n",
       "      <td>33.0</td>\n",
       "      <td>False</td>\n",
       "      <td>0.0</td>\n",
       "      <td>1283.0</td>\n",
       "      <td>371.0</td>\n",
       "      <td>3329.0</td>\n",
       "      <td>193.0</td>\n",
       "      <td>A</td>\n",
       "      <td>S</td>\n",
       "    </tr>\n",
       "    <tr>\n",
       "      <th>4</th>\n",
       "      <td>Earth</td>\n",
       "      <td>False</td>\n",
       "      <td>F/1/S</td>\n",
       "      <td>TRAPPIST-1e</td>\n",
       "      <td>16.0</td>\n",
       "      <td>False</td>\n",
       "      <td>303.0</td>\n",
       "      <td>70.0</td>\n",
       "      <td>151.0</td>\n",
       "      <td>565.0</td>\n",
       "      <td>2.0</td>\n",
       "      <td>F</td>\n",
       "      <td>S</td>\n",
       "    </tr>\n",
       "    <tr>\n",
       "      <th>...</th>\n",
       "      <td>...</td>\n",
       "      <td>...</td>\n",
       "      <td>...</td>\n",
       "      <td>...</td>\n",
       "      <td>...</td>\n",
       "      <td>...</td>\n",
       "      <td>...</td>\n",
       "      <td>...</td>\n",
       "      <td>...</td>\n",
       "      <td>...</td>\n",
       "      <td>...</td>\n",
       "      <td>...</td>\n",
       "      <td>...</td>\n",
       "    </tr>\n",
       "    <tr>\n",
       "      <th>8688</th>\n",
       "      <td>Europa</td>\n",
       "      <td>False</td>\n",
       "      <td>A/98/P</td>\n",
       "      <td>55 Cancri e</td>\n",
       "      <td>41.0</td>\n",
       "      <td>True</td>\n",
       "      <td>0.0</td>\n",
       "      <td>6819.0</td>\n",
       "      <td>0.0</td>\n",
       "      <td>1643.0</td>\n",
       "      <td>74.0</td>\n",
       "      <td>A</td>\n",
       "      <td>P</td>\n",
       "    </tr>\n",
       "    <tr>\n",
       "      <th>8689</th>\n",
       "      <td>Earth</td>\n",
       "      <td>True</td>\n",
       "      <td>G/1499/S</td>\n",
       "      <td>PSO J318.5-22</td>\n",
       "      <td>18.0</td>\n",
       "      <td>False</td>\n",
       "      <td>0.0</td>\n",
       "      <td>0.0</td>\n",
       "      <td>0.0</td>\n",
       "      <td>0.0</td>\n",
       "      <td>0.0</td>\n",
       "      <td>G</td>\n",
       "      <td>S</td>\n",
       "    </tr>\n",
       "    <tr>\n",
       "      <th>8690</th>\n",
       "      <td>Earth</td>\n",
       "      <td>False</td>\n",
       "      <td>G/1500/S</td>\n",
       "      <td>TRAPPIST-1e</td>\n",
       "      <td>26.0</td>\n",
       "      <td>False</td>\n",
       "      <td>0.0</td>\n",
       "      <td>0.0</td>\n",
       "      <td>1872.0</td>\n",
       "      <td>1.0</td>\n",
       "      <td>0.0</td>\n",
       "      <td>G</td>\n",
       "      <td>S</td>\n",
       "    </tr>\n",
       "    <tr>\n",
       "      <th>8691</th>\n",
       "      <td>Europa</td>\n",
       "      <td>False</td>\n",
       "      <td>E/608/S</td>\n",
       "      <td>55 Cancri e</td>\n",
       "      <td>32.0</td>\n",
       "      <td>False</td>\n",
       "      <td>0.0</td>\n",
       "      <td>1049.0</td>\n",
       "      <td>0.0</td>\n",
       "      <td>353.0</td>\n",
       "      <td>3235.0</td>\n",
       "      <td>E</td>\n",
       "      <td>S</td>\n",
       "    </tr>\n",
       "    <tr>\n",
       "      <th>8692</th>\n",
       "      <td>Europa</td>\n",
       "      <td>False</td>\n",
       "      <td>E/608/S</td>\n",
       "      <td>TRAPPIST-1e</td>\n",
       "      <td>44.0</td>\n",
       "      <td>False</td>\n",
       "      <td>126.0</td>\n",
       "      <td>4688.0</td>\n",
       "      <td>0.0</td>\n",
       "      <td>0.0</td>\n",
       "      <td>12.0</td>\n",
       "      <td>E</td>\n",
       "      <td>S</td>\n",
       "    </tr>\n",
       "  </tbody>\n",
       "</table>\n",
       "<p>8693 rows × 13 columns</p>\n",
       "</div>"
      ],
      "text/plain": [
       "     HomePlanet CryoSleep     Cabin    Destination   Age    VIP  RoomService  \\\n",
       "0        Europa     False     B/0/P    TRAPPIST-1e  39.0  False          0.0   \n",
       "1         Earth     False     F/0/S    TRAPPIST-1e  24.0  False        109.0   \n",
       "2        Europa     False     A/0/S    TRAPPIST-1e  58.0   True         43.0   \n",
       "3        Europa     False     A/0/S    TRAPPIST-1e  33.0  False          0.0   \n",
       "4         Earth     False     F/1/S    TRAPPIST-1e  16.0  False        303.0   \n",
       "...         ...       ...       ...            ...   ...    ...          ...   \n",
       "8688     Europa     False    A/98/P    55 Cancri e  41.0   True          0.0   \n",
       "8689      Earth      True  G/1499/S  PSO J318.5-22  18.0  False          0.0   \n",
       "8690      Earth     False  G/1500/S    TRAPPIST-1e  26.0  False          0.0   \n",
       "8691     Europa     False   E/608/S    55 Cancri e  32.0  False          0.0   \n",
       "8692     Europa     False   E/608/S    TRAPPIST-1e  44.0  False        126.0   \n",
       "\n",
       "      FoodCourt  ShoppingMall     Spa  VRDeck Deck Side  \n",
       "0           0.0           0.0     0.0     0.0    B    P  \n",
       "1           9.0          25.0   549.0    44.0    F    S  \n",
       "2        3576.0           0.0  6715.0    49.0    A    S  \n",
       "3        1283.0         371.0  3329.0   193.0    A    S  \n",
       "4          70.0         151.0   565.0     2.0    F    S  \n",
       "...         ...           ...     ...     ...  ...  ...  \n",
       "8688     6819.0           0.0  1643.0    74.0    A    P  \n",
       "8689        0.0           0.0     0.0     0.0    G    S  \n",
       "8690        0.0        1872.0     1.0     0.0    G    S  \n",
       "8691     1049.0           0.0   353.0  3235.0    E    S  \n",
       "8692     4688.0           0.0     0.0    12.0    E    S  \n",
       "\n",
       "[8693 rows x 13 columns]"
      ]
     },
     "execution_count": 20,
     "metadata": {},
     "output_type": "execute_result"
    }
   ],
   "source": [
    "drop_columns(X_space)"
   ]
  },
  {
   "cell_type": "markdown",
   "id": "8caf42d9",
   "metadata": {
    "papermill": {
     "duration": 0.033352,
     "end_time": "2023-10-25T08:28:01.854707",
     "exception": false,
     "start_time": "2023-10-25T08:28:01.821355",
     "status": "completed"
    },
    "tags": []
   },
   "source": [
    "### Add new features"
   ]
  },
  {
   "cell_type": "code",
   "execution_count": 21,
   "id": "78f36122",
   "metadata": {
    "execution": {
     "iopub.execute_input": "2023-10-25T08:28:01.925857Z",
     "iopub.status.busy": "2023-10-25T08:28:01.924855Z",
     "iopub.status.idle": "2023-10-25T08:28:01.931248Z",
     "shell.execute_reply": "2023-10-25T08:28:01.930297Z"
    },
    "papermill": {
     "duration": 0.045506,
     "end_time": "2023-10-25T08:28:01.933666",
     "exception": false,
     "start_time": "2023-10-25T08:28:01.888160",
     "status": "completed"
    },
    "tags": []
   },
   "outputs": [],
   "source": [
    "def feature_eng(df):\n",
    "    df[[\"Deck\", \"Side\"]] = df.Cabin.str.split(\"/\", expand=True).loc[:, [0, 2]]\n",
    "    df = df.drop([\"Cabin\"], axis=1)\n",
    "    df[\"Expenses\"] = df[['RoomService', 'FoodCourt', 'ShoppingMall', 'Spa', 'VRDeck']]\\\n",
    "    .sum(axis=1)\n",
    "    return df"
   ]
  },
  {
   "cell_type": "code",
   "execution_count": 22,
   "id": "bfe70a6e",
   "metadata": {
    "execution": {
     "iopub.execute_input": "2023-10-25T08:28:02.003694Z",
     "iopub.status.busy": "2023-10-25T08:28:02.002921Z",
     "iopub.status.idle": "2023-10-25T08:28:02.214117Z",
     "shell.execute_reply": "2023-10-25T08:28:02.212602Z"
    },
    "papermill": {
     "duration": 0.249189,
     "end_time": "2023-10-25T08:28:02.216662",
     "exception": false,
     "start_time": "2023-10-25T08:28:01.967473",
     "status": "completed"
    },
    "tags": []
   },
   "outputs": [
    {
     "data": {
      "text/html": [
       "<div>\n",
       "<style scoped>\n",
       "    .dataframe tbody tr th:only-of-type {\n",
       "        vertical-align: middle;\n",
       "    }\n",
       "\n",
       "    .dataframe tbody tr th {\n",
       "        vertical-align: top;\n",
       "    }\n",
       "\n",
       "    .dataframe thead th {\n",
       "        text-align: right;\n",
       "    }\n",
       "</style>\n",
       "<table border=\"1\" class=\"dataframe\">\n",
       "  <thead>\n",
       "    <tr style=\"text-align: right;\">\n",
       "      <th></th>\n",
       "      <th>PassengerId</th>\n",
       "      <th>HomePlanet</th>\n",
       "      <th>CryoSleep</th>\n",
       "      <th>Destination</th>\n",
       "      <th>Age</th>\n",
       "      <th>VIP</th>\n",
       "      <th>RoomService</th>\n",
       "      <th>FoodCourt</th>\n",
       "      <th>ShoppingMall</th>\n",
       "      <th>Spa</th>\n",
       "      <th>VRDeck</th>\n",
       "      <th>Name</th>\n",
       "      <th>Deck</th>\n",
       "      <th>Side</th>\n",
       "      <th>Expenses</th>\n",
       "    </tr>\n",
       "  </thead>\n",
       "  <tbody>\n",
       "    <tr>\n",
       "      <th>0</th>\n",
       "      <td>0001_01</td>\n",
       "      <td>Europa</td>\n",
       "      <td>False</td>\n",
       "      <td>TRAPPIST-1e</td>\n",
       "      <td>39.0</td>\n",
       "      <td>False</td>\n",
       "      <td>0.0</td>\n",
       "      <td>0.0</td>\n",
       "      <td>0.0</td>\n",
       "      <td>0.0</td>\n",
       "      <td>0.0</td>\n",
       "      <td>Maham Ofracculy</td>\n",
       "      <td>B</td>\n",
       "      <td>P</td>\n",
       "      <td>0.0</td>\n",
       "    </tr>\n",
       "    <tr>\n",
       "      <th>1</th>\n",
       "      <td>0002_01</td>\n",
       "      <td>Earth</td>\n",
       "      <td>False</td>\n",
       "      <td>TRAPPIST-1e</td>\n",
       "      <td>24.0</td>\n",
       "      <td>False</td>\n",
       "      <td>109.0</td>\n",
       "      <td>9.0</td>\n",
       "      <td>25.0</td>\n",
       "      <td>549.0</td>\n",
       "      <td>44.0</td>\n",
       "      <td>Juanna Vines</td>\n",
       "      <td>F</td>\n",
       "      <td>S</td>\n",
       "      <td>736.0</td>\n",
       "    </tr>\n",
       "    <tr>\n",
       "      <th>2</th>\n",
       "      <td>0003_01</td>\n",
       "      <td>Europa</td>\n",
       "      <td>False</td>\n",
       "      <td>TRAPPIST-1e</td>\n",
       "      <td>58.0</td>\n",
       "      <td>True</td>\n",
       "      <td>43.0</td>\n",
       "      <td>3576.0</td>\n",
       "      <td>0.0</td>\n",
       "      <td>6715.0</td>\n",
       "      <td>49.0</td>\n",
       "      <td>Altark Susent</td>\n",
       "      <td>A</td>\n",
       "      <td>S</td>\n",
       "      <td>10383.0</td>\n",
       "    </tr>\n",
       "    <tr>\n",
       "      <th>3</th>\n",
       "      <td>0003_02</td>\n",
       "      <td>Europa</td>\n",
       "      <td>False</td>\n",
       "      <td>TRAPPIST-1e</td>\n",
       "      <td>33.0</td>\n",
       "      <td>False</td>\n",
       "      <td>0.0</td>\n",
       "      <td>1283.0</td>\n",
       "      <td>371.0</td>\n",
       "      <td>3329.0</td>\n",
       "      <td>193.0</td>\n",
       "      <td>Solam Susent</td>\n",
       "      <td>A</td>\n",
       "      <td>S</td>\n",
       "      <td>5176.0</td>\n",
       "    </tr>\n",
       "    <tr>\n",
       "      <th>4</th>\n",
       "      <td>0004_01</td>\n",
       "      <td>Earth</td>\n",
       "      <td>False</td>\n",
       "      <td>TRAPPIST-1e</td>\n",
       "      <td>16.0</td>\n",
       "      <td>False</td>\n",
       "      <td>303.0</td>\n",
       "      <td>70.0</td>\n",
       "      <td>151.0</td>\n",
       "      <td>565.0</td>\n",
       "      <td>2.0</td>\n",
       "      <td>Willy Santantines</td>\n",
       "      <td>F</td>\n",
       "      <td>S</td>\n",
       "      <td>1091.0</td>\n",
       "    </tr>\n",
       "    <tr>\n",
       "      <th>...</th>\n",
       "      <td>...</td>\n",
       "      <td>...</td>\n",
       "      <td>...</td>\n",
       "      <td>...</td>\n",
       "      <td>...</td>\n",
       "      <td>...</td>\n",
       "      <td>...</td>\n",
       "      <td>...</td>\n",
       "      <td>...</td>\n",
       "      <td>...</td>\n",
       "      <td>...</td>\n",
       "      <td>...</td>\n",
       "      <td>...</td>\n",
       "      <td>...</td>\n",
       "      <td>...</td>\n",
       "    </tr>\n",
       "    <tr>\n",
       "      <th>8688</th>\n",
       "      <td>9276_01</td>\n",
       "      <td>Europa</td>\n",
       "      <td>False</td>\n",
       "      <td>55 Cancri e</td>\n",
       "      <td>41.0</td>\n",
       "      <td>True</td>\n",
       "      <td>0.0</td>\n",
       "      <td>6819.0</td>\n",
       "      <td>0.0</td>\n",
       "      <td>1643.0</td>\n",
       "      <td>74.0</td>\n",
       "      <td>Gravior Noxnuther</td>\n",
       "      <td>A</td>\n",
       "      <td>P</td>\n",
       "      <td>8536.0</td>\n",
       "    </tr>\n",
       "    <tr>\n",
       "      <th>8689</th>\n",
       "      <td>9278_01</td>\n",
       "      <td>Earth</td>\n",
       "      <td>True</td>\n",
       "      <td>PSO J318.5-22</td>\n",
       "      <td>18.0</td>\n",
       "      <td>False</td>\n",
       "      <td>0.0</td>\n",
       "      <td>0.0</td>\n",
       "      <td>0.0</td>\n",
       "      <td>0.0</td>\n",
       "      <td>0.0</td>\n",
       "      <td>Kurta Mondalley</td>\n",
       "      <td>G</td>\n",
       "      <td>S</td>\n",
       "      <td>0.0</td>\n",
       "    </tr>\n",
       "    <tr>\n",
       "      <th>8690</th>\n",
       "      <td>9279_01</td>\n",
       "      <td>Earth</td>\n",
       "      <td>False</td>\n",
       "      <td>TRAPPIST-1e</td>\n",
       "      <td>26.0</td>\n",
       "      <td>False</td>\n",
       "      <td>0.0</td>\n",
       "      <td>0.0</td>\n",
       "      <td>1872.0</td>\n",
       "      <td>1.0</td>\n",
       "      <td>0.0</td>\n",
       "      <td>Fayey Connon</td>\n",
       "      <td>G</td>\n",
       "      <td>S</td>\n",
       "      <td>1873.0</td>\n",
       "    </tr>\n",
       "    <tr>\n",
       "      <th>8691</th>\n",
       "      <td>9280_01</td>\n",
       "      <td>Europa</td>\n",
       "      <td>False</td>\n",
       "      <td>55 Cancri e</td>\n",
       "      <td>32.0</td>\n",
       "      <td>False</td>\n",
       "      <td>0.0</td>\n",
       "      <td>1049.0</td>\n",
       "      <td>0.0</td>\n",
       "      <td>353.0</td>\n",
       "      <td>3235.0</td>\n",
       "      <td>Celeon Hontichre</td>\n",
       "      <td>E</td>\n",
       "      <td>S</td>\n",
       "      <td>4637.0</td>\n",
       "    </tr>\n",
       "    <tr>\n",
       "      <th>8692</th>\n",
       "      <td>9280_02</td>\n",
       "      <td>Europa</td>\n",
       "      <td>False</td>\n",
       "      <td>TRAPPIST-1e</td>\n",
       "      <td>44.0</td>\n",
       "      <td>False</td>\n",
       "      <td>126.0</td>\n",
       "      <td>4688.0</td>\n",
       "      <td>0.0</td>\n",
       "      <td>0.0</td>\n",
       "      <td>12.0</td>\n",
       "      <td>Propsh Hontichre</td>\n",
       "      <td>E</td>\n",
       "      <td>S</td>\n",
       "      <td>4826.0</td>\n",
       "    </tr>\n",
       "  </tbody>\n",
       "</table>\n",
       "<p>8693 rows × 15 columns</p>\n",
       "</div>"
      ],
      "text/plain": [
       "     PassengerId HomePlanet CryoSleep    Destination   Age    VIP  \\\n",
       "0        0001_01     Europa     False    TRAPPIST-1e  39.0  False   \n",
       "1        0002_01      Earth     False    TRAPPIST-1e  24.0  False   \n",
       "2        0003_01     Europa     False    TRAPPIST-1e  58.0   True   \n",
       "3        0003_02     Europa     False    TRAPPIST-1e  33.0  False   \n",
       "4        0004_01      Earth     False    TRAPPIST-1e  16.0  False   \n",
       "...          ...        ...       ...            ...   ...    ...   \n",
       "8688     9276_01     Europa     False    55 Cancri e  41.0   True   \n",
       "8689     9278_01      Earth      True  PSO J318.5-22  18.0  False   \n",
       "8690     9279_01      Earth     False    TRAPPIST-1e  26.0  False   \n",
       "8691     9280_01     Europa     False    55 Cancri e  32.0  False   \n",
       "8692     9280_02     Europa     False    TRAPPIST-1e  44.0  False   \n",
       "\n",
       "      RoomService  FoodCourt  ShoppingMall     Spa  VRDeck               Name  \\\n",
       "0             0.0        0.0           0.0     0.0     0.0    Maham Ofracculy   \n",
       "1           109.0        9.0          25.0   549.0    44.0       Juanna Vines   \n",
       "2            43.0     3576.0           0.0  6715.0    49.0      Altark Susent   \n",
       "3             0.0     1283.0         371.0  3329.0   193.0       Solam Susent   \n",
       "4           303.0       70.0         151.0   565.0     2.0  Willy Santantines   \n",
       "...           ...        ...           ...     ...     ...                ...   \n",
       "8688          0.0     6819.0           0.0  1643.0    74.0  Gravior Noxnuther   \n",
       "8689          0.0        0.0           0.0     0.0     0.0    Kurta Mondalley   \n",
       "8690          0.0        0.0        1872.0     1.0     0.0       Fayey Connon   \n",
       "8691          0.0     1049.0           0.0   353.0  3235.0   Celeon Hontichre   \n",
       "8692        126.0     4688.0           0.0     0.0    12.0   Propsh Hontichre   \n",
       "\n",
       "     Deck Side  Expenses  \n",
       "0       B    P       0.0  \n",
       "1       F    S     736.0  \n",
       "2       A    S   10383.0  \n",
       "3       A    S    5176.0  \n",
       "4       F    S    1091.0  \n",
       "...   ...  ...       ...  \n",
       "8688    A    P    8536.0  \n",
       "8689    G    S       0.0  \n",
       "8690    G    S    1873.0  \n",
       "8691    E    S    4637.0  \n",
       "8692    E    S    4826.0  \n",
       "\n",
       "[8693 rows x 15 columns]"
      ]
     },
     "execution_count": 22,
     "metadata": {},
     "output_type": "execute_result"
    }
   ],
   "source": [
    "feature_eng(X_space)"
   ]
  },
  {
   "cell_type": "markdown",
   "id": "47afcd8b",
   "metadata": {
    "execution": {
     "iopub.execute_input": "2023-10-18T16:48:36.788775Z",
     "iopub.status.busy": "2023-10-18T16:48:36.788044Z",
     "iopub.status.idle": "2023-10-18T16:48:36.796019Z",
     "shell.execute_reply": "2023-10-18T16:48:36.794983Z",
     "shell.execute_reply.started": "2023-10-18T16:48:36.788731Z"
    },
    "papermill": {
     "duration": 0.03437,
     "end_time": "2023-10-25T08:28:02.286344",
     "exception": false,
     "start_time": "2023-10-25T08:28:02.251974",
     "status": "completed"
    },
    "tags": []
   },
   "source": [
    "## Creating a pipeline"
   ]
  },
  {
   "cell_type": "markdown",
   "id": "dae4754a",
   "metadata": {
    "papermill": {
     "duration": 0.034423,
     "end_time": "2023-10-25T08:28:02.354872",
     "exception": false,
     "start_time": "2023-10-25T08:28:02.320449",
     "status": "completed"
    },
    "tags": []
   },
   "source": [
    "### Add data type selector"
   ]
  },
  {
   "cell_type": "code",
   "execution_count": 23,
   "id": "f6f0b97c",
   "metadata": {
    "execution": {
     "iopub.execute_input": "2023-10-25T08:28:02.426588Z",
     "iopub.status.busy": "2023-10-25T08:28:02.425627Z",
     "iopub.status.idle": "2023-10-25T08:28:02.431169Z",
     "shell.execute_reply": "2023-10-25T08:28:02.430038Z"
    },
    "papermill": {
     "duration": 0.044048,
     "end_time": "2023-10-25T08:28:02.433434",
     "exception": false,
     "start_time": "2023-10-25T08:28:02.389386",
     "status": "completed"
    },
    "tags": []
   },
   "outputs": [],
   "source": [
    "cat_col_sel = make_column_selector(dtype_exclude=np.float64)\n",
    "num_col_sel = make_column_selector(dtype_include=np.float64)"
   ]
  },
  {
   "cell_type": "markdown",
   "id": "4411acbd",
   "metadata": {
    "papermill": {
     "duration": 0.033872,
     "end_time": "2023-10-25T08:28:02.502131",
     "exception": false,
     "start_time": "2023-10-25T08:28:02.468259",
     "status": "completed"
    },
    "tags": []
   },
   "source": [
    "### Impute and encode categorical data"
   ]
  },
  {
   "cell_type": "code",
   "execution_count": 24,
   "id": "2a5ab9a2",
   "metadata": {
    "execution": {
     "iopub.execute_input": "2023-10-25T08:28:02.574100Z",
     "iopub.status.busy": "2023-10-25T08:28:02.572819Z",
     "iopub.status.idle": "2023-10-25T08:28:02.591237Z",
     "shell.execute_reply": "2023-10-25T08:28:02.590094Z"
    },
    "papermill": {
     "duration": 0.057482,
     "end_time": "2023-10-25T08:28:02.593782",
     "exception": false,
     "start_time": "2023-10-25T08:28:02.536300",
     "status": "completed"
    },
    "tags": []
   },
   "outputs": [
    {
     "data": {
      "text/html": [
       "<style>#sk-container-id-1 {color: black;background-color: white;}#sk-container-id-1 pre{padding: 0;}#sk-container-id-1 div.sk-toggleable {background-color: white;}#sk-container-id-1 label.sk-toggleable__label {cursor: pointer;display: block;width: 100%;margin-bottom: 0;padding: 0.3em;box-sizing: border-box;text-align: center;}#sk-container-id-1 label.sk-toggleable__label-arrow:before {content: \"▸\";float: left;margin-right: 0.25em;color: #696969;}#sk-container-id-1 label.sk-toggleable__label-arrow:hover:before {color: black;}#sk-container-id-1 div.sk-estimator:hover label.sk-toggleable__label-arrow:before {color: black;}#sk-container-id-1 div.sk-toggleable__content {max-height: 0;max-width: 0;overflow: hidden;text-align: left;background-color: #f0f8ff;}#sk-container-id-1 div.sk-toggleable__content pre {margin: 0.2em;color: black;border-radius: 0.25em;background-color: #f0f8ff;}#sk-container-id-1 input.sk-toggleable__control:checked~div.sk-toggleable__content {max-height: 200px;max-width: 100%;overflow: auto;}#sk-container-id-1 input.sk-toggleable__control:checked~label.sk-toggleable__label-arrow:before {content: \"▾\";}#sk-container-id-1 div.sk-estimator input.sk-toggleable__control:checked~label.sk-toggleable__label {background-color: #d4ebff;}#sk-container-id-1 div.sk-label input.sk-toggleable__control:checked~label.sk-toggleable__label {background-color: #d4ebff;}#sk-container-id-1 input.sk-hidden--visually {border: 0;clip: rect(1px 1px 1px 1px);clip: rect(1px, 1px, 1px, 1px);height: 1px;margin: -1px;overflow: hidden;padding: 0;position: absolute;width: 1px;}#sk-container-id-1 div.sk-estimator {font-family: monospace;background-color: #f0f8ff;border: 1px dotted black;border-radius: 0.25em;box-sizing: border-box;margin-bottom: 0.5em;}#sk-container-id-1 div.sk-estimator:hover {background-color: #d4ebff;}#sk-container-id-1 div.sk-parallel-item::after {content: \"\";width: 100%;border-bottom: 1px solid gray;flex-grow: 1;}#sk-container-id-1 div.sk-label:hover label.sk-toggleable__label {background-color: #d4ebff;}#sk-container-id-1 div.sk-serial::before {content: \"\";position: absolute;border-left: 1px solid gray;box-sizing: border-box;top: 0;bottom: 0;left: 50%;z-index: 0;}#sk-container-id-1 div.sk-serial {display: flex;flex-direction: column;align-items: center;background-color: white;padding-right: 0.2em;padding-left: 0.2em;position: relative;}#sk-container-id-1 div.sk-item {position: relative;z-index: 1;}#sk-container-id-1 div.sk-parallel {display: flex;align-items: stretch;justify-content: center;background-color: white;position: relative;}#sk-container-id-1 div.sk-item::before, #sk-container-id-1 div.sk-parallel-item::before {content: \"\";position: absolute;border-left: 1px solid gray;box-sizing: border-box;top: 0;bottom: 0;left: 50%;z-index: -1;}#sk-container-id-1 div.sk-parallel-item {display: flex;flex-direction: column;z-index: 1;position: relative;background-color: white;}#sk-container-id-1 div.sk-parallel-item:first-child::after {align-self: flex-end;width: 50%;}#sk-container-id-1 div.sk-parallel-item:last-child::after {align-self: flex-start;width: 50%;}#sk-container-id-1 div.sk-parallel-item:only-child::after {width: 0;}#sk-container-id-1 div.sk-dashed-wrapped {border: 1px dashed gray;margin: 0 0.4em 0.5em 0.4em;box-sizing: border-box;padding-bottom: 0.4em;background-color: white;}#sk-container-id-1 div.sk-label label {font-family: monospace;font-weight: bold;display: inline-block;line-height: 1.2em;}#sk-container-id-1 div.sk-label-container {text-align: center;}#sk-container-id-1 div.sk-container {/* jupyter's `normalize.less` sets `[hidden] { display: none; }` but bootstrap.min.css set `[hidden] { display: none !important; }` so we also need the `!important` here to be able to override the default hidden behavior on the sphinx rendered scikit-learn.org. See: https://github.com/scikit-learn/scikit-learn/issues/21755 */display: inline-block !important;position: relative;}#sk-container-id-1 div.sk-text-repr-fallback {display: none;}</style><div id=\"sk-container-id-1\" class=\"sk-top-container\"><div class=\"sk-text-repr-fallback\"><pre>Pipeline(steps=[(&#x27;simpleimputer&#x27;, SimpleImputer(strategy=&#x27;most_frequent&#x27;)),\n",
       "                (&#x27;onehotencoder&#x27;, OneHotEncoder(handle_unknown=&#x27;ignore&#x27;))])</pre><b>In a Jupyter environment, please rerun this cell to show the HTML representation or trust the notebook. <br />On GitHub, the HTML representation is unable to render, please try loading this page with nbviewer.org.</b></div><div class=\"sk-container\" hidden><div class=\"sk-item sk-dashed-wrapped\"><div class=\"sk-label-container\"><div class=\"sk-label sk-toggleable\"><input class=\"sk-toggleable__control sk-hidden--visually\" id=\"sk-estimator-id-1\" type=\"checkbox\" ><label for=\"sk-estimator-id-1\" class=\"sk-toggleable__label sk-toggleable__label-arrow\">Pipeline</label><div class=\"sk-toggleable__content\"><pre>Pipeline(steps=[(&#x27;simpleimputer&#x27;, SimpleImputer(strategy=&#x27;most_frequent&#x27;)),\n",
       "                (&#x27;onehotencoder&#x27;, OneHotEncoder(handle_unknown=&#x27;ignore&#x27;))])</pre></div></div></div><div class=\"sk-serial\"><div class=\"sk-item\"><div class=\"sk-estimator sk-toggleable\"><input class=\"sk-toggleable__control sk-hidden--visually\" id=\"sk-estimator-id-2\" type=\"checkbox\" ><label for=\"sk-estimator-id-2\" class=\"sk-toggleable__label sk-toggleable__label-arrow\">SimpleImputer</label><div class=\"sk-toggleable__content\"><pre>SimpleImputer(strategy=&#x27;most_frequent&#x27;)</pre></div></div></div><div class=\"sk-item\"><div class=\"sk-estimator sk-toggleable\"><input class=\"sk-toggleable__control sk-hidden--visually\" id=\"sk-estimator-id-3\" type=\"checkbox\" ><label for=\"sk-estimator-id-3\" class=\"sk-toggleable__label sk-toggleable__label-arrow\">OneHotEncoder</label><div class=\"sk-toggleable__content\"><pre>OneHotEncoder(handle_unknown=&#x27;ignore&#x27;)</pre></div></div></div></div></div></div></div>"
      ],
      "text/plain": [
       "Pipeline(steps=[('simpleimputer', SimpleImputer(strategy='most_frequent')),\n",
       "                ('onehotencoder', OneHotEncoder(handle_unknown='ignore'))])"
      ]
     },
     "execution_count": 24,
     "metadata": {},
     "output_type": "execute_result"
    }
   ],
   "source": [
    "cat_imp = SimpleImputer(strategy=\"most_frequent\")\n",
    "cat_ohe = OneHotEncoder(handle_unknown=\"ignore\")\n",
    "\n",
    "cat_pipeline = make_pipeline(cat_imp, cat_ohe)\n",
    "cat_pipeline"
   ]
  },
  {
   "cell_type": "markdown",
   "id": "60ef8e12",
   "metadata": {
    "papermill": {
     "duration": 0.034786,
     "end_time": "2023-10-25T08:28:02.663940",
     "exception": false,
     "start_time": "2023-10-25T08:28:02.629154",
     "status": "completed"
    },
    "tags": []
   },
   "source": [
    "### Impute and scale numeric data"
   ]
  },
  {
   "cell_type": "code",
   "execution_count": 25,
   "id": "f75d0fda",
   "metadata": {
    "execution": {
     "iopub.execute_input": "2023-10-25T08:28:02.738591Z",
     "iopub.status.busy": "2023-10-25T08:28:02.738140Z",
     "iopub.status.idle": "2023-10-25T08:28:02.749663Z",
     "shell.execute_reply": "2023-10-25T08:28:02.748612Z"
    },
    "papermill": {
     "duration": 0.052677,
     "end_time": "2023-10-25T08:28:02.752297",
     "exception": false,
     "start_time": "2023-10-25T08:28:02.699620",
     "status": "completed"
    },
    "tags": []
   },
   "outputs": [
    {
     "data": {
      "text/html": [
       "<style>#sk-container-id-2 {color: black;background-color: white;}#sk-container-id-2 pre{padding: 0;}#sk-container-id-2 div.sk-toggleable {background-color: white;}#sk-container-id-2 label.sk-toggleable__label {cursor: pointer;display: block;width: 100%;margin-bottom: 0;padding: 0.3em;box-sizing: border-box;text-align: center;}#sk-container-id-2 label.sk-toggleable__label-arrow:before {content: \"▸\";float: left;margin-right: 0.25em;color: #696969;}#sk-container-id-2 label.sk-toggleable__label-arrow:hover:before {color: black;}#sk-container-id-2 div.sk-estimator:hover label.sk-toggleable__label-arrow:before {color: black;}#sk-container-id-2 div.sk-toggleable__content {max-height: 0;max-width: 0;overflow: hidden;text-align: left;background-color: #f0f8ff;}#sk-container-id-2 div.sk-toggleable__content pre {margin: 0.2em;color: black;border-radius: 0.25em;background-color: #f0f8ff;}#sk-container-id-2 input.sk-toggleable__control:checked~div.sk-toggleable__content {max-height: 200px;max-width: 100%;overflow: auto;}#sk-container-id-2 input.sk-toggleable__control:checked~label.sk-toggleable__label-arrow:before {content: \"▾\";}#sk-container-id-2 div.sk-estimator input.sk-toggleable__control:checked~label.sk-toggleable__label {background-color: #d4ebff;}#sk-container-id-2 div.sk-label input.sk-toggleable__control:checked~label.sk-toggleable__label {background-color: #d4ebff;}#sk-container-id-2 input.sk-hidden--visually {border: 0;clip: rect(1px 1px 1px 1px);clip: rect(1px, 1px, 1px, 1px);height: 1px;margin: -1px;overflow: hidden;padding: 0;position: absolute;width: 1px;}#sk-container-id-2 div.sk-estimator {font-family: monospace;background-color: #f0f8ff;border: 1px dotted black;border-radius: 0.25em;box-sizing: border-box;margin-bottom: 0.5em;}#sk-container-id-2 div.sk-estimator:hover {background-color: #d4ebff;}#sk-container-id-2 div.sk-parallel-item::after {content: \"\";width: 100%;border-bottom: 1px solid gray;flex-grow: 1;}#sk-container-id-2 div.sk-label:hover label.sk-toggleable__label {background-color: #d4ebff;}#sk-container-id-2 div.sk-serial::before {content: \"\";position: absolute;border-left: 1px solid gray;box-sizing: border-box;top: 0;bottom: 0;left: 50%;z-index: 0;}#sk-container-id-2 div.sk-serial {display: flex;flex-direction: column;align-items: center;background-color: white;padding-right: 0.2em;padding-left: 0.2em;position: relative;}#sk-container-id-2 div.sk-item {position: relative;z-index: 1;}#sk-container-id-2 div.sk-parallel {display: flex;align-items: stretch;justify-content: center;background-color: white;position: relative;}#sk-container-id-2 div.sk-item::before, #sk-container-id-2 div.sk-parallel-item::before {content: \"\";position: absolute;border-left: 1px solid gray;box-sizing: border-box;top: 0;bottom: 0;left: 50%;z-index: -1;}#sk-container-id-2 div.sk-parallel-item {display: flex;flex-direction: column;z-index: 1;position: relative;background-color: white;}#sk-container-id-2 div.sk-parallel-item:first-child::after {align-self: flex-end;width: 50%;}#sk-container-id-2 div.sk-parallel-item:last-child::after {align-self: flex-start;width: 50%;}#sk-container-id-2 div.sk-parallel-item:only-child::after {width: 0;}#sk-container-id-2 div.sk-dashed-wrapped {border: 1px dashed gray;margin: 0 0.4em 0.5em 0.4em;box-sizing: border-box;padding-bottom: 0.4em;background-color: white;}#sk-container-id-2 div.sk-label label {font-family: monospace;font-weight: bold;display: inline-block;line-height: 1.2em;}#sk-container-id-2 div.sk-label-container {text-align: center;}#sk-container-id-2 div.sk-container {/* jupyter's `normalize.less` sets `[hidden] { display: none; }` but bootstrap.min.css set `[hidden] { display: none !important; }` so we also need the `!important` here to be able to override the default hidden behavior on the sphinx rendered scikit-learn.org. See: https://github.com/scikit-learn/scikit-learn/issues/21755 */display: inline-block !important;position: relative;}#sk-container-id-2 div.sk-text-repr-fallback {display: none;}</style><div id=\"sk-container-id-2\" class=\"sk-top-container\"><div class=\"sk-text-repr-fallback\"><pre>Pipeline(steps=[(&#x27;simpleimputer&#x27;, SimpleImputer(strategy=&#x27;median&#x27;)),\n",
       "                (&#x27;standardscaler&#x27;, StandardScaler())])</pre><b>In a Jupyter environment, please rerun this cell to show the HTML representation or trust the notebook. <br />On GitHub, the HTML representation is unable to render, please try loading this page with nbviewer.org.</b></div><div class=\"sk-container\" hidden><div class=\"sk-item sk-dashed-wrapped\"><div class=\"sk-label-container\"><div class=\"sk-label sk-toggleable\"><input class=\"sk-toggleable__control sk-hidden--visually\" id=\"sk-estimator-id-4\" type=\"checkbox\" ><label for=\"sk-estimator-id-4\" class=\"sk-toggleable__label sk-toggleable__label-arrow\">Pipeline</label><div class=\"sk-toggleable__content\"><pre>Pipeline(steps=[(&#x27;simpleimputer&#x27;, SimpleImputer(strategy=&#x27;median&#x27;)),\n",
       "                (&#x27;standardscaler&#x27;, StandardScaler())])</pre></div></div></div><div class=\"sk-serial\"><div class=\"sk-item\"><div class=\"sk-estimator sk-toggleable\"><input class=\"sk-toggleable__control sk-hidden--visually\" id=\"sk-estimator-id-5\" type=\"checkbox\" ><label for=\"sk-estimator-id-5\" class=\"sk-toggleable__label sk-toggleable__label-arrow\">SimpleImputer</label><div class=\"sk-toggleable__content\"><pre>SimpleImputer(strategy=&#x27;median&#x27;)</pre></div></div></div><div class=\"sk-item\"><div class=\"sk-estimator sk-toggleable\"><input class=\"sk-toggleable__control sk-hidden--visually\" id=\"sk-estimator-id-6\" type=\"checkbox\" ><label for=\"sk-estimator-id-6\" class=\"sk-toggleable__label sk-toggleable__label-arrow\">StandardScaler</label><div class=\"sk-toggleable__content\"><pre>StandardScaler()</pre></div></div></div></div></div></div></div>"
      ],
      "text/plain": [
       "Pipeline(steps=[('simpleimputer', SimpleImputer(strategy='median')),\n",
       "                ('standardscaler', StandardScaler())])"
      ]
     },
     "execution_count": 25,
     "metadata": {},
     "output_type": "execute_result"
    }
   ],
   "source": [
    "num_imp = SimpleImputer(strategy=\"median\")\n",
    "num_scaler = StandardScaler()\n",
    "\n",
    "num_pipeline = make_pipeline(num_imp, num_scaler)\n",
    "num_pipeline"
   ]
  },
  {
   "cell_type": "markdown",
   "id": "6033ed7f",
   "metadata": {
    "papermill": {
     "duration": 0.035602,
     "end_time": "2023-10-25T08:28:02.823752",
     "exception": false,
     "start_time": "2023-10-25T08:28:02.788150",
     "status": "completed"
    },
    "tags": []
   },
   "source": [
    "### Join numeric and categorical columns"
   ]
  },
  {
   "cell_type": "code",
   "execution_count": 26,
   "id": "7793fc05",
   "metadata": {
    "execution": {
     "iopub.execute_input": "2023-10-25T08:28:02.897083Z",
     "iopub.status.busy": "2023-10-25T08:28:02.896285Z",
     "iopub.status.idle": "2023-10-25T08:28:02.938991Z",
     "shell.execute_reply": "2023-10-25T08:28:02.937828Z"
    },
    "papermill": {
     "duration": 0.082757,
     "end_time": "2023-10-25T08:28:02.942030",
     "exception": false,
     "start_time": "2023-10-25T08:28:02.859273",
     "status": "completed"
    },
    "tags": []
   },
   "outputs": [
    {
     "data": {
      "text/html": [
       "<style>#sk-container-id-3 {color: black;background-color: white;}#sk-container-id-3 pre{padding: 0;}#sk-container-id-3 div.sk-toggleable {background-color: white;}#sk-container-id-3 label.sk-toggleable__label {cursor: pointer;display: block;width: 100%;margin-bottom: 0;padding: 0.3em;box-sizing: border-box;text-align: center;}#sk-container-id-3 label.sk-toggleable__label-arrow:before {content: \"▸\";float: left;margin-right: 0.25em;color: #696969;}#sk-container-id-3 label.sk-toggleable__label-arrow:hover:before {color: black;}#sk-container-id-3 div.sk-estimator:hover label.sk-toggleable__label-arrow:before {color: black;}#sk-container-id-3 div.sk-toggleable__content {max-height: 0;max-width: 0;overflow: hidden;text-align: left;background-color: #f0f8ff;}#sk-container-id-3 div.sk-toggleable__content pre {margin: 0.2em;color: black;border-radius: 0.25em;background-color: #f0f8ff;}#sk-container-id-3 input.sk-toggleable__control:checked~div.sk-toggleable__content {max-height: 200px;max-width: 100%;overflow: auto;}#sk-container-id-3 input.sk-toggleable__control:checked~label.sk-toggleable__label-arrow:before {content: \"▾\";}#sk-container-id-3 div.sk-estimator input.sk-toggleable__control:checked~label.sk-toggleable__label {background-color: #d4ebff;}#sk-container-id-3 div.sk-label input.sk-toggleable__control:checked~label.sk-toggleable__label {background-color: #d4ebff;}#sk-container-id-3 input.sk-hidden--visually {border: 0;clip: rect(1px 1px 1px 1px);clip: rect(1px, 1px, 1px, 1px);height: 1px;margin: -1px;overflow: hidden;padding: 0;position: absolute;width: 1px;}#sk-container-id-3 div.sk-estimator {font-family: monospace;background-color: #f0f8ff;border: 1px dotted black;border-radius: 0.25em;box-sizing: border-box;margin-bottom: 0.5em;}#sk-container-id-3 div.sk-estimator:hover {background-color: #d4ebff;}#sk-container-id-3 div.sk-parallel-item::after {content: \"\";width: 100%;border-bottom: 1px solid gray;flex-grow: 1;}#sk-container-id-3 div.sk-label:hover label.sk-toggleable__label {background-color: #d4ebff;}#sk-container-id-3 div.sk-serial::before {content: \"\";position: absolute;border-left: 1px solid gray;box-sizing: border-box;top: 0;bottom: 0;left: 50%;z-index: 0;}#sk-container-id-3 div.sk-serial {display: flex;flex-direction: column;align-items: center;background-color: white;padding-right: 0.2em;padding-left: 0.2em;position: relative;}#sk-container-id-3 div.sk-item {position: relative;z-index: 1;}#sk-container-id-3 div.sk-parallel {display: flex;align-items: stretch;justify-content: center;background-color: white;position: relative;}#sk-container-id-3 div.sk-item::before, #sk-container-id-3 div.sk-parallel-item::before {content: \"\";position: absolute;border-left: 1px solid gray;box-sizing: border-box;top: 0;bottom: 0;left: 50%;z-index: -1;}#sk-container-id-3 div.sk-parallel-item {display: flex;flex-direction: column;z-index: 1;position: relative;background-color: white;}#sk-container-id-3 div.sk-parallel-item:first-child::after {align-self: flex-end;width: 50%;}#sk-container-id-3 div.sk-parallel-item:last-child::after {align-self: flex-start;width: 50%;}#sk-container-id-3 div.sk-parallel-item:only-child::after {width: 0;}#sk-container-id-3 div.sk-dashed-wrapped {border: 1px dashed gray;margin: 0 0.4em 0.5em 0.4em;box-sizing: border-box;padding-bottom: 0.4em;background-color: white;}#sk-container-id-3 div.sk-label label {font-family: monospace;font-weight: bold;display: inline-block;line-height: 1.2em;}#sk-container-id-3 div.sk-label-container {text-align: center;}#sk-container-id-3 div.sk-container {/* jupyter's `normalize.less` sets `[hidden] { display: none; }` but bootstrap.min.css set `[hidden] { display: none !important; }` so we also need the `!important` here to be able to override the default hidden behavior on the sphinx rendered scikit-learn.org. See: https://github.com/scikit-learn/scikit-learn/issues/21755 */display: inline-block !important;position: relative;}#sk-container-id-3 div.sk-text-repr-fallback {display: none;}</style><div id=\"sk-container-id-3\" class=\"sk-top-container\"><div class=\"sk-text-repr-fallback\"><pre>ColumnTransformer(transformers=[(&#x27;pipeline-1&#x27;,\n",
       "                                 Pipeline(steps=[(&#x27;simpleimputer&#x27;,\n",
       "                                                  SimpleImputer(strategy=&#x27;median&#x27;)),\n",
       "                                                 (&#x27;standardscaler&#x27;,\n",
       "                                                  StandardScaler())]),\n",
       "                                 &lt;sklearn.compose._column_transformer.make_column_selector object at 0x7983da125930&gt;),\n",
       "                                (&#x27;pipeline-2&#x27;,\n",
       "                                 Pipeline(steps=[(&#x27;simpleimputer&#x27;,\n",
       "                                                  SimpleImputer(strategy=&#x27;most_frequent&#x27;)),\n",
       "                                                 (&#x27;onehotencoder&#x27;,\n",
       "                                                  OneHotEncoder(handle_unknown=&#x27;ignore&#x27;))]),\n",
       "                                 &lt;sklearn.compose._column_transformer.make_column_selector object at 0x7983da126650&gt;)])</pre><b>In a Jupyter environment, please rerun this cell to show the HTML representation or trust the notebook. <br />On GitHub, the HTML representation is unable to render, please try loading this page with nbviewer.org.</b></div><div class=\"sk-container\" hidden><div class=\"sk-item sk-dashed-wrapped\"><div class=\"sk-label-container\"><div class=\"sk-label sk-toggleable\"><input class=\"sk-toggleable__control sk-hidden--visually\" id=\"sk-estimator-id-7\" type=\"checkbox\" ><label for=\"sk-estimator-id-7\" class=\"sk-toggleable__label sk-toggleable__label-arrow\">ColumnTransformer</label><div class=\"sk-toggleable__content\"><pre>ColumnTransformer(transformers=[(&#x27;pipeline-1&#x27;,\n",
       "                                 Pipeline(steps=[(&#x27;simpleimputer&#x27;,\n",
       "                                                  SimpleImputer(strategy=&#x27;median&#x27;)),\n",
       "                                                 (&#x27;standardscaler&#x27;,\n",
       "                                                  StandardScaler())]),\n",
       "                                 &lt;sklearn.compose._column_transformer.make_column_selector object at 0x7983da125930&gt;),\n",
       "                                (&#x27;pipeline-2&#x27;,\n",
       "                                 Pipeline(steps=[(&#x27;simpleimputer&#x27;,\n",
       "                                                  SimpleImputer(strategy=&#x27;most_frequent&#x27;)),\n",
       "                                                 (&#x27;onehotencoder&#x27;,\n",
       "                                                  OneHotEncoder(handle_unknown=&#x27;ignore&#x27;))]),\n",
       "                                 &lt;sklearn.compose._column_transformer.make_column_selector object at 0x7983da126650&gt;)])</pre></div></div></div><div class=\"sk-parallel\"><div class=\"sk-parallel-item\"><div class=\"sk-item\"><div class=\"sk-label-container\"><div class=\"sk-label sk-toggleable\"><input class=\"sk-toggleable__control sk-hidden--visually\" id=\"sk-estimator-id-8\" type=\"checkbox\" ><label for=\"sk-estimator-id-8\" class=\"sk-toggleable__label sk-toggleable__label-arrow\">pipeline-1</label><div class=\"sk-toggleable__content\"><pre>&lt;sklearn.compose._column_transformer.make_column_selector object at 0x7983da125930&gt;</pre></div></div></div><div class=\"sk-serial\"><div class=\"sk-item\"><div class=\"sk-serial\"><div class=\"sk-item\"><div class=\"sk-estimator sk-toggleable\"><input class=\"sk-toggleable__control sk-hidden--visually\" id=\"sk-estimator-id-9\" type=\"checkbox\" ><label for=\"sk-estimator-id-9\" class=\"sk-toggleable__label sk-toggleable__label-arrow\">SimpleImputer</label><div class=\"sk-toggleable__content\"><pre>SimpleImputer(strategy=&#x27;median&#x27;)</pre></div></div></div><div class=\"sk-item\"><div class=\"sk-estimator sk-toggleable\"><input class=\"sk-toggleable__control sk-hidden--visually\" id=\"sk-estimator-id-10\" type=\"checkbox\" ><label for=\"sk-estimator-id-10\" class=\"sk-toggleable__label sk-toggleable__label-arrow\">StandardScaler</label><div class=\"sk-toggleable__content\"><pre>StandardScaler()</pre></div></div></div></div></div></div></div></div><div class=\"sk-parallel-item\"><div class=\"sk-item\"><div class=\"sk-label-container\"><div class=\"sk-label sk-toggleable\"><input class=\"sk-toggleable__control sk-hidden--visually\" id=\"sk-estimator-id-11\" type=\"checkbox\" ><label for=\"sk-estimator-id-11\" class=\"sk-toggleable__label sk-toggleable__label-arrow\">pipeline-2</label><div class=\"sk-toggleable__content\"><pre>&lt;sklearn.compose._column_transformer.make_column_selector object at 0x7983da126650&gt;</pre></div></div></div><div class=\"sk-serial\"><div class=\"sk-item\"><div class=\"sk-serial\"><div class=\"sk-item\"><div class=\"sk-estimator sk-toggleable\"><input class=\"sk-toggleable__control sk-hidden--visually\" id=\"sk-estimator-id-12\" type=\"checkbox\" ><label for=\"sk-estimator-id-12\" class=\"sk-toggleable__label sk-toggleable__label-arrow\">SimpleImputer</label><div class=\"sk-toggleable__content\"><pre>SimpleImputer(strategy=&#x27;most_frequent&#x27;)</pre></div></div></div><div class=\"sk-item\"><div class=\"sk-estimator sk-toggleable\"><input class=\"sk-toggleable__control sk-hidden--visually\" id=\"sk-estimator-id-13\" type=\"checkbox\" ><label for=\"sk-estimator-id-13\" class=\"sk-toggleable__label sk-toggleable__label-arrow\">OneHotEncoder</label><div class=\"sk-toggleable__content\"><pre>OneHotEncoder(handle_unknown=&#x27;ignore&#x27;)</pre></div></div></div></div></div></div></div></div></div></div></div></div>"
      ],
      "text/plain": [
       "ColumnTransformer(transformers=[('pipeline-1',\n",
       "                                 Pipeline(steps=[('simpleimputer',\n",
       "                                                  SimpleImputer(strategy='median')),\n",
       "                                                 ('standardscaler',\n",
       "                                                  StandardScaler())]),\n",
       "                                 <sklearn.compose._column_transformer.make_column_selector object at 0x7983da125930>),\n",
       "                                ('pipeline-2',\n",
       "                                 Pipeline(steps=[('simpleimputer',\n",
       "                                                  SimpleImputer(strategy='most_frequent')),\n",
       "                                                 ('onehotencoder',\n",
       "                                                  OneHotEncoder(handle_unknown='ignore'))]),\n",
       "                                 <sklearn.compose._column_transformer.make_column_selector object at 0x7983da126650>)])"
      ]
     },
     "execution_count": 26,
     "metadata": {},
     "output_type": "execute_result"
    }
   ],
   "source": [
    "col_trans = make_column_transformer(\n",
    "    (num_pipeline, num_col_sel),\n",
    "    (cat_pipeline, cat_col_sel)\n",
    ")\n",
    "\n",
    "col_trans"
   ]
  },
  {
   "cell_type": "markdown",
   "id": "3a45cd74",
   "metadata": {
    "papermill": {
     "duration": 0.034994,
     "end_time": "2023-10-25T08:28:03.012337",
     "exception": false,
     "start_time": "2023-10-25T08:28:02.977343",
     "status": "completed"
    },
    "tags": []
   },
   "source": [
    "### Create a function pipeline to preprocessing"
   ]
  },
  {
   "cell_type": "code",
   "execution_count": 27,
   "id": "bd5cc758",
   "metadata": {
    "execution": {
     "iopub.execute_input": "2023-10-25T08:28:03.085453Z",
     "iopub.status.busy": "2023-10-25T08:28:03.084400Z",
     "iopub.status.idle": "2023-10-25T08:28:03.090007Z",
     "shell.execute_reply": "2023-10-25T08:28:03.089038Z"
    },
    "papermill": {
     "duration": 0.044771,
     "end_time": "2023-10-25T08:28:03.092494",
     "exception": false,
     "start_time": "2023-10-25T08:28:03.047723",
     "status": "completed"
    },
    "tags": []
   },
   "outputs": [],
   "source": [
    "rmv_cols = FunctionTransformer(drop_columns)\n",
    "feat_cols = FunctionTransformer(feature_eng)"
   ]
  },
  {
   "cell_type": "markdown",
   "id": "4795a5eb",
   "metadata": {
    "papermill": {
     "duration": 0.036571,
     "end_time": "2023-10-25T08:28:03.164290",
     "exception": false,
     "start_time": "2023-10-25T08:28:03.127719",
     "status": "completed"
    },
    "tags": []
   },
   "source": [
    "### Join all components to one preprocess pipeline"
   ]
  },
  {
   "cell_type": "code",
   "execution_count": 28,
   "id": "adde9311",
   "metadata": {
    "execution": {
     "iopub.execute_input": "2023-10-25T08:28:03.238631Z",
     "iopub.status.busy": "2023-10-25T08:28:03.237838Z",
     "iopub.status.idle": "2023-10-25T08:28:03.335951Z",
     "shell.execute_reply": "2023-10-25T08:28:03.334799Z"
    },
    "papermill": {
     "duration": 0.13843,
     "end_time": "2023-10-25T08:28:03.338710",
     "exception": false,
     "start_time": "2023-10-25T08:28:03.200280",
     "status": "completed"
    },
    "tags": []
   },
   "outputs": [
    {
     "data": {
      "text/html": [
       "<style>#sk-container-id-4 {color: black;background-color: white;}#sk-container-id-4 pre{padding: 0;}#sk-container-id-4 div.sk-toggleable {background-color: white;}#sk-container-id-4 label.sk-toggleable__label {cursor: pointer;display: block;width: 100%;margin-bottom: 0;padding: 0.3em;box-sizing: border-box;text-align: center;}#sk-container-id-4 label.sk-toggleable__label-arrow:before {content: \"▸\";float: left;margin-right: 0.25em;color: #696969;}#sk-container-id-4 label.sk-toggleable__label-arrow:hover:before {color: black;}#sk-container-id-4 div.sk-estimator:hover label.sk-toggleable__label-arrow:before {color: black;}#sk-container-id-4 div.sk-toggleable__content {max-height: 0;max-width: 0;overflow: hidden;text-align: left;background-color: #f0f8ff;}#sk-container-id-4 div.sk-toggleable__content pre {margin: 0.2em;color: black;border-radius: 0.25em;background-color: #f0f8ff;}#sk-container-id-4 input.sk-toggleable__control:checked~div.sk-toggleable__content {max-height: 200px;max-width: 100%;overflow: auto;}#sk-container-id-4 input.sk-toggleable__control:checked~label.sk-toggleable__label-arrow:before {content: \"▾\";}#sk-container-id-4 div.sk-estimator input.sk-toggleable__control:checked~label.sk-toggleable__label {background-color: #d4ebff;}#sk-container-id-4 div.sk-label input.sk-toggleable__control:checked~label.sk-toggleable__label {background-color: #d4ebff;}#sk-container-id-4 input.sk-hidden--visually {border: 0;clip: rect(1px 1px 1px 1px);clip: rect(1px, 1px, 1px, 1px);height: 1px;margin: -1px;overflow: hidden;padding: 0;position: absolute;width: 1px;}#sk-container-id-4 div.sk-estimator {font-family: monospace;background-color: #f0f8ff;border: 1px dotted black;border-radius: 0.25em;box-sizing: border-box;margin-bottom: 0.5em;}#sk-container-id-4 div.sk-estimator:hover {background-color: #d4ebff;}#sk-container-id-4 div.sk-parallel-item::after {content: \"\";width: 100%;border-bottom: 1px solid gray;flex-grow: 1;}#sk-container-id-4 div.sk-label:hover label.sk-toggleable__label {background-color: #d4ebff;}#sk-container-id-4 div.sk-serial::before {content: \"\";position: absolute;border-left: 1px solid gray;box-sizing: border-box;top: 0;bottom: 0;left: 50%;z-index: 0;}#sk-container-id-4 div.sk-serial {display: flex;flex-direction: column;align-items: center;background-color: white;padding-right: 0.2em;padding-left: 0.2em;position: relative;}#sk-container-id-4 div.sk-item {position: relative;z-index: 1;}#sk-container-id-4 div.sk-parallel {display: flex;align-items: stretch;justify-content: center;background-color: white;position: relative;}#sk-container-id-4 div.sk-item::before, #sk-container-id-4 div.sk-parallel-item::before {content: \"\";position: absolute;border-left: 1px solid gray;box-sizing: border-box;top: 0;bottom: 0;left: 50%;z-index: -1;}#sk-container-id-4 div.sk-parallel-item {display: flex;flex-direction: column;z-index: 1;position: relative;background-color: white;}#sk-container-id-4 div.sk-parallel-item:first-child::after {align-self: flex-end;width: 50%;}#sk-container-id-4 div.sk-parallel-item:last-child::after {align-self: flex-start;width: 50%;}#sk-container-id-4 div.sk-parallel-item:only-child::after {width: 0;}#sk-container-id-4 div.sk-dashed-wrapped {border: 1px dashed gray;margin: 0 0.4em 0.5em 0.4em;box-sizing: border-box;padding-bottom: 0.4em;background-color: white;}#sk-container-id-4 div.sk-label label {font-family: monospace;font-weight: bold;display: inline-block;line-height: 1.2em;}#sk-container-id-4 div.sk-label-container {text-align: center;}#sk-container-id-4 div.sk-container {/* jupyter's `normalize.less` sets `[hidden] { display: none; }` but bootstrap.min.css set `[hidden] { display: none !important; }` so we also need the `!important` here to be able to override the default hidden behavior on the sphinx rendered scikit-learn.org. See: https://github.com/scikit-learn/scikit-learn/issues/21755 */display: inline-block !important;position: relative;}#sk-container-id-4 div.sk-text-repr-fallback {display: none;}</style><div id=\"sk-container-id-4\" class=\"sk-top-container\"><div class=\"sk-text-repr-fallback\"><pre>Pipeline(steps=[(&#x27;functiontransformer-1&#x27;,\n",
       "                 FunctionTransformer(func=&lt;function drop_columns at 0x7983d9d2c1f0&gt;)),\n",
       "                (&#x27;functiontransformer-2&#x27;,\n",
       "                 FunctionTransformer(func=&lt;function feature_eng at 0x7983da4177f0&gt;)),\n",
       "                (&#x27;columntransformer&#x27;,\n",
       "                 ColumnTransformer(transformers=[(&#x27;pipeline-1&#x27;,\n",
       "                                                  Pipeline(steps=[(&#x27;simpleimputer&#x27;,\n",
       "                                                                   SimpleImputer(strategy=&#x27;median&#x27;)),\n",
       "                                                                  (&#x27;standardscaler&#x27;,\n",
       "                                                                   StandardScaler())]),\n",
       "                                                  &lt;sklearn.compose._column_transformer.make_column_selector object at 0x7983da125930&gt;),\n",
       "                                                 (&#x27;pipeline-2&#x27;,\n",
       "                                                  Pipeline(steps=[(&#x27;simpleimputer&#x27;,\n",
       "                                                                   SimpleImputer(strategy=&#x27;most_frequent&#x27;)),\n",
       "                                                                  (&#x27;onehotencoder&#x27;,\n",
       "                                                                   OneHotEncoder(handle_unknown=&#x27;ignore&#x27;))]),\n",
       "                                                  &lt;sklearn.compose._column_transformer.make_column_selector object at 0x7983da126650&gt;)]))])</pre><b>In a Jupyter environment, please rerun this cell to show the HTML representation or trust the notebook. <br />On GitHub, the HTML representation is unable to render, please try loading this page with nbviewer.org.</b></div><div class=\"sk-container\" hidden><div class=\"sk-item sk-dashed-wrapped\"><div class=\"sk-label-container\"><div class=\"sk-label sk-toggleable\"><input class=\"sk-toggleable__control sk-hidden--visually\" id=\"sk-estimator-id-14\" type=\"checkbox\" ><label for=\"sk-estimator-id-14\" class=\"sk-toggleable__label sk-toggleable__label-arrow\">Pipeline</label><div class=\"sk-toggleable__content\"><pre>Pipeline(steps=[(&#x27;functiontransformer-1&#x27;,\n",
       "                 FunctionTransformer(func=&lt;function drop_columns at 0x7983d9d2c1f0&gt;)),\n",
       "                (&#x27;functiontransformer-2&#x27;,\n",
       "                 FunctionTransformer(func=&lt;function feature_eng at 0x7983da4177f0&gt;)),\n",
       "                (&#x27;columntransformer&#x27;,\n",
       "                 ColumnTransformer(transformers=[(&#x27;pipeline-1&#x27;,\n",
       "                                                  Pipeline(steps=[(&#x27;simpleimputer&#x27;,\n",
       "                                                                   SimpleImputer(strategy=&#x27;median&#x27;)),\n",
       "                                                                  (&#x27;standardscaler&#x27;,\n",
       "                                                                   StandardScaler())]),\n",
       "                                                  &lt;sklearn.compose._column_transformer.make_column_selector object at 0x7983da125930&gt;),\n",
       "                                                 (&#x27;pipeline-2&#x27;,\n",
       "                                                  Pipeline(steps=[(&#x27;simpleimputer&#x27;,\n",
       "                                                                   SimpleImputer(strategy=&#x27;most_frequent&#x27;)),\n",
       "                                                                  (&#x27;onehotencoder&#x27;,\n",
       "                                                                   OneHotEncoder(handle_unknown=&#x27;ignore&#x27;))]),\n",
       "                                                  &lt;sklearn.compose._column_transformer.make_column_selector object at 0x7983da126650&gt;)]))])</pre></div></div></div><div class=\"sk-serial\"><div class=\"sk-item\"><div class=\"sk-estimator sk-toggleable\"><input class=\"sk-toggleable__control sk-hidden--visually\" id=\"sk-estimator-id-15\" type=\"checkbox\" ><label for=\"sk-estimator-id-15\" class=\"sk-toggleable__label sk-toggleable__label-arrow\">FunctionTransformer</label><div class=\"sk-toggleable__content\"><pre>FunctionTransformer(func=&lt;function drop_columns at 0x7983d9d2c1f0&gt;)</pre></div></div></div><div class=\"sk-item\"><div class=\"sk-estimator sk-toggleable\"><input class=\"sk-toggleable__control sk-hidden--visually\" id=\"sk-estimator-id-16\" type=\"checkbox\" ><label for=\"sk-estimator-id-16\" class=\"sk-toggleable__label sk-toggleable__label-arrow\">FunctionTransformer</label><div class=\"sk-toggleable__content\"><pre>FunctionTransformer(func=&lt;function feature_eng at 0x7983da4177f0&gt;)</pre></div></div></div><div class=\"sk-item sk-dashed-wrapped\"><div class=\"sk-label-container\"><div class=\"sk-label sk-toggleable\"><input class=\"sk-toggleable__control sk-hidden--visually\" id=\"sk-estimator-id-17\" type=\"checkbox\" ><label for=\"sk-estimator-id-17\" class=\"sk-toggleable__label sk-toggleable__label-arrow\">columntransformer: ColumnTransformer</label><div class=\"sk-toggleable__content\"><pre>ColumnTransformer(transformers=[(&#x27;pipeline-1&#x27;,\n",
       "                                 Pipeline(steps=[(&#x27;simpleimputer&#x27;,\n",
       "                                                  SimpleImputer(strategy=&#x27;median&#x27;)),\n",
       "                                                 (&#x27;standardscaler&#x27;,\n",
       "                                                  StandardScaler())]),\n",
       "                                 &lt;sklearn.compose._column_transformer.make_column_selector object at 0x7983da125930&gt;),\n",
       "                                (&#x27;pipeline-2&#x27;,\n",
       "                                 Pipeline(steps=[(&#x27;simpleimputer&#x27;,\n",
       "                                                  SimpleImputer(strategy=&#x27;most_frequent&#x27;)),\n",
       "                                                 (&#x27;onehotencoder&#x27;,\n",
       "                                                  OneHotEncoder(handle_unknown=&#x27;ignore&#x27;))]),\n",
       "                                 &lt;sklearn.compose._column_transformer.make_column_selector object at 0x7983da126650&gt;)])</pre></div></div></div><div class=\"sk-parallel\"><div class=\"sk-parallel-item\"><div class=\"sk-item\"><div class=\"sk-label-container\"><div class=\"sk-label sk-toggleable\"><input class=\"sk-toggleable__control sk-hidden--visually\" id=\"sk-estimator-id-18\" type=\"checkbox\" ><label for=\"sk-estimator-id-18\" class=\"sk-toggleable__label sk-toggleable__label-arrow\">pipeline-1</label><div class=\"sk-toggleable__content\"><pre>&lt;sklearn.compose._column_transformer.make_column_selector object at 0x7983da125930&gt;</pre></div></div></div><div class=\"sk-serial\"><div class=\"sk-item\"><div class=\"sk-serial\"><div class=\"sk-item\"><div class=\"sk-estimator sk-toggleable\"><input class=\"sk-toggleable__control sk-hidden--visually\" id=\"sk-estimator-id-19\" type=\"checkbox\" ><label for=\"sk-estimator-id-19\" class=\"sk-toggleable__label sk-toggleable__label-arrow\">SimpleImputer</label><div class=\"sk-toggleable__content\"><pre>SimpleImputer(strategy=&#x27;median&#x27;)</pre></div></div></div><div class=\"sk-item\"><div class=\"sk-estimator sk-toggleable\"><input class=\"sk-toggleable__control sk-hidden--visually\" id=\"sk-estimator-id-20\" type=\"checkbox\" ><label for=\"sk-estimator-id-20\" class=\"sk-toggleable__label sk-toggleable__label-arrow\">StandardScaler</label><div class=\"sk-toggleable__content\"><pre>StandardScaler()</pre></div></div></div></div></div></div></div></div><div class=\"sk-parallel-item\"><div class=\"sk-item\"><div class=\"sk-label-container\"><div class=\"sk-label sk-toggleable\"><input class=\"sk-toggleable__control sk-hidden--visually\" id=\"sk-estimator-id-21\" type=\"checkbox\" ><label for=\"sk-estimator-id-21\" class=\"sk-toggleable__label sk-toggleable__label-arrow\">pipeline-2</label><div class=\"sk-toggleable__content\"><pre>&lt;sklearn.compose._column_transformer.make_column_selector object at 0x7983da126650&gt;</pre></div></div></div><div class=\"sk-serial\"><div class=\"sk-item\"><div class=\"sk-serial\"><div class=\"sk-item\"><div class=\"sk-estimator sk-toggleable\"><input class=\"sk-toggleable__control sk-hidden--visually\" id=\"sk-estimator-id-22\" type=\"checkbox\" ><label for=\"sk-estimator-id-22\" class=\"sk-toggleable__label sk-toggleable__label-arrow\">SimpleImputer</label><div class=\"sk-toggleable__content\"><pre>SimpleImputer(strategy=&#x27;most_frequent&#x27;)</pre></div></div></div><div class=\"sk-item\"><div class=\"sk-estimator sk-toggleable\"><input class=\"sk-toggleable__control sk-hidden--visually\" id=\"sk-estimator-id-23\" type=\"checkbox\" ><label for=\"sk-estimator-id-23\" class=\"sk-toggleable__label sk-toggleable__label-arrow\">OneHotEncoder</label><div class=\"sk-toggleable__content\"><pre>OneHotEncoder(handle_unknown=&#x27;ignore&#x27;)</pre></div></div></div></div></div></div></div></div></div></div></div></div></div></div>"
      ],
      "text/plain": [
       "Pipeline(steps=[('functiontransformer-1',\n",
       "                 FunctionTransformer(func=<function drop_columns at 0x7983d9d2c1f0>)),\n",
       "                ('functiontransformer-2',\n",
       "                 FunctionTransformer(func=<function feature_eng at 0x7983da4177f0>)),\n",
       "                ('columntransformer',\n",
       "                 ColumnTransformer(transformers=[('pipeline-1',\n",
       "                                                  Pipeline(steps=[('simpleimputer',\n",
       "                                                                   SimpleImputer(strategy='median')),\n",
       "                                                                  ('standardscaler',\n",
       "                                                                   StandardScaler())]),\n",
       "                                                  <sklearn.compose._column_transformer.make_column_selector object at 0x7983da125930>),\n",
       "                                                 ('pipeline-2',\n",
       "                                                  Pipeline(steps=[('simpleimputer',\n",
       "                                                                   SimpleImputer(strategy='most_frequent')),\n",
       "                                                                  ('onehotencoder',\n",
       "                                                                   OneHotEncoder(handle_unknown='ignore'))]),\n",
       "                                                  <sklearn.compose._column_transformer.make_column_selector object at 0x7983da126650>)]))])"
      ]
     },
     "execution_count": 28,
     "metadata": {},
     "output_type": "execute_result"
    }
   ],
   "source": [
    "preprocess = make_pipeline(rmv_cols, feat_cols, col_trans)\n",
    "preprocess"
   ]
  },
  {
   "cell_type": "markdown",
   "id": "f9be24b4",
   "metadata": {
    "papermill": {
     "duration": 0.036387,
     "end_time": "2023-10-25T08:28:03.410669",
     "exception": false,
     "start_time": "2023-10-25T08:28:03.374282",
     "status": "completed"
    },
    "tags": []
   },
   "source": [
    "## Divide data into train and validation sets"
   ]
  },
  {
   "cell_type": "code",
   "execution_count": 29,
   "id": "b09c26a1",
   "metadata": {
    "execution": {
     "iopub.execute_input": "2023-10-25T08:28:03.484500Z",
     "iopub.status.busy": "2023-10-25T08:28:03.483856Z",
     "iopub.status.idle": "2023-10-25T08:28:03.493841Z",
     "shell.execute_reply": "2023-10-25T08:28:03.492918Z"
    },
    "papermill": {
     "duration": 0.04987,
     "end_time": "2023-10-25T08:28:03.496341",
     "exception": false,
     "start_time": "2023-10-25T08:28:03.446471",
     "status": "completed"
    },
    "tags": []
   },
   "outputs": [],
   "source": [
    "X_train, X_valid, y_train, y_valid = train_test_split(X_space, y_space, test_size=0.15,\n",
    "                                                      random_state=42)"
   ]
  },
  {
   "cell_type": "code",
   "execution_count": 30,
   "id": "a174046a",
   "metadata": {
    "execution": {
     "iopub.execute_input": "2023-10-25T08:28:03.570994Z",
     "iopub.status.busy": "2023-10-25T08:28:03.570296Z",
     "iopub.status.idle": "2023-10-25T08:28:03.576654Z",
     "shell.execute_reply": "2023-10-25T08:28:03.575204Z"
    },
    "papermill": {
     "duration": 0.046694,
     "end_time": "2023-10-25T08:28:03.579304",
     "exception": false,
     "start_time": "2023-10-25T08:28:03.532610",
     "status": "completed"
    },
    "tags": []
   },
   "outputs": [
    {
     "name": "stdout",
     "output_type": "stream",
     "text": [
      "Train set shape: \n",
      "(7389, 15)\n"
     ]
    }
   ],
   "source": [
    "print(f\"Train set shape: {nl}{X_train.shape}\")"
   ]
  },
  {
   "cell_type": "code",
   "execution_count": 31,
   "id": "7311bc73",
   "metadata": {
    "execution": {
     "iopub.execute_input": "2023-10-25T08:28:03.656762Z",
     "iopub.status.busy": "2023-10-25T08:28:03.656084Z",
     "iopub.status.idle": "2023-10-25T08:28:03.662263Z",
     "shell.execute_reply": "2023-10-25T08:28:03.660918Z"
    },
    "papermill": {
     "duration": 0.047819,
     "end_time": "2023-10-25T08:28:03.664500",
     "exception": false,
     "start_time": "2023-10-25T08:28:03.616681",
     "status": "completed"
    },
    "tags": []
   },
   "outputs": [
    {
     "name": "stdout",
     "output_type": "stream",
     "text": [
      "Validation set shape: \n",
      "(1304, 15)\n"
     ]
    }
   ],
   "source": [
    "print(f\"Validation set shape: {nl}{X_valid.shape}\")"
   ]
  },
  {
   "cell_type": "markdown",
   "id": "99a57894",
   "metadata": {
    "execution": {
     "iopub.execute_input": "2023-10-21T00:14:36.599581Z",
     "iopub.status.busy": "2023-10-21T00:14:36.599063Z",
     "iopub.status.idle": "2023-10-21T00:14:36.604975Z",
     "shell.execute_reply": "2023-10-21T00:14:36.603627Z",
     "shell.execute_reply.started": "2023-10-21T00:14:36.599544Z"
    },
    "papermill": {
     "duration": 0.036278,
     "end_time": "2023-10-25T08:28:03.736644",
     "exception": false,
     "start_time": "2023-10-25T08:28:03.700366",
     "status": "completed"
    },
    "tags": []
   },
   "source": [
    "## Voting classifier"
   ]
  },
  {
   "cell_type": "markdown",
   "id": "fd8bf1a0",
   "metadata": {
    "papermill": {
     "duration": 0.035838,
     "end_time": "2023-10-25T08:28:03.808979",
     "exception": false,
     "start_time": "2023-10-25T08:28:03.773141",
     "status": "completed"
    },
    "tags": []
   },
   "source": [
    "### Model training"
   ]
  },
  {
   "cell_type": "code",
   "execution_count": 32,
   "id": "0464998e",
   "metadata": {
    "execution": {
     "iopub.execute_input": "2023-10-25T08:28:03.886051Z",
     "iopub.status.busy": "2023-10-25T08:28:03.885616Z",
     "iopub.status.idle": "2023-10-25T08:28:03.891385Z",
     "shell.execute_reply": "2023-10-25T08:28:03.890568Z"
    },
    "papermill": {
     "duration": 0.045845,
     "end_time": "2023-10-25T08:28:03.893571",
     "exception": false,
     "start_time": "2023-10-25T08:28:03.847726",
     "status": "completed"
    },
    "tags": []
   },
   "outputs": [],
   "source": [
    "clf1 = DecisionTreeClassifier()\n",
    "clf2 = LogisticRegression()\n",
    "clf3 = SVC()\n",
    "eclf = VotingClassifier(estimators=[(\"dtc\", clf1), (\"lr\", clf2), (\"svm\", clf3)])\n",
    "model = make_pipeline(preprocess, eclf)"
   ]
  },
  {
   "cell_type": "code",
   "execution_count": 33,
   "id": "d2e69ebc",
   "metadata": {
    "execution": {
     "iopub.execute_input": "2023-10-25T08:28:03.972378Z",
     "iopub.status.busy": "2023-10-25T08:28:03.971849Z",
     "iopub.status.idle": "2023-10-25T08:28:14.167524Z",
     "shell.execute_reply": "2023-10-25T08:28:14.166434Z"
    },
    "papermill": {
     "duration": 10.238703,
     "end_time": "2023-10-25T08:28:14.170395",
     "exception": false,
     "start_time": "2023-10-25T08:28:03.931692",
     "status": "completed"
    },
    "tags": []
   },
   "outputs": [],
   "source": [
    "score = cross_val_score(model, X_train, y_train, scoring=\"accuracy\",cv=5)"
   ]
  },
  {
   "cell_type": "code",
   "execution_count": 34,
   "id": "6ea4c51d",
   "metadata": {
    "execution": {
     "iopub.execute_input": "2023-10-25T08:28:14.246812Z",
     "iopub.status.busy": "2023-10-25T08:28:14.245638Z",
     "iopub.status.idle": "2023-10-25T08:28:14.254015Z",
     "shell.execute_reply": "2023-10-25T08:28:14.252803Z"
    },
    "papermill": {
     "duration": 0.048904,
     "end_time": "2023-10-25T08:28:14.256515",
     "exception": false,
     "start_time": "2023-10-25T08:28:14.207611",
     "status": "completed"
    },
    "tags": []
   },
   "outputs": [
    {
     "data": {
      "text/plain": [
       "array([0.77740189, 0.79769959, 0.80311231, 0.79905277, 0.81245768])"
      ]
     },
     "execution_count": 34,
     "metadata": {},
     "output_type": "execute_result"
    }
   ],
   "source": [
    "score"
   ]
  },
  {
   "cell_type": "code",
   "execution_count": 35,
   "id": "9b94c24c",
   "metadata": {
    "execution": {
     "iopub.execute_input": "2023-10-25T08:28:14.334119Z",
     "iopub.status.busy": "2023-10-25T08:28:14.333120Z",
     "iopub.status.idle": "2023-10-25T08:28:16.773274Z",
     "shell.execute_reply": "2023-10-25T08:28:16.772152Z"
    },
    "papermill": {
     "duration": 2.482354,
     "end_time": "2023-10-25T08:28:16.775992",
     "exception": false,
     "start_time": "2023-10-25T08:28:14.293638",
     "status": "completed"
    },
    "tags": []
   },
   "outputs": [],
   "source": [
    "_ = model.fit(X_train, y_train)"
   ]
  },
  {
   "cell_type": "markdown",
   "id": "8592f627",
   "metadata": {
    "papermill": {
     "duration": 0.035809,
     "end_time": "2023-10-25T08:28:16.848218",
     "exception": false,
     "start_time": "2023-10-25T08:28:16.812409",
     "status": "completed"
    },
    "tags": []
   },
   "source": [
    "### Model testing"
   ]
  },
  {
   "cell_type": "code",
   "execution_count": 36,
   "id": "5c0605f9",
   "metadata": {
    "execution": {
     "iopub.execute_input": "2023-10-25T08:28:16.923392Z",
     "iopub.status.busy": "2023-10-25T08:28:16.922394Z",
     "iopub.status.idle": "2023-10-25T08:28:17.383952Z",
     "shell.execute_reply": "2023-10-25T08:28:17.382432Z"
    },
    "papermill": {
     "duration": 0.502135,
     "end_time": "2023-10-25T08:28:17.386827",
     "exception": false,
     "start_time": "2023-10-25T08:28:16.884692",
     "status": "completed"
    },
    "tags": []
   },
   "outputs": [
    {
     "name": "stdout",
     "output_type": "stream",
     "text": [
      "F1-score: 0.79\n"
     ]
    }
   ],
   "source": [
    "predictions = model.predict(X_valid)\n",
    "print(f\"F1-score: {np.around(f1_score(y_valid, predictions),2)}\")"
   ]
  },
  {
   "cell_type": "code",
   "execution_count": 37,
   "id": "0f56c52b",
   "metadata": {
    "execution": {
     "iopub.execute_input": "2023-10-25T08:28:17.463385Z",
     "iopub.status.busy": "2023-10-25T08:28:17.462319Z",
     "iopub.status.idle": "2023-10-25T08:28:17.470531Z",
     "shell.execute_reply": "2023-10-25T08:28:17.469307Z"
    },
    "papermill": {
     "duration": 0.049022,
     "end_time": "2023-10-25T08:28:17.472718",
     "exception": false,
     "start_time": "2023-10-25T08:28:17.423696",
     "status": "completed"
    },
    "tags": []
   },
   "outputs": [
    {
     "name": "stdout",
     "output_type": "stream",
     "text": [
      "Accuracy: 0.79\n"
     ]
    }
   ],
   "source": [
    "print(f\"Accuracy: {np.around(accuracy_score(y_valid, predictions), 2)}\")"
   ]
  },
  {
   "cell_type": "code",
   "execution_count": 38,
   "id": "55f4bcd4",
   "metadata": {
    "execution": {
     "iopub.execute_input": "2023-10-25T08:28:17.548544Z",
     "iopub.status.busy": "2023-10-25T08:28:17.547643Z",
     "iopub.status.idle": "2023-10-25T08:28:17.855606Z",
     "shell.execute_reply": "2023-10-25T08:28:17.854471Z"
    },
    "papermill": {
     "duration": 0.348794,
     "end_time": "2023-10-25T08:28:17.858355",
     "exception": false,
     "start_time": "2023-10-25T08:28:17.509561",
     "status": "completed"
    },
    "tags": []
   },
   "outputs": [
    {
     "data": {
      "image/png": "[encoded data removed]",
      "text/plain": [
       "<Figure size 640x480 with 2 Axes>"
      ]
     },
     "metadata": {},
     "output_type": "display_data"
    }
   ],
   "source": [
    "conf_mat = confusion_matrix(y_valid, predictions)\n",
    "plt.title(\"Confusion matrix\")\n",
    "sns.heatmap(conf_mat, annot=True, cmap=sns.cubehelix_palette(as_cmap=True), fmt='d')\n",
    "plt.show()"
   ]
  },
  {
   "cell_type": "markdown",
   "id": "88b05b54",
   "metadata": {
    "papermill": {
     "duration": 0.036367,
     "end_time": "2023-10-25T08:28:17.931911",
     "exception": false,
     "start_time": "2023-10-25T08:28:17.895544",
     "status": "completed"
    },
    "tags": []
   },
   "source": [
    "### Hyperparameter tuning"
   ]
  },
  {
   "cell_type": "code",
   "execution_count": 39,
   "id": "6146ffcc",
   "metadata": {
    "execution": {
     "iopub.execute_input": "2023-10-25T08:28:18.008250Z",
     "iopub.status.busy": "2023-10-25T08:28:18.007268Z",
     "iopub.status.idle": "2023-10-25T08:28:18.014371Z",
     "shell.execute_reply": "2023-10-25T08:28:18.013195Z"
    },
    "papermill": {
     "duration": 0.047905,
     "end_time": "2023-10-25T08:28:18.016851",
     "exception": false,
     "start_time": "2023-10-25T08:28:17.968946",
     "status": "completed"
    },
    "tags": []
   },
   "outputs": [],
   "source": [
    "params = {\"dtc__max_depth\": [2, 5, 10],\n",
    "    \"dtc__min_samples_leaf\": [5, 10, 20],\n",
    "    \"lr__penalty\" : [\"l2\", \"l1\", \"elasticnet\"],\n",
    "    \"lr__solver\" : [\"lbfgs\", \"newton-cholesky\"],\n",
    "    \"svm__kernel\" : [\"poly\", \"rbf\"],\n",
    "    \"svm__C\" : [0.5, 1.0]}\n",
    "clf1 = SVC()\n",
    "clf2 = DecisionTreeClassifier()\n",
    "clf3 = LogisticRegression()\n",
    "eclf1 = VotingClassifier(estimators=[(\"svm\", clf1), (\"dtc\", clf2), (\"lr\", clf3)])"
   ]
  },
  {
   "cell_type": "code",
   "execution_count": 40,
   "id": "86d5fa30",
   "metadata": {
    "execution": {
     "iopub.execute_input": "2023-10-25T08:28:18.092712Z",
     "iopub.status.busy": "2023-10-25T08:28:18.092245Z",
     "iopub.status.idle": "2023-10-25T08:28:18.171892Z",
     "shell.execute_reply": "2023-10-25T08:28:18.170552Z"
    },
    "papermill": {
     "duration": 0.120835,
     "end_time": "2023-10-25T08:28:18.174706",
     "exception": false,
     "start_time": "2023-10-25T08:28:18.053871",
     "status": "completed"
    },
    "tags": []
   },
   "outputs": [],
   "source": [
    "X_train_preprocess = preprocess.fit_transform(X_train)\n",
    "gridcv = GridSearchCV(eclf1,param_grid=params, cv=3)"
   ]
  },
  {
   "cell_type": "code",
   "execution_count": 41,
   "id": "c8f072b2",
   "metadata": {
    "execution": {
     "iopub.execute_input": "2023-10-25T08:28:18.251577Z",
     "iopub.status.busy": "2023-10-25T08:28:18.251116Z",
     "iopub.status.idle": "2023-10-25T08:40:24.539154Z",
     "shell.execute_reply": "2023-10-25T08:40:24.537564Z"
    },
    "papermill": {
     "duration": 726.396359,
     "end_time": "2023-10-25T08:40:24.608769",
     "exception": false,
     "start_time": "2023-10-25T08:28:18.212410",
     "status": "completed"
    },
    "tags": []
   },
   "outputs": [
    {
     "data": {
      "text/html": [
       "<style>#sk-container-id-5 {color: black;background-color: white;}#sk-container-id-5 pre{padding: 0;}#sk-container-id-5 div.sk-toggleable {background-color: white;}#sk-container-id-5 label.sk-toggleable__label {cursor: pointer;display: block;width: 100%;margin-bottom: 0;padding: 0.3em;box-sizing: border-box;text-align: center;}#sk-container-id-5 label.sk-toggleable__label-arrow:before {content: \"▸\";float: left;margin-right: 0.25em;color: #696969;}#sk-container-id-5 label.sk-toggleable__label-arrow:hover:before {color: black;}#sk-container-id-5 div.sk-estimator:hover label.sk-toggleable__label-arrow:before {color: black;}#sk-container-id-5 div.sk-toggleable__content {max-height: 0;max-width: 0;overflow: hidden;text-align: left;background-color: #f0f8ff;}#sk-container-id-5 div.sk-toggleable__content pre {margin: 0.2em;color: black;border-radius: 0.25em;background-color: #f0f8ff;}#sk-container-id-5 input.sk-toggleable__control:checked~div.sk-toggleable__content {max-height: 200px;max-width: 100%;overflow: auto;}#sk-container-id-5 input.sk-toggleable__control:checked~label.sk-toggleable__label-arrow:before {content: \"▾\";}#sk-container-id-5 div.sk-estimator input.sk-toggleable__control:checked~label.sk-toggleable__label {background-color: #d4ebff;}#sk-container-id-5 div.sk-label input.sk-toggleable__control:checked~label.sk-toggleable__label {background-color: #d4ebff;}#sk-container-id-5 input.sk-hidden--visually {border: 0;clip: rect(1px 1px 1px 1px);clip: rect(1px, 1px, 1px, 1px);height: 1px;margin: -1px;overflow: hidden;padding: 0;position: absolute;width: 1px;}#sk-container-id-5 div.sk-estimator {font-family: monospace;background-color: #f0f8ff;border: 1px dotted black;border-radius: 0.25em;box-sizing: border-box;margin-bottom: 0.5em;}#sk-container-id-5 div.sk-estimator:hover {background-color: #d4ebff;}#sk-container-id-5 div.sk-parallel-item::after {content: \"\";width: 100%;border-bottom: 1px solid gray;flex-grow: 1;}#sk-container-id-5 div.sk-label:hover label.sk-toggleable__label {background-color: #d4ebff;}#sk-container-id-5 div.sk-serial::before {content: \"\";position: absolute;border-left: 1px solid gray;box-sizing: border-box;top: 0;bottom: 0;left: 50%;z-index: 0;}#sk-container-id-5 div.sk-serial {display: flex;flex-direction: column;align-items: center;background-color: white;padding-right: 0.2em;padding-left: 0.2em;position: relative;}#sk-container-id-5 div.sk-item {position: relative;z-index: 1;}#sk-container-id-5 div.sk-parallel {display: flex;align-items: stretch;justify-content: center;background-color: white;position: relative;}#sk-container-id-5 div.sk-item::before, #sk-container-id-5 div.sk-parallel-item::before {content: \"\";position: absolute;border-left: 1px solid gray;box-sizing: border-box;top: 0;bottom: 0;left: 50%;z-index: -1;}#sk-container-id-5 div.sk-parallel-item {display: flex;flex-direction: column;z-index: 1;position: relative;background-color: white;}#sk-container-id-5 div.sk-parallel-item:first-child::after {align-self: flex-end;width: 50%;}#sk-container-id-5 div.sk-parallel-item:last-child::after {align-self: flex-start;width: 50%;}#sk-container-id-5 div.sk-parallel-item:only-child::after {width: 0;}#sk-container-id-5 div.sk-dashed-wrapped {border: 1px dashed gray;margin: 0 0.4em 0.5em 0.4em;box-sizing: border-box;padding-bottom: 0.4em;background-color: white;}#sk-container-id-5 div.sk-label label {font-family: monospace;font-weight: bold;display: inline-block;line-height: 1.2em;}#sk-container-id-5 div.sk-label-container {text-align: center;}#sk-container-id-5 div.sk-container {/* jupyter's `normalize.less` sets `[hidden] { display: none; }` but bootstrap.min.css set `[hidden] { display: none !important; }` so we also need the `!important` here to be able to override the default hidden behavior on the sphinx rendered scikit-learn.org. See: https://github.com/scikit-learn/scikit-learn/issues/21755 */display: inline-block !important;position: relative;}#sk-container-id-5 div.sk-text-repr-fallback {display: none;}</style><div id=\"sk-container-id-5\" class=\"sk-top-container\"><div class=\"sk-text-repr-fallback\"><pre>GridSearchCV(cv=3,\n",
       "             estimator=VotingClassifier(estimators=[(&#x27;svm&#x27;, SVC()),\n",
       "                                                    (&#x27;dtc&#x27;,\n",
       "                                                     DecisionTreeClassifier()),\n",
       "                                                    (&#x27;lr&#x27;,\n",
       "                                                     LogisticRegression())]),\n",
       "             param_grid={&#x27;dtc__max_depth&#x27;: [2, 5, 10],\n",
       "                         &#x27;dtc__min_samples_leaf&#x27;: [5, 10, 20],\n",
       "                         &#x27;lr__penalty&#x27;: [&#x27;l2&#x27;, &#x27;l1&#x27;, &#x27;elasticnet&#x27;],\n",
       "                         &#x27;lr__solver&#x27;: [&#x27;lbfgs&#x27;, &#x27;newton-cholesky&#x27;],\n",
       "                         &#x27;svm__C&#x27;: [0.5, 1.0], &#x27;svm__kernel&#x27;: [&#x27;poly&#x27;, &#x27;rbf&#x27;]})</pre><b>In a Jupyter environment, please rerun this cell to show the HTML representation or trust the notebook. <br />On GitHub, the HTML representation is unable to render, please try loading this page with nbviewer.org.</b></div><div class=\"sk-container\" hidden><div class=\"sk-item sk-dashed-wrapped\"><div class=\"sk-label-container\"><div class=\"sk-label sk-toggleable\"><input class=\"sk-toggleable__control sk-hidden--visually\" id=\"sk-estimator-id-24\" type=\"checkbox\" ><label for=\"sk-estimator-id-24\" class=\"sk-toggleable__label sk-toggleable__label-arrow\">GridSearchCV</label><div class=\"sk-toggleable__content\"><pre>GridSearchCV(cv=3,\n",
       "             estimator=VotingClassifier(estimators=[(&#x27;svm&#x27;, SVC()),\n",
       "                                                    (&#x27;dtc&#x27;,\n",
       "                                                     DecisionTreeClassifier()),\n",
       "                                                    (&#x27;lr&#x27;,\n",
       "                                                     LogisticRegression())]),\n",
       "             param_grid={&#x27;dtc__max_depth&#x27;: [2, 5, 10],\n",
       "                         &#x27;dtc__min_samples_leaf&#x27;: [5, 10, 20],\n",
       "                         &#x27;lr__penalty&#x27;: [&#x27;l2&#x27;, &#x27;l1&#x27;, &#x27;elasticnet&#x27;],\n",
       "                         &#x27;lr__solver&#x27;: [&#x27;lbfgs&#x27;, &#x27;newton-cholesky&#x27;],\n",
       "                         &#x27;svm__C&#x27;: [0.5, 1.0], &#x27;svm__kernel&#x27;: [&#x27;poly&#x27;, &#x27;rbf&#x27;]})</pre></div></div></div><div class=\"sk-parallel\"><div class=\"sk-parallel-item\"><div class=\"sk-item\"><div class=\"sk-label-container\"><div class=\"sk-label sk-toggleable\"><input class=\"sk-toggleable__control sk-hidden--visually\" id=\"sk-estimator-id-25\" type=\"checkbox\" ><label for=\"sk-estimator-id-25\" class=\"sk-toggleable__label sk-toggleable__label-arrow\">estimator: VotingClassifier</label><div class=\"sk-toggleable__content\"><pre>VotingClassifier(estimators=[(&#x27;svm&#x27;, SVC()), (&#x27;dtc&#x27;, DecisionTreeClassifier()),\n",
       "                             (&#x27;lr&#x27;, LogisticRegression())])</pre></div></div></div><div class=\"sk-serial\"><div class=\"sk-item sk-dashed-wrapped\"><div class=\"sk-parallel\"><div class=\"sk-parallel-item\"><div class=\"sk-item\"><div class=\"sk-label-container\"><div class=\"sk-label sk-toggleable\"><label>svm</label></div></div><div class=\"sk-serial\"><div class=\"sk-item\"><div class=\"sk-estimator sk-toggleable\"><input class=\"sk-toggleable__control sk-hidden--visually\" id=\"sk-estimator-id-26\" type=\"checkbox\" ><label for=\"sk-estimator-id-26\" class=\"sk-toggleable__label sk-toggleable__label-arrow\">SVC</label><div class=\"sk-toggleable__content\"><pre>SVC()</pre></div></div></div></div></div></div><div class=\"sk-parallel-item\"><div class=\"sk-item\"><div class=\"sk-label-container\"><div class=\"sk-label sk-toggleable\"><label>dtc</label></div></div><div class=\"sk-serial\"><div class=\"sk-item\"><div class=\"sk-estimator sk-toggleable\"><input class=\"sk-toggleable__control sk-hidden--visually\" id=\"sk-estimator-id-27\" type=\"checkbox\" ><label for=\"sk-estimator-id-27\" class=\"sk-toggleable__label sk-toggleable__label-arrow\">DecisionTreeClassifier</label><div class=\"sk-toggleable__content\"><pre>DecisionTreeClassifier()</pre></div></div></div></div></div></div><div class=\"sk-parallel-item\"><div class=\"sk-item\"><div class=\"sk-label-container\"><div class=\"sk-label sk-toggleable\"><label>lr</label></div></div><div class=\"sk-serial\"><div class=\"sk-item\"><div class=\"sk-estimator sk-toggleable\"><input class=\"sk-toggleable__control sk-hidden--visually\" id=\"sk-estimator-id-28\" type=\"checkbox\" ><label for=\"sk-estimator-id-28\" class=\"sk-toggleable__label sk-toggleable__label-arrow\">LogisticRegression</label><div class=\"sk-toggleable__content\"><pre>LogisticRegression()</pre></div></div></div></div></div></div></div></div></div></div></div></div></div></div></div>"
      ],
      "text/plain": [
       "GridSearchCV(cv=3,\n",
       "             estimator=VotingClassifier(estimators=[('svm', SVC()),\n",
       "                                                    ('dtc',\n",
       "                                                     DecisionTreeClassifier()),\n",
       "                                                    ('lr',\n",
       "                                                     LogisticRegression())]),\n",
       "             param_grid={'dtc__max_depth': [2, 5, 10],\n",
       "                         'dtc__min_samples_leaf': [5, 10, 20],\n",
       "                         'lr__penalty': ['l2', 'l1', 'elasticnet'],\n",
       "                         'lr__solver': ['lbfgs', 'newton-cholesky'],\n",
       "                         'svm__C': [0.5, 1.0], 'svm__kernel': ['poly', 'rbf']})"
      ]
     },
     "execution_count": 41,
     "metadata": {},
     "output_type": "execute_result"
    }
   ],
   "source": [
    "gridcv.fit(X_train_preprocess, y_train)"
   ]
  },
  {
   "cell_type": "code",
   "execution_count": 42,
   "id": "63382739",
   "metadata": {
    "execution": {
     "iopub.execute_input": "2023-10-25T08:40:24.684955Z",
     "iopub.status.busy": "2023-10-25T08:40:24.684541Z",
     "iopub.status.idle": "2023-10-25T08:40:24.692044Z",
     "shell.execute_reply": "2023-10-25T08:40:24.690822Z"
    },
    "papermill": {
     "duration": 0.048286,
     "end_time": "2023-10-25T08:40:24.694364",
     "exception": false,
     "start_time": "2023-10-25T08:40:24.646078",
     "status": "completed"
    },
    "tags": []
   },
   "outputs": [
    {
     "data": {
      "text/plain": [
       "{'dtc__max_depth': 10,\n",
       " 'dtc__min_samples_leaf': 5,\n",
       " 'lr__penalty': 'l2',\n",
       " 'lr__solver': 'newton-cholesky',\n",
       " 'svm__C': 1.0,\n",
       " 'svm__kernel': 'poly'}"
      ]
     },
     "execution_count": 42,
     "metadata": {},
     "output_type": "execute_result"
    }
   ],
   "source": [
    "gridcv.best_params_"
   ]
  },
  {
   "cell_type": "markdown",
   "id": "f5cc4773",
   "metadata": {
    "papermill": {
     "duration": 0.036918,
     "end_time": "2023-10-25T08:40:24.769205",
     "exception": false,
     "start_time": "2023-10-25T08:40:24.732287",
     "status": "completed"
    },
    "tags": []
   },
   "source": [
    "### Testing model after hyperparameter tunig"
   ]
  },
  {
   "cell_type": "code",
   "execution_count": 43,
   "id": "7c0231be",
   "metadata": {
    "execution": {
     "iopub.execute_input": "2023-10-25T08:40:24.845750Z",
     "iopub.status.busy": "2023-10-25T08:40:24.844955Z",
     "iopub.status.idle": "2023-10-25T08:40:25.079394Z",
     "shell.execute_reply": "2023-10-25T08:40:25.077907Z"
    },
    "papermill": {
     "duration": 0.277711,
     "end_time": "2023-10-25T08:40:25.083940",
     "exception": false,
     "start_time": "2023-10-25T08:40:24.806229",
     "status": "completed"
    },
    "tags": []
   },
   "outputs": [
    {
     "data": {
      "text/plain": [
       "0.7868098159509203"
      ]
     },
     "execution_count": 43,
     "metadata": {},
     "output_type": "execute_result"
    }
   ],
   "source": [
    "X_valid_preprocess = preprocess.transform(X_valid)\n",
    "gridcv.best_estimator_.score(X_valid_preprocess, y_valid)"
   ]
  },
  {
   "cell_type": "code",
   "execution_count": 44,
   "id": "129a3b28",
   "metadata": {
    "execution": {
     "iopub.execute_input": "2023-10-25T08:40:25.203849Z",
     "iopub.status.busy": "2023-10-25T08:40:25.203449Z",
     "iopub.status.idle": "2023-10-25T08:40:25.416838Z",
     "shell.execute_reply": "2023-10-25T08:40:25.415329Z"
    },
    "papermill": {
     "duration": 0.257706,
     "end_time": "2023-10-25T08:40:25.421149",
     "exception": false,
     "start_time": "2023-10-25T08:40:25.163443",
     "status": "completed"
    },
    "tags": []
   },
   "outputs": [
    {
     "name": "stdout",
     "output_type": "stream",
     "text": [
      "F1-score: 0.79\n"
     ]
    }
   ],
   "source": [
    "y_pred = gridcv.predict(X_valid_preprocess)\n",
    "print(f\"F1-score: {np.around(f1_score(y_valid, y_pred),2)}\")"
   ]
  },
  {
   "cell_type": "code",
   "execution_count": 45,
   "id": "26d413f9",
   "metadata": {
    "execution": {
     "iopub.execute_input": "2023-10-25T08:40:25.539785Z",
     "iopub.status.busy": "2023-10-25T08:40:25.539393Z",
     "iopub.status.idle": "2023-10-25T08:40:25.850953Z",
     "shell.execute_reply": "2023-10-25T08:40:25.850089Z"
    },
    "papermill": {
     "duration": 0.353933,
     "end_time": "2023-10-25T08:40:25.853274",
     "exception": false,
     "start_time": "2023-10-25T08:40:25.499341",
     "status": "completed"
    },
    "tags": []
   },
   "outputs": [
    {
     "data": {
      "image/png": "[encoded data removed]",
      "text/plain": [
       "<Figure size 640x480 with 2 Axes>"
      ]
     },
     "metadata": {},
     "output_type": "display_data"
    }
   ],
   "source": [
    "conf_mat = confusion_matrix(y_valid, y_pred)\n",
    "plt.title(\"Confusion matrix\")\n",
    "sns.heatmap(conf_mat, annot=True, cmap=sns.cubehelix_palette(as_cmap=True), fmt='d')\n",
    "plt.show()"
   ]
  },
  {
   "cell_type": "markdown",
   "id": "1887dd6b",
   "metadata": {
    "execution": {
     "iopub.execute_input": "2023-10-21T00:13:13.688162Z",
     "iopub.status.busy": "2023-10-21T00:13:13.687555Z",
     "iopub.status.idle": "2023-10-21T00:13:13.719812Z",
     "shell.execute_reply": "2023-10-21T00:13:13.718905Z",
     "shell.execute_reply.started": "2023-10-21T00:13:13.688131Z"
    },
    "papermill": {
     "duration": 0.037772,
     "end_time": "2023-10-25T08:40:25.929205",
     "exception": false,
     "start_time": "2023-10-25T08:40:25.891433",
     "status": "completed"
    },
    "tags": []
   },
   "source": [
    "## XGboost"
   ]
  },
  {
   "cell_type": "markdown",
   "id": "0a5102f0",
   "metadata": {
    "papermill": {
     "duration": 0.039705,
     "end_time": "2023-10-25T08:40:26.006483",
     "exception": false,
     "start_time": "2023-10-25T08:40:25.966778",
     "status": "completed"
    },
    "tags": []
   },
   "source": [
    "### Model training"
   ]
  },
  {
   "cell_type": "code",
   "execution_count": 46,
   "id": "22be173c",
   "metadata": {
    "execution": {
     "iopub.execute_input": "2023-10-25T08:40:26.084301Z",
     "iopub.status.busy": "2023-10-25T08:40:26.083533Z",
     "iopub.status.idle": "2023-10-25T08:40:26.332270Z",
     "shell.execute_reply": "2023-10-25T08:40:26.331007Z"
    },
    "papermill": {
     "duration": 0.290651,
     "end_time": "2023-10-25T08:40:26.334929",
     "exception": false,
     "start_time": "2023-10-25T08:40:26.044278",
     "status": "completed"
    },
    "tags": []
   },
   "outputs": [
    {
     "data": {
      "text/html": [
       "<style>#sk-container-id-6 {color: black;background-color: white;}#sk-container-id-6 pre{padding: 0;}#sk-container-id-6 div.sk-toggleable {background-color: white;}#sk-container-id-6 label.sk-toggleable__label {cursor: pointer;display: block;width: 100%;margin-bottom: 0;padding: 0.3em;box-sizing: border-box;text-align: center;}#sk-container-id-6 label.sk-toggleable__label-arrow:before {content: \"▸\";float: left;margin-right: 0.25em;color: #696969;}#sk-container-id-6 label.sk-toggleable__label-arrow:hover:before {color: black;}#sk-container-id-6 div.sk-estimator:hover label.sk-toggleable__label-arrow:before {color: black;}#sk-container-id-6 div.sk-toggleable__content {max-height: 0;max-width: 0;overflow: hidden;text-align: left;background-color: #f0f8ff;}#sk-container-id-6 div.sk-toggleable__content pre {margin: 0.2em;color: black;border-radius: 0.25em;background-color: #f0f8ff;}#sk-container-id-6 input.sk-toggleable__control:checked~div.sk-toggleable__content {max-height: 200px;max-width: 100%;overflow: auto;}#sk-container-id-6 input.sk-toggleable__control:checked~label.sk-toggleable__label-arrow:before {content: \"▾\";}#sk-container-id-6 div.sk-estimator input.sk-toggleable__control:checked~label.sk-toggleable__label {background-color: #d4ebff;}#sk-container-id-6 div.sk-label input.sk-toggleable__control:checked~label.sk-toggleable__label {background-color: #d4ebff;}#sk-container-id-6 input.sk-hidden--visually {border: 0;clip: rect(1px 1px 1px 1px);clip: rect(1px, 1px, 1px, 1px);height: 1px;margin: -1px;overflow: hidden;padding: 0;position: absolute;width: 1px;}#sk-container-id-6 div.sk-estimator {font-family: monospace;background-color: #f0f8ff;border: 1px dotted black;border-radius: 0.25em;box-sizing: border-box;margin-bottom: 0.5em;}#sk-container-id-6 div.sk-estimator:hover {background-color: #d4ebff;}#sk-container-id-6 div.sk-parallel-item::after {content: \"\";width: 100%;border-bottom: 1px solid gray;flex-grow: 1;}#sk-container-id-6 div.sk-label:hover label.sk-toggleable__label {background-color: #d4ebff;}#sk-container-id-6 div.sk-serial::before {content: \"\";position: absolute;border-left: 1px solid gray;box-sizing: border-box;top: 0;bottom: 0;left: 50%;z-index: 0;}#sk-container-id-6 div.sk-serial {display: flex;flex-direction: column;align-items: center;background-color: white;padding-right: 0.2em;padding-left: 0.2em;position: relative;}#sk-container-id-6 div.sk-item {position: relative;z-index: 1;}#sk-container-id-6 div.sk-parallel {display: flex;align-items: stretch;justify-content: center;background-color: white;position: relative;}#sk-container-id-6 div.sk-item::before, #sk-container-id-6 div.sk-parallel-item::before {content: \"\";position: absolute;border-left: 1px solid gray;box-sizing: border-box;top: 0;bottom: 0;left: 50%;z-index: -1;}#sk-container-id-6 div.sk-parallel-item {display: flex;flex-direction: column;z-index: 1;position: relative;background-color: white;}#sk-container-id-6 div.sk-parallel-item:first-child::after {align-self: flex-end;width: 50%;}#sk-container-id-6 div.sk-parallel-item:last-child::after {align-self: flex-start;width: 50%;}#sk-container-id-6 div.sk-parallel-item:only-child::after {width: 0;}#sk-container-id-6 div.sk-dashed-wrapped {border: 1px dashed gray;margin: 0 0.4em 0.5em 0.4em;box-sizing: border-box;padding-bottom: 0.4em;background-color: white;}#sk-container-id-6 div.sk-label label {font-family: monospace;font-weight: bold;display: inline-block;line-height: 1.2em;}#sk-container-id-6 div.sk-label-container {text-align: center;}#sk-container-id-6 div.sk-container {/* jupyter's `normalize.less` sets `[hidden] { display: none; }` but bootstrap.min.css set `[hidden] { display: none !important; }` so we also need the `!important` here to be able to override the default hidden behavior on the sphinx rendered scikit-learn.org. See: https://github.com/scikit-learn/scikit-learn/issues/21755 */display: inline-block !important;position: relative;}#sk-container-id-6 div.sk-text-repr-fallback {display: none;}</style><div id=\"sk-container-id-6\" class=\"sk-top-container\"><div class=\"sk-text-repr-fallback\"><pre>Pipeline(steps=[(&#x27;pipeline&#x27;,\n",
       "                 Pipeline(steps=[(&#x27;functiontransformer-1&#x27;,\n",
       "                                  FunctionTransformer(func=&lt;function drop_columns at 0x7983d9d2c1f0&gt;)),\n",
       "                                 (&#x27;functiontransformer-2&#x27;,\n",
       "                                  FunctionTransformer(func=&lt;function feature_eng at 0x7983da4177f0&gt;)),\n",
       "                                 (&#x27;columntransformer&#x27;,\n",
       "                                  ColumnTransformer(transformers=[(&#x27;pipeline-1&#x27;,\n",
       "                                                                   Pipeline(steps=[(&#x27;simpleimputer&#x27;,\n",
       "                                                                                    SimpleImputer(strategy=&#x27;m...\n",
       "                               feature_types=None, gamma=None, gpu_id=None,\n",
       "                               grow_policy=None, importance_type=None,\n",
       "                               interaction_constraints=None, learning_rate=None,\n",
       "                               max_bin=None, max_cat_threshold=None,\n",
       "                               max_cat_to_onehot=None, max_delta_step=None,\n",
       "                               max_depth=None, max_leaves=None,\n",
       "                               min_child_weight=None, missing=nan,\n",
       "                               monotone_constraints=None, n_estimators=100,\n",
       "                               n_jobs=None, num_parallel_tree=None,\n",
       "                               predictor=None, random_state=None, ...))])</pre><b>In a Jupyter environment, please rerun this cell to show the HTML representation or trust the notebook. <br />On GitHub, the HTML representation is unable to render, please try loading this page with nbviewer.org.</b></div><div class=\"sk-container\" hidden><div class=\"sk-item sk-dashed-wrapped\"><div class=\"sk-label-container\"><div class=\"sk-label sk-toggleable\"><input class=\"sk-toggleable__control sk-hidden--visually\" id=\"sk-estimator-id-29\" type=\"checkbox\" ><label for=\"sk-estimator-id-29\" class=\"sk-toggleable__label sk-toggleable__label-arrow\">Pipeline</label><div class=\"sk-toggleable__content\"><pre>Pipeline(steps=[(&#x27;pipeline&#x27;,\n",
       "                 Pipeline(steps=[(&#x27;functiontransformer-1&#x27;,\n",
       "                                  FunctionTransformer(func=&lt;function drop_columns at 0x7983d9d2c1f0&gt;)),\n",
       "                                 (&#x27;functiontransformer-2&#x27;,\n",
       "                                  FunctionTransformer(func=&lt;function feature_eng at 0x7983da4177f0&gt;)),\n",
       "                                 (&#x27;columntransformer&#x27;,\n",
       "                                  ColumnTransformer(transformers=[(&#x27;pipeline-1&#x27;,\n",
       "                                                                   Pipeline(steps=[(&#x27;simpleimputer&#x27;,\n",
       "                                                                                    SimpleImputer(strategy=&#x27;m...\n",
       "                               feature_types=None, gamma=None, gpu_id=None,\n",
       "                               grow_policy=None, importance_type=None,\n",
       "                               interaction_constraints=None, learning_rate=None,\n",
       "                               max_bin=None, max_cat_threshold=None,\n",
       "                               max_cat_to_onehot=None, max_delta_step=None,\n",
       "                               max_depth=None, max_leaves=None,\n",
       "                               min_child_weight=None, missing=nan,\n",
       "                               monotone_constraints=None, n_estimators=100,\n",
       "                               n_jobs=None, num_parallel_tree=None,\n",
       "                               predictor=None, random_state=None, ...))])</pre></div></div></div><div class=\"sk-serial\"><div class=\"sk-item\"><div class=\"sk-label-container\"><div class=\"sk-label sk-toggleable\"><input class=\"sk-toggleable__control sk-hidden--visually\" id=\"sk-estimator-id-30\" type=\"checkbox\" ><label for=\"sk-estimator-id-30\" class=\"sk-toggleable__label sk-toggleable__label-arrow\">pipeline: Pipeline</label><div class=\"sk-toggleable__content\"><pre>Pipeline(steps=[(&#x27;functiontransformer-1&#x27;,\n",
       "                 FunctionTransformer(func=&lt;function drop_columns at 0x7983d9d2c1f0&gt;)),\n",
       "                (&#x27;functiontransformer-2&#x27;,\n",
       "                 FunctionTransformer(func=&lt;function feature_eng at 0x7983da4177f0&gt;)),\n",
       "                (&#x27;columntransformer&#x27;,\n",
       "                 ColumnTransformer(transformers=[(&#x27;pipeline-1&#x27;,\n",
       "                                                  Pipeline(steps=[(&#x27;simpleimputer&#x27;,\n",
       "                                                                   SimpleImputer(strategy=&#x27;median&#x27;)),\n",
       "                                                                  (&#x27;standardscaler&#x27;,\n",
       "                                                                   StandardScaler())]),\n",
       "                                                  &lt;sklearn.compose._column_transformer.make_column_selector object at 0x7983da125930&gt;),\n",
       "                                                 (&#x27;pipeline-2&#x27;,\n",
       "                                                  Pipeline(steps=[(&#x27;simpleimputer&#x27;,\n",
       "                                                                   SimpleImputer(strategy=&#x27;most_frequent&#x27;)),\n",
       "                                                                  (&#x27;onehotencoder&#x27;,\n",
       "                                                                   OneHotEncoder(handle_unknown=&#x27;ignore&#x27;))]),\n",
       "                                                  &lt;sklearn.compose._column_transformer.make_column_selector object at 0x7983da126650&gt;)]))])</pre></div></div></div><div class=\"sk-serial\"><div class=\"sk-item\"><div class=\"sk-estimator sk-toggleable\"><input class=\"sk-toggleable__control sk-hidden--visually\" id=\"sk-estimator-id-31\" type=\"checkbox\" ><label for=\"sk-estimator-id-31\" class=\"sk-toggleable__label sk-toggleable__label-arrow\">FunctionTransformer</label><div class=\"sk-toggleable__content\"><pre>FunctionTransformer(func=&lt;function drop_columns at 0x7983d9d2c1f0&gt;)</pre></div></div></div><div class=\"sk-item\"><div class=\"sk-estimator sk-toggleable\"><input class=\"sk-toggleable__control sk-hidden--visually\" id=\"sk-estimator-id-32\" type=\"checkbox\" ><label for=\"sk-estimator-id-32\" class=\"sk-toggleable__label sk-toggleable__label-arrow\">FunctionTransformer</label><div class=\"sk-toggleable__content\"><pre>FunctionTransformer(func=&lt;function feature_eng at 0x7983da4177f0&gt;)</pre></div></div></div><div class=\"sk-item sk-dashed-wrapped\"><div class=\"sk-label-container\"><div class=\"sk-label sk-toggleable\"><input class=\"sk-toggleable__control sk-hidden--visually\" id=\"sk-estimator-id-33\" type=\"checkbox\" ><label for=\"sk-estimator-id-33\" class=\"sk-toggleable__label sk-toggleable__label-arrow\">columntransformer: ColumnTransformer</label><div class=\"sk-toggleable__content\"><pre>ColumnTransformer(transformers=[(&#x27;pipeline-1&#x27;,\n",
       "                                 Pipeline(steps=[(&#x27;simpleimputer&#x27;,\n",
       "                                                  SimpleImputer(strategy=&#x27;median&#x27;)),\n",
       "                                                 (&#x27;standardscaler&#x27;,\n",
       "                                                  StandardScaler())]),\n",
       "                                 &lt;sklearn.compose._column_transformer.make_column_selector object at 0x7983da125930&gt;),\n",
       "                                (&#x27;pipeline-2&#x27;,\n",
       "                                 Pipeline(steps=[(&#x27;simpleimputer&#x27;,\n",
       "                                                  SimpleImputer(strategy=&#x27;most_frequent&#x27;)),\n",
       "                                                 (&#x27;onehotencoder&#x27;,\n",
       "                                                  OneHotEncoder(handle_unknown=&#x27;ignore&#x27;))]),\n",
       "                                 &lt;sklearn.compose._column_transformer.make_column_selector object at 0x7983da126650&gt;)])</pre></div></div></div><div class=\"sk-parallel\"><div class=\"sk-parallel-item\"><div class=\"sk-item\"><div class=\"sk-label-container\"><div class=\"sk-label sk-toggleable\"><input class=\"sk-toggleable__control sk-hidden--visually\" id=\"sk-estimator-id-34\" type=\"checkbox\" ><label for=\"sk-estimator-id-34\" class=\"sk-toggleable__label sk-toggleable__label-arrow\">pipeline-1</label><div class=\"sk-toggleable__content\"><pre>&lt;sklearn.compose._column_transformer.make_column_selector object at 0x7983da125930&gt;</pre></div></div></div><div class=\"sk-serial\"><div class=\"sk-item\"><div class=\"sk-serial\"><div class=\"sk-item\"><div class=\"sk-estimator sk-toggleable\"><input class=\"sk-toggleable__control sk-hidden--visually\" id=\"sk-estimator-id-35\" type=\"checkbox\" ><label for=\"sk-estimator-id-35\" class=\"sk-toggleable__label sk-toggleable__label-arrow\">SimpleImputer</label><div class=\"sk-toggleable__content\"><pre>SimpleImputer(strategy=&#x27;median&#x27;)</pre></div></div></div><div class=\"sk-item\"><div class=\"sk-estimator sk-toggleable\"><input class=\"sk-toggleable__control sk-hidden--visually\" id=\"sk-estimator-id-36\" type=\"checkbox\" ><label for=\"sk-estimator-id-36\" class=\"sk-toggleable__label sk-toggleable__label-arrow\">StandardScaler</label><div class=\"sk-toggleable__content\"><pre>StandardScaler()</pre></div></div></div></div></div></div></div></div><div class=\"sk-parallel-item\"><div class=\"sk-item\"><div class=\"sk-label-container\"><div class=\"sk-label sk-toggleable\"><input class=\"sk-toggleable__control sk-hidden--visually\" id=\"sk-estimator-id-37\" type=\"checkbox\" ><label for=\"sk-estimator-id-37\" class=\"sk-toggleable__label sk-toggleable__label-arrow\">pipeline-2</label><div class=\"sk-toggleable__content\"><pre>&lt;sklearn.compose._column_transformer.make_column_selector object at 0x7983da126650&gt;</pre></div></div></div><div class=\"sk-serial\"><div class=\"sk-item\"><div class=\"sk-serial\"><div class=\"sk-item\"><div class=\"sk-estimator sk-toggleable\"><input class=\"sk-toggleable__control sk-hidden--visually\" id=\"sk-estimator-id-38\" type=\"checkbox\" ><label for=\"sk-estimator-id-38\" class=\"sk-toggleable__label sk-toggleable__label-arrow\">SimpleImputer</label><div class=\"sk-toggleable__content\"><pre>SimpleImputer(strategy=&#x27;most_frequent&#x27;)</pre></div></div></div><div class=\"sk-item\"><div class=\"sk-estimator sk-toggleable\"><input class=\"sk-toggleable__control sk-hidden--visually\" id=\"sk-estimator-id-39\" type=\"checkbox\" ><label for=\"sk-estimator-id-39\" class=\"sk-toggleable__label sk-toggleable__label-arrow\">OneHotEncoder</label><div class=\"sk-toggleable__content\"><pre>OneHotEncoder(handle_unknown=&#x27;ignore&#x27;)</pre></div></div></div></div></div></div></div></div></div></div></div></div><div class=\"sk-item\"><div class=\"sk-estimator sk-toggleable\"><input class=\"sk-toggleable__control sk-hidden--visually\" id=\"sk-estimator-id-40\" type=\"checkbox\" ><label for=\"sk-estimator-id-40\" class=\"sk-toggleable__label sk-toggleable__label-arrow\">XGBClassifier</label><div class=\"sk-toggleable__content\"><pre>XGBClassifier(base_score=None, booster=None, callbacks=None,\n",
       "              colsample_bylevel=None, colsample_bynode=None,\n",
       "              colsample_bytree=None, early_stopping_rounds=None,\n",
       "              enable_categorical=False, eval_metric=None, feature_types=None,\n",
       "              gamma=None, gpu_id=None, grow_policy=None, importance_type=None,\n",
       "              interaction_constraints=None, learning_rate=None, max_bin=None,\n",
       "              max_cat_threshold=None, max_cat_to_onehot=None,\n",
       "              max_delta_step=None, max_depth=None, max_leaves=None,\n",
       "              min_child_weight=None, missing=nan, monotone_constraints=None,\n",
       "              n_estimators=100, n_jobs=None, num_parallel_tree=None,\n",
       "              predictor=None, random_state=None, ...)</pre></div></div></div></div></div></div></div>"
      ],
      "text/plain": [
       "Pipeline(steps=[('pipeline',\n",
       "                 Pipeline(steps=[('functiontransformer-1',\n",
       "                                  FunctionTransformer(func=<function drop_columns at 0x7983d9d2c1f0>)),\n",
       "                                 ('functiontransformer-2',\n",
       "                                  FunctionTransformer(func=<function feature_eng at 0x7983da4177f0>)),\n",
       "                                 ('columntransformer',\n",
       "                                  ColumnTransformer(transformers=[('pipeline-1',\n",
       "                                                                   Pipeline(steps=[('simpleimputer',\n",
       "                                                                                    SimpleImputer(strategy='m...\n",
       "                               feature_types=None, gamma=None, gpu_id=None,\n",
       "                               grow_policy=None, importance_type=None,\n",
       "                               interaction_constraints=None, learning_rate=None,\n",
       "                               max_bin=None, max_cat_threshold=None,\n",
       "                               max_cat_to_onehot=None, max_delta_step=None,\n",
       "                               max_depth=None, max_leaves=None,\n",
       "                               min_child_weight=None, missing=nan,\n",
       "                               monotone_constraints=None, n_estimators=100,\n",
       "                               n_jobs=None, num_parallel_tree=None,\n",
       "                               predictor=None, random_state=None, ...))])"
      ]
     },
     "execution_count": 46,
     "metadata": {},
     "output_type": "execute_result"
    }
   ],
   "source": [
    "xgclf = XGBClassifier()\n",
    "model1 = make_pipeline(preprocess, xgclf)\n",
    "model1"
   ]
  },
  {
   "cell_type": "code",
   "execution_count": 47,
   "id": "48834ccf",
   "metadata": {
    "execution": {
     "iopub.execute_input": "2023-10-25T08:40:26.415491Z",
     "iopub.status.busy": "2023-10-25T08:40:26.415032Z",
     "iopub.status.idle": "2023-10-25T08:40:29.646460Z",
     "shell.execute_reply": "2023-10-25T08:40:29.645387Z"
    },
    "papermill": {
     "duration": 3.27438,
     "end_time": "2023-10-25T08:40:29.649283",
     "exception": false,
     "start_time": "2023-10-25T08:40:26.374903",
     "status": "completed"
    },
    "tags": []
   },
   "outputs": [
    {
     "data": {
      "text/plain": [
       "array([0.77604871, 0.79364005, 0.80987821, 0.80987821, 0.80907244])"
      ]
     },
     "execution_count": 47,
     "metadata": {},
     "output_type": "execute_result"
    }
   ],
   "source": [
    "score = cross_val_score(model1, X_train, y_train, scoring=\"accuracy\",cv=5)\n",
    "score"
   ]
  },
  {
   "cell_type": "code",
   "execution_count": 48,
   "id": "6ba8db8f",
   "metadata": {
    "execution": {
     "iopub.execute_input": "2023-10-25T08:40:29.729956Z",
     "iopub.status.busy": "2023-10-25T08:40:29.729533Z",
     "iopub.status.idle": "2023-10-25T08:40:30.459190Z",
     "shell.execute_reply": "2023-10-25T08:40:30.458201Z"
    },
    "papermill": {
     "duration": 0.772465,
     "end_time": "2023-10-25T08:40:30.461910",
     "exception": false,
     "start_time": "2023-10-25T08:40:29.689445",
     "status": "completed"
    },
    "tags": []
   },
   "outputs": [],
   "source": [
    "_ = model1.fit(X_train, y_train)"
   ]
  },
  {
   "cell_type": "markdown",
   "id": "9b1ec68f",
   "metadata": {
    "papermill": {
     "duration": 0.03792,
     "end_time": "2023-10-25T08:40:30.539561",
     "exception": false,
     "start_time": "2023-10-25T08:40:30.501641",
     "status": "completed"
    },
    "tags": []
   },
   "source": [
    "### Model testing"
   ]
  },
  {
   "cell_type": "code",
   "execution_count": 49,
   "id": "7b2ebf07",
   "metadata": {
    "execution": {
     "iopub.execute_input": "2023-10-25T08:40:30.618894Z",
     "iopub.status.busy": "2023-10-25T08:40:30.618492Z",
     "iopub.status.idle": "2023-10-25T08:40:30.673439Z",
     "shell.execute_reply": "2023-10-25T08:40:30.672347Z"
    },
    "papermill": {
     "duration": 0.097732,
     "end_time": "2023-10-25T08:40:30.676164",
     "exception": false,
     "start_time": "2023-10-25T08:40:30.578432",
     "status": "completed"
    },
    "tags": []
   },
   "outputs": [
    {
     "data": {
      "text/plain": [
       "0.79"
      ]
     },
     "execution_count": 49,
     "metadata": {},
     "output_type": "execute_result"
    }
   ],
   "source": [
    "X_valid_preprocess = preprocess.transform(X_valid)\n",
    "np.around(model1.score(X_valid, y_valid), 2)"
   ]
  },
  {
   "cell_type": "code",
   "execution_count": 50,
   "id": "69e62bf6",
   "metadata": {
    "execution": {
     "iopub.execute_input": "2023-10-25T08:40:30.757721Z",
     "iopub.status.busy": "2023-10-25T08:40:30.756992Z",
     "iopub.status.idle": "2023-10-25T08:40:30.787388Z",
     "shell.execute_reply": "2023-10-25T08:40:30.786443Z"
    },
    "papermill": {
     "duration": 0.073834,
     "end_time": "2023-10-25T08:40:30.789955",
     "exception": false,
     "start_time": "2023-10-25T08:40:30.716121",
     "status": "completed"
    },
    "tags": []
   },
   "outputs": [
    {
     "name": "stdout",
     "output_type": "stream",
     "text": [
      "F1-score: 0.79\n"
     ]
    }
   ],
   "source": [
    "y_pred = model1.predict(X_valid)\n",
    "print(f\"F1-score: {np.around(f1_score(y_valid, y_pred),2)}\")"
   ]
  },
  {
   "cell_type": "code",
   "execution_count": 51,
   "id": "71af0ed3",
   "metadata": {
    "execution": {
     "iopub.execute_input": "2023-10-25T08:40:30.870908Z",
     "iopub.status.busy": "2023-10-25T08:40:30.870509Z",
     "iopub.status.idle": "2023-10-25T08:40:31.159953Z",
     "shell.execute_reply": "2023-10-25T08:40:31.159019Z"
    },
    "papermill": {
     "duration": 0.332564,
     "end_time": "2023-10-25T08:40:31.162526",
     "exception": false,
     "start_time": "2023-10-25T08:40:30.829962",
     "status": "completed"
    },
    "tags": []
   },
   "outputs": [
    {
     "data": {
      "image/png": "[encoded data removed]",
      "text/plain": [
       "<Figure size 640x480 with 2 Axes>"
      ]
     },
     "metadata": {},
     "output_type": "display_data"
    }
   ],
   "source": [
    "conf_mat = confusion_matrix(y_valid, y_pred)\n",
    "plt.title(\"Confusion matrix\")\n",
    "sns.heatmap(conf_mat, annot=True, cmap=sns.cubehelix_palette(as_cmap=True), fmt='d')\n",
    "plt.show()"
   ]
  },
  {
   "cell_type": "markdown",
   "id": "aa9060ae",
   "metadata": {
    "papermill": {
     "duration": 0.039518,
     "end_time": "2023-10-25T08:40:31.242883",
     "exception": false,
     "start_time": "2023-10-25T08:40:31.203365",
     "status": "completed"
    },
    "tags": []
   },
   "source": [
    "### Hyperparameter tuning"
   ]
  },
  {
   "cell_type": "code",
   "execution_count": 52,
   "id": "d5536cc2",
   "metadata": {
    "execution": {
     "iopub.execute_input": "2023-10-25T08:40:31.325141Z",
     "iopub.status.busy": "2023-10-25T08:40:31.324360Z",
     "iopub.status.idle": "2023-10-25T08:40:31.330830Z",
     "shell.execute_reply": "2023-10-25T08:40:31.329913Z"
    },
    "papermill": {
     "duration": 0.049715,
     "end_time": "2023-10-25T08:40:31.333271",
     "exception": false,
     "start_time": "2023-10-25T08:40:31.283556",
     "status": "completed"
    },
    "tags": []
   },
   "outputs": [],
   "source": [
    "params = { \n",
    "    \"max_depth\":[3, 5,10],\n",
    "    \"n_estimators\": [100, 200, 300 , 400],\n",
    "    \"min_samples_leaf\": [5, 10, 20],\n",
    "    \"eta\":[0.1, 0.2, 0.3]\n",
    "}\n",
    "xgboost1 = XGBClassifier(verbosity = 0)"
   ]
  },
  {
   "cell_type": "code",
   "execution_count": 53,
   "id": "92bf9cff",
   "metadata": {
    "execution": {
     "iopub.execute_input": "2023-10-25T08:40:31.414067Z",
     "iopub.status.busy": "2023-10-25T08:40:31.412723Z",
     "iopub.status.idle": "2023-10-25T08:40:31.495201Z",
     "shell.execute_reply": "2023-10-25T08:40:31.493947Z"
    },
    "papermill": {
     "duration": 0.126001,
     "end_time": "2023-10-25T08:40:31.498335",
     "exception": false,
     "start_time": "2023-10-25T08:40:31.372334",
     "status": "completed"
    },
    "tags": []
   },
   "outputs": [],
   "source": [
    "X_train_preprocess = preprocess.fit_transform(X_train)\n",
    "xgboost_gridcv = GridSearchCV(xgboost1,param_grid=params, cv=4)"
   ]
  },
  {
   "cell_type": "code",
   "execution_count": 54,
   "id": "84f6c206",
   "metadata": {
    "execution": {
     "iopub.execute_input": "2023-10-25T08:40:31.579044Z",
     "iopub.status.busy": "2023-10-25T08:40:31.578617Z",
     "iopub.status.idle": "2023-10-25T08:50:04.117597Z",
     "shell.execute_reply": "2023-10-25T08:50:04.116119Z"
    },
    "papermill": {
     "duration": 572.632597,
     "end_time": "2023-10-25T08:50:04.170437",
     "exception": false,
     "start_time": "2023-10-25T08:40:31.537840",
     "status": "completed"
    },
    "tags": []
   },
   "outputs": [
    {
     "data": {
      "text/html": [
       "<style>#sk-container-id-7 {color: black;background-color: white;}#sk-container-id-7 pre{padding: 0;}#sk-container-id-7 div.sk-toggleable {background-color: white;}#sk-container-id-7 label.sk-toggleable__label {cursor: pointer;display: block;width: 100%;margin-bottom: 0;padding: 0.3em;box-sizing: border-box;text-align: center;}#sk-container-id-7 label.sk-toggleable__label-arrow:before {content: \"▸\";float: left;margin-right: 0.25em;color: #696969;}#sk-container-id-7 label.sk-toggleable__label-arrow:hover:before {color: black;}#sk-container-id-7 div.sk-estimator:hover label.sk-toggleable__label-arrow:before {color: black;}#sk-container-id-7 div.sk-toggleable__content {max-height: 0;max-width: 0;overflow: hidden;text-align: left;background-color: #f0f8ff;}#sk-container-id-7 div.sk-toggleable__content pre {margin: 0.2em;color: black;border-radius: 0.25em;background-color: #f0f8ff;}#sk-container-id-7 input.sk-toggleable__control:checked~div.sk-toggleable__content {max-height: 200px;max-width: 100%;overflow: auto;}#sk-container-id-7 input.sk-toggleable__control:checked~label.sk-toggleable__label-arrow:before {content: \"▾\";}#sk-container-id-7 div.sk-estimator input.sk-toggleable__control:checked~label.sk-toggleable__label {background-color: #d4ebff;}#sk-container-id-7 div.sk-label input.sk-toggleable__control:checked~label.sk-toggleable__label {background-color: #d4ebff;}#sk-container-id-7 input.sk-hidden--visually {border: 0;clip: rect(1px 1px 1px 1px);clip: rect(1px, 1px, 1px, 1px);height: 1px;margin: -1px;overflow: hidden;padding: 0;position: absolute;width: 1px;}#sk-container-id-7 div.sk-estimator {font-family: monospace;background-color: #f0f8ff;border: 1px dotted black;border-radius: 0.25em;box-sizing: border-box;margin-bottom: 0.5em;}#sk-container-id-7 div.sk-estimator:hover {background-color: #d4ebff;}#sk-container-id-7 div.sk-parallel-item::after {content: \"\";width: 100%;border-bottom: 1px solid gray;flex-grow: 1;}#sk-container-id-7 div.sk-label:hover label.sk-toggleable__label {background-color: #d4ebff;}#sk-container-id-7 div.sk-serial::before {content: \"\";position: absolute;border-left: 1px solid gray;box-sizing: border-box;top: 0;bottom: 0;left: 50%;z-index: 0;}#sk-container-id-7 div.sk-serial {display: flex;flex-direction: column;align-items: center;background-color: white;padding-right: 0.2em;padding-left: 0.2em;position: relative;}#sk-container-id-7 div.sk-item {position: relative;z-index: 1;}#sk-container-id-7 div.sk-parallel {display: flex;align-items: stretch;justify-content: center;background-color: white;position: relative;}#sk-container-id-7 div.sk-item::before, #sk-container-id-7 div.sk-parallel-item::before {content: \"\";position: absolute;border-left: 1px solid gray;box-sizing: border-box;top: 0;bottom: 0;left: 50%;z-index: -1;}#sk-container-id-7 div.sk-parallel-item {display: flex;flex-direction: column;z-index: 1;position: relative;background-color: white;}#sk-container-id-7 div.sk-parallel-item:first-child::after {align-self: flex-end;width: 50%;}#sk-container-id-7 div.sk-parallel-item:last-child::after {align-self: flex-start;width: 50%;}#sk-container-id-7 div.sk-parallel-item:only-child::after {width: 0;}#sk-container-id-7 div.sk-dashed-wrapped {border: 1px dashed gray;margin: 0 0.4em 0.5em 0.4em;box-sizing: border-box;padding-bottom: 0.4em;background-color: white;}#sk-container-id-7 div.sk-label label {font-family: monospace;font-weight: bold;display: inline-block;line-height: 1.2em;}#sk-container-id-7 div.sk-label-container {text-align: center;}#sk-container-id-7 div.sk-container {/* jupyter's `normalize.less` sets `[hidden] { display: none; }` but bootstrap.min.css set `[hidden] { display: none !important; }` so we also need the `!important` here to be able to override the default hidden behavior on the sphinx rendered scikit-learn.org. See: https://github.com/scikit-learn/scikit-learn/issues/21755 */display: inline-block !important;position: relative;}#sk-container-id-7 div.sk-text-repr-fallback {display: none;}</style><div id=\"sk-container-id-7\" class=\"sk-top-container\"><div class=\"sk-text-repr-fallback\"><pre>GridSearchCV(cv=4,\n",
       "             estimator=XGBClassifier(base_score=None, booster=None,\n",
       "                                     callbacks=None, colsample_bylevel=None,\n",
       "                                     colsample_bynode=None,\n",
       "                                     colsample_bytree=None,\n",
       "                                     early_stopping_rounds=None,\n",
       "                                     enable_categorical=False, eval_metric=None,\n",
       "                                     feature_types=None, gamma=None,\n",
       "                                     gpu_id=None, grow_policy=None,\n",
       "                                     importance_type=None,\n",
       "                                     interaction_constraints=None,\n",
       "                                     learning_rate=None,...\n",
       "                                     max_cat_threshold=None,\n",
       "                                     max_cat_to_onehot=None,\n",
       "                                     max_delta_step=None, max_depth=None,\n",
       "                                     max_leaves=None, min_child_weight=None,\n",
       "                                     missing=nan, monotone_constraints=None,\n",
       "                                     n_estimators=100, n_jobs=None,\n",
       "                                     num_parallel_tree=None, predictor=None,\n",
       "                                     random_state=None, ...),\n",
       "             param_grid={&#x27;eta&#x27;: [0.1, 0.2, 0.3], &#x27;max_depth&#x27;: [3, 5, 10],\n",
       "                         &#x27;min_samples_leaf&#x27;: [5, 10, 20],\n",
       "                         &#x27;n_estimators&#x27;: [100, 200, 300, 400]})</pre><b>In a Jupyter environment, please rerun this cell to show the HTML representation or trust the notebook. <br />On GitHub, the HTML representation is unable to render, please try loading this page with nbviewer.org.</b></div><div class=\"sk-container\" hidden><div class=\"sk-item sk-dashed-wrapped\"><div class=\"sk-label-container\"><div class=\"sk-label sk-toggleable\"><input class=\"sk-toggleable__control sk-hidden--visually\" id=\"sk-estimator-id-41\" type=\"checkbox\" ><label for=\"sk-estimator-id-41\" class=\"sk-toggleable__label sk-toggleable__label-arrow\">GridSearchCV</label><div class=\"sk-toggleable__content\"><pre>GridSearchCV(cv=4,\n",
       "             estimator=XGBClassifier(base_score=None, booster=None,\n",
       "                                     callbacks=None, colsample_bylevel=None,\n",
       "                                     colsample_bynode=None,\n",
       "                                     colsample_bytree=None,\n",
       "                                     early_stopping_rounds=None,\n",
       "                                     enable_categorical=False, eval_metric=None,\n",
       "                                     feature_types=None, gamma=None,\n",
       "                                     gpu_id=None, grow_policy=None,\n",
       "                                     importance_type=None,\n",
       "                                     interaction_constraints=None,\n",
       "                                     learning_rate=None,...\n",
       "                                     max_cat_threshold=None,\n",
       "                                     max_cat_to_onehot=None,\n",
       "                                     max_delta_step=None, max_depth=None,\n",
       "                                     max_leaves=None, min_child_weight=None,\n",
       "                                     missing=nan, monotone_constraints=None,\n",
       "                                     n_estimators=100, n_jobs=None,\n",
       "                                     num_parallel_tree=None, predictor=None,\n",
       "                                     random_state=None, ...),\n",
       "             param_grid={&#x27;eta&#x27;: [0.1, 0.2, 0.3], &#x27;max_depth&#x27;: [3, 5, 10],\n",
       "                         &#x27;min_samples_leaf&#x27;: [5, 10, 20],\n",
       "                         &#x27;n_estimators&#x27;: [100, 200, 300, 400]})</pre></div></div></div><div class=\"sk-parallel\"><div class=\"sk-parallel-item\"><div class=\"sk-item\"><div class=\"sk-label-container\"><div class=\"sk-label sk-toggleable\"><input class=\"sk-toggleable__control sk-hidden--visually\" id=\"sk-estimator-id-42\" type=\"checkbox\" ><label for=\"sk-estimator-id-42\" class=\"sk-toggleable__label sk-toggleable__label-arrow\">estimator: XGBClassifier</label><div class=\"sk-toggleable__content\"><pre>XGBClassifier(base_score=None, booster=None, callbacks=None,\n",
       "              colsample_bylevel=None, colsample_bynode=None,\n",
       "              colsample_bytree=None, early_stopping_rounds=None,\n",
       "              enable_categorical=False, eval_metric=None, feature_types=None,\n",
       "              gamma=None, gpu_id=None, grow_policy=None, importance_type=None,\n",
       "              interaction_constraints=None, learning_rate=None, max_bin=None,\n",
       "              max_cat_threshold=None, max_cat_to_onehot=None,\n",
       "              max_delta_step=None, max_depth=None, max_leaves=None,\n",
       "              min_child_weight=None, missing=nan, monotone_constraints=None,\n",
       "              n_estimators=100, n_jobs=None, num_parallel_tree=None,\n",
       "              predictor=None, random_state=None, ...)</pre></div></div></div><div class=\"sk-serial\"><div class=\"sk-item\"><div class=\"sk-estimator sk-toggleable\"><input class=\"sk-toggleable__control sk-hidden--visually\" id=\"sk-estimator-id-43\" type=\"checkbox\" ><label for=\"sk-estimator-id-43\" class=\"sk-toggleable__label sk-toggleable__label-arrow\">XGBClassifier</label><div class=\"sk-toggleable__content\"><pre>XGBClassifier(base_score=None, booster=None, callbacks=None,\n",
       "              colsample_bylevel=None, colsample_bynode=None,\n",
       "              colsample_bytree=None, early_stopping_rounds=None,\n",
       "              enable_categorical=False, eval_metric=None, feature_types=None,\n",
       "              gamma=None, gpu_id=None, grow_policy=None, importance_type=None,\n",
       "              interaction_constraints=None, learning_rate=None, max_bin=None,\n",
       "              max_cat_threshold=None, max_cat_to_onehot=None,\n",
       "              max_delta_step=None, max_depth=None, max_leaves=None,\n",
       "              min_child_weight=None, missing=nan, monotone_constraints=None,\n",
       "              n_estimators=100, n_jobs=None, num_parallel_tree=None,\n",
       "              predictor=None, random_state=None, ...)</pre></div></div></div></div></div></div></div></div></div></div>"
      ],
      "text/plain": [
       "GridSearchCV(cv=4,\n",
       "             estimator=XGBClassifier(base_score=None, booster=None,\n",
       "                                     callbacks=None, colsample_bylevel=None,\n",
       "                                     colsample_bynode=None,\n",
       "                                     colsample_bytree=None,\n",
       "                                     early_stopping_rounds=None,\n",
       "                                     enable_categorical=False, eval_metric=None,\n",
       "                                     feature_types=None, gamma=None,\n",
       "                                     gpu_id=None, grow_policy=None,\n",
       "                                     importance_type=None,\n",
       "                                     interaction_constraints=None,\n",
       "                                     learning_rate=None,...\n",
       "                                     max_cat_threshold=None,\n",
       "                                     max_cat_to_onehot=None,\n",
       "                                     max_delta_step=None, max_depth=None,\n",
       "                                     max_leaves=None, min_child_weight=None,\n",
       "                                     missing=nan, monotone_constraints=None,\n",
       "                                     n_estimators=100, n_jobs=None,\n",
       "                                     num_parallel_tree=None, predictor=None,\n",
       "                                     random_state=None, ...),\n",
       "             param_grid={'eta': [0.1, 0.2, 0.3], 'max_depth': [3, 5, 10],\n",
       "                         'min_samples_leaf': [5, 10, 20],\n",
       "                         'n_estimators': [100, 200, 300, 400]})"
      ]
     },
     "execution_count": 54,
     "metadata": {},
     "output_type": "execute_result"
    }
   ],
   "source": [
    "xgboost_gridcv.fit(X_train_preprocess, y_train)"
   ]
  },
  {
   "cell_type": "code",
   "execution_count": 55,
   "id": "5e4b4915",
   "metadata": {
    "execution": {
     "iopub.execute_input": "2023-10-25T08:50:04.253531Z",
     "iopub.status.busy": "2023-10-25T08:50:04.253135Z",
     "iopub.status.idle": "2023-10-25T08:50:04.260551Z",
     "shell.execute_reply": "2023-10-25T08:50:04.259468Z"
    },
    "papermill": {
     "duration": 0.052815,
     "end_time": "2023-10-25T08:50:04.262900",
     "exception": false,
     "start_time": "2023-10-25T08:50:04.210085",
     "status": "completed"
    },
    "tags": []
   },
   "outputs": [
    {
     "data": {
      "text/plain": [
       "{'eta': 0.1, 'max_depth': 5, 'min_samples_leaf': 5, 'n_estimators': 100}"
      ]
     },
     "execution_count": 55,
     "metadata": {},
     "output_type": "execute_result"
    }
   ],
   "source": [
    "xgboost_gridcv.best_params_"
   ]
  },
  {
   "cell_type": "markdown",
   "id": "d74669a0",
   "metadata": {
    "papermill": {
     "duration": 0.040321,
     "end_time": "2023-10-25T08:50:04.342839",
     "exception": false,
     "start_time": "2023-10-25T08:50:04.302518",
     "status": "completed"
    },
    "tags": []
   },
   "source": [
    "### Model testing after hyperparameter tuning"
   ]
  },
  {
   "cell_type": "code",
   "execution_count": 56,
   "id": "0b5097a5",
   "metadata": {
    "execution": {
     "iopub.execute_input": "2023-10-25T08:50:04.424781Z",
     "iopub.status.busy": "2023-10-25T08:50:04.424361Z",
     "iopub.status.idle": "2023-10-25T08:50:04.438480Z",
     "shell.execute_reply": "2023-10-25T08:50:04.437539Z"
    },
    "papermill": {
     "duration": 0.057816,
     "end_time": "2023-10-25T08:50:04.440964",
     "exception": false,
     "start_time": "2023-10-25T08:50:04.383148",
     "status": "completed"
    },
    "tags": []
   },
   "outputs": [
    {
     "data": {
      "text/plain": [
       "0.8"
      ]
     },
     "execution_count": 56,
     "metadata": {},
     "output_type": "execute_result"
    }
   ],
   "source": [
    "np.around(xgboost_gridcv.best_estimator_.score(X_valid_preprocess, y_valid), 2)"
   ]
  },
  {
   "cell_type": "code",
   "execution_count": 57,
   "id": "91a5a53f",
   "metadata": {
    "execution": {
     "iopub.execute_input": "2023-10-25T08:50:04.522230Z",
     "iopub.status.busy": "2023-10-25T08:50:04.521862Z",
     "iopub.status.idle": "2023-10-25T08:50:04.535668Z",
     "shell.execute_reply": "2023-10-25T08:50:04.534659Z"
    },
    "papermill": {
     "duration": 0.057221,
     "end_time": "2023-10-25T08:50:04.538459",
     "exception": false,
     "start_time": "2023-10-25T08:50:04.481238",
     "status": "completed"
    },
    "tags": []
   },
   "outputs": [
    {
     "name": "stdout",
     "output_type": "stream",
     "text": [
      "F1-score: 0.8\n"
     ]
    }
   ],
   "source": [
    "y_pred =xgboost_gridcv.predict(X_valid_preprocess)\n",
    "print(f\"F1-score: {np.around(f1_score(y_valid, y_pred),2)}\")"
   ]
  },
  {
   "cell_type": "code",
   "execution_count": 58,
   "id": "ad37f0f6",
   "metadata": {
    "execution": {
     "iopub.execute_input": "2023-10-25T08:50:04.622835Z",
     "iopub.status.busy": "2023-10-25T08:50:04.622413Z",
     "iopub.status.idle": "2023-10-25T08:50:04.867692Z",
     "shell.execute_reply": "2023-10-25T08:50:04.866520Z"
    },
    "papermill": {
     "duration": 0.289437,
     "end_time": "2023-10-25T08:50:04.870330",
     "exception": false,
     "start_time": "2023-10-25T08:50:04.580893",
     "status": "completed"
    },
    "tags": []
   },
   "outputs": [
    {
     "data": {
      "image/png": "[encoded data removed]",
      "text/plain": [
       "<Figure size 640x480 with 2 Axes>"
      ]
     },
     "metadata": {},
     "output_type": "display_data"
    }
   ],
   "source": [
    "conf_mat = confusion_matrix(y_valid, y_pred)\n",
    "plt.title(\"Confusion matrix\")\n",
    "sns.heatmap(conf_mat, annot=True, cmap=sns.cubehelix_palette(as_cmap=True), fmt='d')\n",
    "plt.show()"
   ]
  },
  {
   "cell_type": "markdown",
   "id": "525b2249",
   "metadata": {
    "papermill": {
     "duration": 0.040454,
     "end_time": "2023-10-25T08:50:04.950837",
     "exception": false,
     "start_time": "2023-10-25T08:50:04.910383",
     "status": "completed"
    },
    "tags": []
   },
   "source": [
    "## Make a submisson"
   ]
  },
  {
   "cell_type": "code",
   "execution_count": 59,
   "id": "ed4d9051",
   "metadata": {
    "execution": {
     "iopub.execute_input": "2023-10-25T08:50:05.033628Z",
     "iopub.status.busy": "2023-10-25T08:50:05.032280Z",
     "iopub.status.idle": "2023-10-25T08:50:05.083000Z",
     "shell.execute_reply": "2023-10-25T08:50:05.081993Z"
    },
    "papermill": {
     "duration": 0.095515,
     "end_time": "2023-10-25T08:50:05.086411",
     "exception": false,
     "start_time": "2023-10-25T08:50:04.990896",
     "status": "completed"
    },
    "tags": []
   },
   "outputs": [],
   "source": [
    "submission_set_preprocess = preprocess.transform(submission_set)\n",
    "final_predictions = xgboost_gridcv.predict(submission_set_preprocess)"
   ]
  },
  {
   "cell_type": "code",
   "execution_count": 60,
   "id": "d7d8048e",
   "metadata": {
    "execution": {
     "iopub.execute_input": "2023-10-25T08:50:05.174195Z",
     "iopub.status.busy": "2023-10-25T08:50:05.173800Z",
     "iopub.status.idle": "2023-10-25T08:50:05.181126Z",
     "shell.execute_reply": "2023-10-25T08:50:05.180281Z"
    },
    "papermill": {
     "duration": 0.054419,
     "end_time": "2023-10-25T08:50:05.183287",
     "exception": false,
     "start_time": "2023-10-25T08:50:05.128868",
     "status": "completed"
    },
    "tags": []
   },
   "outputs": [
    {
     "data": {
      "text/plain": [
       "array([ True, False,  True, ...,  True,  True,  True])"
      ]
     },
     "execution_count": 60,
     "metadata": {},
     "output_type": "execute_result"
    }
   ],
   "source": [
    "preds = final_predictions.astype(\"bool\")\n",
    "preds"
   ]
  },
  {
   "cell_type": "code",
   "execution_count": 61,
   "id": "6f88c52f",
   "metadata": {
    "execution": {
     "iopub.execute_input": "2023-10-25T08:50:05.267564Z",
     "iopub.status.busy": "2023-10-25T08:50:05.267096Z",
     "iopub.status.idle": "2023-10-25T08:50:05.282481Z",
     "shell.execute_reply": "2023-10-25T08:50:05.281207Z"
    },
    "papermill": {
     "duration": 0.060999,
     "end_time": "2023-10-25T08:50:05.285068",
     "exception": false,
     "start_time": "2023-10-25T08:50:05.224069",
     "status": "completed"
    },
    "tags": []
   },
   "outputs": [
    {
     "data": {
      "text/html": [
       "<div>\n",
       "<style scoped>\n",
       "    .dataframe tbody tr th:only-of-type {\n",
       "        vertical-align: middle;\n",
       "    }\n",
       "\n",
       "    .dataframe tbody tr th {\n",
       "        vertical-align: top;\n",
       "    }\n",
       "\n",
       "    .dataframe thead th {\n",
       "        text-align: right;\n",
       "    }\n",
       "</style>\n",
       "<table border=\"1\" class=\"dataframe\">\n",
       "  <thead>\n",
       "    <tr style=\"text-align: right;\">\n",
       "      <th></th>\n",
       "      <th>PassengerId</th>\n",
       "      <th>Transported</th>\n",
       "    </tr>\n",
       "  </thead>\n",
       "  <tbody>\n",
       "    <tr>\n",
       "      <th>0</th>\n",
       "      <td>0013_01</td>\n",
       "      <td>True</td>\n",
       "    </tr>\n",
       "    <tr>\n",
       "      <th>1</th>\n",
       "      <td>0018_01</td>\n",
       "      <td>False</td>\n",
       "    </tr>\n",
       "    <tr>\n",
       "      <th>2</th>\n",
       "      <td>0019_01</td>\n",
       "      <td>True</td>\n",
       "    </tr>\n",
       "    <tr>\n",
       "      <th>3</th>\n",
       "      <td>0021_01</td>\n",
       "      <td>True</td>\n",
       "    </tr>\n",
       "    <tr>\n",
       "      <th>4</th>\n",
       "      <td>0023_01</td>\n",
       "      <td>True</td>\n",
       "    </tr>\n",
       "    <tr>\n",
       "      <th>...</th>\n",
       "      <td>...</td>\n",
       "      <td>...</td>\n",
       "    </tr>\n",
       "    <tr>\n",
       "      <th>4272</th>\n",
       "      <td>9266_02</td>\n",
       "      <td>True</td>\n",
       "    </tr>\n",
       "    <tr>\n",
       "      <th>4273</th>\n",
       "      <td>9269_01</td>\n",
       "      <td>False</td>\n",
       "    </tr>\n",
       "    <tr>\n",
       "      <th>4274</th>\n",
       "      <td>9271_01</td>\n",
       "      <td>True</td>\n",
       "    </tr>\n",
       "    <tr>\n",
       "      <th>4275</th>\n",
       "      <td>9273_01</td>\n",
       "      <td>True</td>\n",
       "    </tr>\n",
       "    <tr>\n",
       "      <th>4276</th>\n",
       "      <td>9277_01</td>\n",
       "      <td>True</td>\n",
       "    </tr>\n",
       "  </tbody>\n",
       "</table>\n",
       "<p>4277 rows × 2 columns</p>\n",
       "</div>"
      ],
      "text/plain": [
       "     PassengerId  Transported\n",
       "0        0013_01         True\n",
       "1        0018_01        False\n",
       "2        0019_01         True\n",
       "3        0021_01         True\n",
       "4        0023_01         True\n",
       "...          ...          ...\n",
       "4272     9266_02         True\n",
       "4273     9269_01        False\n",
       "4274     9271_01         True\n",
       "4275     9273_01         True\n",
       "4276     9277_01         True\n",
       "\n",
       "[4277 rows x 2 columns]"
      ]
     },
     "execution_count": 61,
     "metadata": {},
     "output_type": "execute_result"
    }
   ],
   "source": [
    "submission_df = pd.DataFrame({\"PassengerId\": submission_set[\"PassengerId\"], \"Transported\": preds})\n",
    "submission_df"
   ]
  },
  {
   "cell_type": "code",
   "execution_count": 62,
   "id": "b2eba324",
   "metadata": {
    "execution": {
     "iopub.execute_input": "2023-10-25T08:50:05.369347Z",
     "iopub.status.busy": "2023-10-25T08:50:05.368836Z",
     "iopub.status.idle": "2023-10-25T08:50:05.388139Z",
     "shell.execute_reply": "2023-10-25T08:50:05.386835Z"
    },
    "papermill": {
     "duration": 0.064462,
     "end_time": "2023-10-25T08:50:05.390891",
     "exception": false,
     "start_time": "2023-10-25T08:50:05.326429",
     "status": "completed"
    },
    "tags": []
   },
   "outputs": [],
   "source": [
    "submission_df.to_csv(\"submission.csv\", index=False)"
   ]
  }
 ],
 "metadata": {
  "kernelspec": {
   "display_name": "Python 3",
   "language": "python",
   "name": "python3"
  },
  "language_info": {
   "codemirror_mode": {
    "name": "ipython",
    "version": 3
   },
   "file_extension": ".py",
   "mimetype": "text/x-python",
   "name": "python",
   "nbconvert_exporter": "python",
   "pygments_lexer": "ipython3",
   "version": "3.10.12"
  },
  "papermill": {
   "default_parameters": {},
   "duration": 1340.957848,
   "end_time": "2023-10-25T08:50:06.159653",
   "environment_variables": {},
   "exception": null,
   "input_path": "__notebook__.ipynb",
   "output_path": "__notebook__.ipynb",
   "parameters": {},
   "start_time": "2023-10-25T08:27:45.201805",
   "version": "2.4.0"
  }
 },
 "nbformat": 4,
 "nbformat_minor": 5
}
